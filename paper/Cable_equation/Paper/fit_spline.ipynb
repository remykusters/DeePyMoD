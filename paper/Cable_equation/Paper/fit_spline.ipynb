{
 "cells": [
  {
   "cell_type": "code",
   "execution_count": 1,
   "metadata": {},
   "outputs": [],
   "source": [
    "import csv\n",
    "import torch\n",
    "import numpy as np\n",
    "import matplotlib.pyplot as plt\n",
    "from scipy.interpolate import interp1d\n",
    "\n",
    "# DeepMoD stuff\n",
    "from deepymod import DeepMoD\n",
    "from deepymod.model.func_approx import NN, Siren\n",
    "from deepymod.model.library import Library1D\n",
    "from deepymod.model.constraint import LeastSquares\n",
    "from deepymod.model.sparse_estimators import Clustering, Threshold, PDEFIND\n",
    "from deepymod.training import train\n",
    "from deepymod.analysis import load_tensorboard\n",
    "from derivatives import library, finite_diff, spline_diff\n",
    "\n",
    "# %% Imports\n",
    "from scipy.ndimage import convolve1d\n",
    "from scipy.interpolate import UnivariateSpline\n",
    "import numpy as np\n",
    "from deepymod.data import Dataset\n",
    "from deepymod.data.burgers import BurgersDelta\n",
    "from sklearn.linear_model import LassoCV\n",
    "\n",
    "from deepymod.training.sparsity_scheduler import TrainTestPeriodic\n",
    "if torch.cuda.is_available():\n",
    "    device = 'cuda'\n",
    "else:\n",
    "    device = 'cpu'\n",
    "# Settings for reproducibility\n",
    "np.random.seed(42)\n",
    "torch.manual_seed(0)\n",
    "torch.backends.cudnn.deterministic = True\n",
    "torch.backends.cudnn.benchmark = False"
   ]
  },
  {
   "cell_type": "code",
   "execution_count": 2,
   "metadata": {},
   "outputs": [],
   "source": [
    "# %% Functions\n",
    "def finite_diff(y, x, order, axis=0, bc_mode='reflect'):\n",
    "    ''' Calculates finite difference of order n over axis. \n",
    "    Uses 2nd order accurate central difference.'''\n",
    "    step_size = np.diff(x)[0] # assumes step size is constant\n",
    "    if order == 1:\n",
    "        stencil = np.array([1/2, 0, -1/2])\n",
    "    elif order == 2:\n",
    "        stencil = np.array([1, -2, 1])\n",
    "    elif order == 3:\n",
    "        stencil = np.array([1/2, -1, 0, 1, -1/2])\n",
    "    else:\n",
    "        raise NotImplementedError\n",
    "\n",
    "    deriv = convolve1d(y, stencil, axis=axis, mode=bc_mode) / step_size**order\n",
    "    return deriv\n",
    "\n",
    "\n",
    "def spline_diff(y, x, order, **spline_kwargs):\n",
    "    \"\"\"Fits spline to data and returns derivatives of given order. order=0 corresponds to data.\n",
    "    Good defaults for spline, k=4, s=1e-2/0.0 if not smooth\"\"\"\n",
    "    spline = UnivariateSpline(x, y, **spline_kwargs)\n",
    "    return spline(x, nu=order)\n",
    "\n",
    "\n",
    "def library(y, x, t, poly_order=2, deriv_order=3, deriv_kind='spline', **deriv_kwargs):\n",
    "    ''' Returns time deriv and library of given data. x and t are vectors, first axis of y should be time.'''\n",
    "    if deriv_kind == 'spline':\n",
    "        # Calculating polynomials\n",
    "        u = np.stack([spline_diff(y[frame, :], x, order=0, **deriv_kwargs) for frame in np.arange(t.size)], axis=0).reshape(-1, 1) # if we do a spline on noisy data, we also get a 'denoised' data\n",
    "        u = np.concatenate([u**order for order in np.arange(poly_order+1)], axis=1) # getting polynomials including offset\n",
    "\n",
    "        # Calculating derivatives\n",
    "        du = [np.ones((u.shape[0], 1))]\n",
    "        for order in np.arange(1, deriv_order+1):\n",
    "            du.append(np.stack([spline_diff(y[frame, :], x, order=order, **deriv_kwargs) for frame in np.arange(t.size)], axis=0).reshape(-1, 1)) \n",
    "        du = np.concatenate(du, axis=1)\n",
    "\n",
    "        # Calculating theta\n",
    "        theta = (u[:, :, None] @ du[:, None, :]).reshape(-1, u.shape[1] * du.shape[1])\n",
    "      \n",
    "    elif deriv_kind == 'fd':\n",
    "        # Calculating polynomials\n",
    "        u = np.concatenate([(y**order).reshape(-1, 1) for order in np.arange(poly_order+1)], axis=1)\n",
    "\n",
    "        # Getting derivatives\n",
    "        du = np.concatenate([(finite_diff(y, x, order=order, axis=1, **deriv_kwargs)).reshape(-1, 1) for order in np.arange(1, deriv_order+1)], axis=1)\n",
    "        du = np.concatenate((np.ones((du.shape[0], 1)), du), axis=1)\n",
    "\n",
    "        # Calculating theta\n",
    "        theta = (u[:, :, None] @ du[:, None, :]).reshape(-1, u.shape[1] * du.shape[1])\n",
    "\n",
    "    else:\n",
    "        raise NotImplementedError\n",
    "    # Calculating time diff by finite diff\n",
    "    dt = finite_diff(u[:, 1].reshape(t.size, x.size), t, order=1, axis=0).reshape(-1, 1)\n",
    "    return dt, theta\n",
    "\n"
   ]
  },
  {
   "cell_type": "code",
   "execution_count": 3,
   "metadata": {},
   "outputs": [],
   "source": [
    "# Loading and scaling the data\n",
    "\n",
    "lower_lim, upper_lim = 540, 3000 \n",
    "delta_V = np.load('11_elements.npy')\n",
    "y = delta_V[lower_lim:upper_lim,:]\n",
    "y = y/np.max(y)\n",
    "t = np.linspace(0, 1, y.shape[0])\n",
    "x = np.linspace(0, 1, y.shape[1])"
   ]
  },
  {
   "cell_type": "code",
   "execution_count": 4,
   "metadata": {},
   "outputs": [],
   "source": [
    "threshold = 0.2\n",
    "exp_list = [13,11,9,7,5]\n",
    "xi_list = []\n",
    "for i in exp_list:\n",
    "    delta_V = np.load(str(i)+'_elements.npy')\n",
    "    output_data = delta_V[lower_lim:upper_lim,:]\n",
    "    output_data = output_data/np.max(output_data)\n",
    "    t = np.linspace(0, 1, output_data.shape[0])\n",
    "    x = np.linspace(0, 1, output_data.shape[1])\n",
    "    dt, theta = library(output_data, x, t, deriv_kind='spline',poly_order=1,deriv_order=2, s=0.01, k=4)\n",
    "    theta = theta/np.linalg.norm(theta,axis=0)\n",
    "    dt = dt/np.linalg.norm(dt,axis=0)\n",
    "    reg = LassoCV(fit_intercept=False, cv=25)\n",
    "    xi = reg.fit(theta, dt).coef_[:, None].flatten()\n",
    "    xi[np.abs(xi) < threshold] = 0\n",
    "    xi_list.append(xi)"
   ]
  },
  {
   "cell_type": "code",
   "execution_count": 5,
   "metadata": {},
   "outputs": [
    {
     "data": {
      "text/plain": [
       "array([[ 9.01669635e-03, -4.83699244e-02,  5.88134110e-02,\n",
       "         4.69304886e-03, -2.39325617e-02,  2.98836782e-02],\n",
       "       [ 9.01669635e-03, -7.60656069e-03,  2.04568386e-02,\n",
       "         4.08091206e-04, -3.27268550e-04,  9.03854161e-04],\n",
       "       [ 9.01669635e-03,  1.56032014e-03, -3.65300690e-04,\n",
       "         2.04045603e-04,  3.35660052e-05, -8.07012644e-06],\n",
       "       ...,\n",
       "       [ 9.01669635e-03, -4.29088039e-03,  9.13251724e-04,\n",
       "         9.38609773e-03, -4.24609965e-03,  9.28064540e-04],\n",
       "       [ 9.01669635e-03, -2.34048021e-03,  3.10505586e-03,\n",
       "         8.77396092e-03, -2.16500733e-03,  2.94963121e-03],\n",
       "       [ 9.01669635e-03,  3.12064028e-03,  7.48866414e-03,\n",
       "         8.77396092e-03,  2.88667644e-03,  7.11381646e-03]])"
      ]
     },
     "execution_count": 5,
     "metadata": {},
     "output_type": "execute_result"
    }
   ],
   "source": [
    "theta/np.linalg.norm(theta,axis=0)"
   ]
  },
  {
   "cell_type": "code",
   "execution_count": 6,
   "metadata": {},
   "outputs": [
    {
     "data": {
      "image/png": "[encoded data removed]",
      "text/plain": [
       "<Figure size 216x216 with 1 Axes>"
      ]
     },
     "metadata": {
      "needs_background": "light"
     },
     "output_type": "display_data"
    }
   ],
   "source": [
    "plt.figure(figsize=(3, 3))\n",
    "plt.imshow(np.abs(np.array(xi_list).reshape(5,6)),vmin=0, vmax=0.01)\n",
    "plt.xlabel('Coefficients')\n",
    "plt.ylabel('Spatial sensors')\n",
    "plt.yticks([0,1,2,3,4],['13', '11', '9', '7','5'])\n",
    "plt.xticks([0,1,2,3,4,5],[1,'$u_x$','$u_{xx}$','$u$','$u u_x$','$u u_{xx}$' ])\n",
    "plt.savefig('cable_eq_spline.pdf')"
   ]
  },
  {
   "cell_type": "markdown",
   "metadata": {},
   "source": [
    "y has time on the first axis and space on the second "
   ]
  },
  {
   "cell_type": "code",
   "execution_count": 71,
   "metadata": {},
   "outputs": [
    {
     "data": {
      "text/plain": [
       "(2460, 11)"
      ]
     },
     "execution_count": 71,
     "metadata": {},
     "output_type": "execute_result"
    }
   ],
   "source": [
    "y.shape"
   ]
  },
  {
   "cell_type": "code",
   "execution_count": 72,
   "metadata": {},
   "outputs": [
    {
     "data": {
      "text/plain": [
       "<matplotlib.image.AxesImage at 0x7f7f33f61160>"
      ]
     },
     "execution_count": 72,
     "metadata": {},
     "output_type": "execute_result"
    },
    {
     "data": {
      "image/png": "[encoded data removed]",
      "text/plain": [
       "<Figure size 432x288 with 1 Axes>"
      ]
     },
     "metadata": {
      "needs_background": "light"
     },
     "output_type": "display_data"
    }
   ],
   "source": [
    "plt.imshow(y,aspect=0.001)"
   ]
  },
  {
   "cell_type": "code",
   "execution_count": 74,
   "metadata": {},
   "outputs": [
    {
     "name": "stdout",
     "output_type": "stream",
     "text": [
      "[-0.7381601  -2.55925127  0.28890833 -3.07423606  0.65597657 -0.35623913]\n"
     ]
    }
   ],
   "source": [
    "threshold = 0.1\n",
    "dt, theta = library(y, x, t, deriv_kind='spline',poly_order=1,deriv_order=2, s=0.0001, k=3)\n",
    "reg = LassoCV(fit_intercept=False, cv=10)\n",
    "xi = reg.fit(theta, dt).coef_[:, None].flatten()\n",
    "xi[np.abs(xi) < threshold] = 0\n",
    "print(xi)"
   ]
  },
  {
   "cell_type": "code",
   "execution_count": 75,
   "metadata": {},
   "outputs": [],
   "source": [
    "noise = 0.02\n",
    "A = 1\n",
    "v = 0.25\n",
    "\n",
    "runs = 1\n",
    "dataset = Dataset(BurgersDelta, A=A, v=v)\n",
    "n_x, n_t = 100, 50 \n",
    "x = np.linspace(-2, 2, n_x)\n",
    "t = np.linspace(0.1, 1.1, n_t) \n",
    "t_grid, x_grid = np.meshgrid(t, x, indexing='ij')\n",
    "X, y = dataset.create_dataset(x_grid.reshape(-1, 1), t_grid.reshape(-1, 1), n_samples=0, noise=noise, random=False, normalize=False)\n",
    "y= y.reshape(t.shape[0],x.shape[0]).numpy()"
   ]
  },
  {
   "cell_type": "markdown",
   "metadata": {},
   "source": [
    "y has time on the first axis and space on the second "
   ]
  },
  {
   "cell_type": "code",
   "execution_count": 76,
   "metadata": {},
   "outputs": [
    {
     "data": {
      "text/plain": [
       "(50, 100)"
      ]
     },
     "execution_count": 76,
     "metadata": {},
     "output_type": "execute_result"
    }
   ],
   "source": [
    "y.shape"
   ]
  },
  {
   "cell_type": "code",
   "execution_count": 77,
   "metadata": {},
   "outputs": [
    {
     "data": {
      "text/plain": [
       "<matplotlib.image.AxesImage at 0x7f7f33f26fa0>"
      ]
     },
     "execution_count": 77,
     "metadata": {},
     "output_type": "execute_result"
    },
    {
     "data": {
      "image/png": "[encoded data removed]",
      "text/plain": [
       "<Figure size 432x288 with 1 Axes>"
      ]
     },
     "metadata": {
      "needs_background": "light"
     },
     "output_type": "display_data"
    }
   ],
   "source": [
    "plt.imshow(y,aspect=1)"
   ]
  },
  {
   "cell_type": "code",
   "execution_count": 78,
   "metadata": {},
   "outputs": [
    {
     "name": "stdout",
     "output_type": "stream",
     "text": [
      "[ 0.2941514  -0.38277507  0.         -1.16642921 -0.24891237  0.        ]\n"
     ]
    }
   ],
   "source": [
    "threshold = 0.1\n",
    "dt, theta = library(y, x, t, deriv_kind='spline',poly_order=1,deriv_order=2, s=0.00, k=3)\n",
    "reg = LassoCV(fit_intercept=False, cv=10)\n",
    "xi = reg.fit(theta, dt).coef_[:, None].flatten()\n",
    "xi[np.abs(xi) < threshold] = 0\n",
    "print(xi)"
   ]
  },
  {
   "cell_type": "code",
   "execution_count": null,
   "metadata": {},
   "outputs": [],
   "source": []
  },
  {
   "cell_type": "code",
   "execution_count": null,
   "metadata": {},
   "outputs": [],
   "source": []
  }
 ],
 "metadata": {
  "kernelspec": {
   "display_name": "Python 3",
   "language": "python",
   "name": "python3"
  },
  "language_info": {
   "codemirror_mode": {
    "name": "ipython",
    "version": 3
   },
   "file_extension": ".py",
   "mimetype": "text/x-python",
   "name": "python",
   "nbconvert_exporter": "python",
   "pygments_lexer": "ipython3",
   "version": "3.8.3"
  }
 },
 "nbformat": 4,
 "nbformat_minor": 4
}
