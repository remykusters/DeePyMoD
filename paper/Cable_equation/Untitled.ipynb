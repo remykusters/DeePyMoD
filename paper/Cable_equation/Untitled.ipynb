{
 "cells": [
  {
   "cell_type": "code",
   "execution_count": 1,
   "metadata": {},
   "outputs": [],
   "source": [
    "# %% Imports\n",
    "from scipy.ndimage import convolve1d\n",
    "from scipy.interpolate import UnivariateSpline\n",
    "import numpy as np\n",
    "from deepymod.data import Dataset\n",
    "from deepymod.data.burgers import BurgersDelta\n",
    "from sklearn.linear_model import LassoCV\n",
    "\n",
    "# %% Functions\n",
    "def finite_diff(y, x, order, axis=0, bc_mode='reflect'):\n",
    "    ''' Calculates finite difference of order n over axis. \n",
    "    Uses 2nd order accurate central difference.'''\n",
    "    step_size = np.diff(x)[0] # assumes step size is constant\n",
    "    if order == 1:\n",
    "        stencil = np.array([1/2, 0, -1/2])\n",
    "    elif order == 2:\n",
    "        stencil = np.array([1, -2, 1])\n",
    "    elif order == 3:\n",
    "        stencil = np.array([1/2, -1, 0, 1, -1/2])\n",
    "    else:\n",
    "        raise NotImplementedError\n",
    "\n",
    "    deriv = convolve1d(y, stencil, axis=axis, mode=bc_mode) / step_size**order\n",
    "    return deriv\n",
    "\n",
    "\n",
    "def spline_diff(y, x, order, **spline_kwargs):\n",
    "    \"\"\"Fits spline to data and returns derivatives of given order. order=0 corresponds to data.\n",
    "    Good defaults for spline, k=4, s=1e-2/0.0 if not smooth\"\"\"\n",
    "    spline = UnivariateSpline(x, y, **spline_kwargs)\n",
    "    return spline(x, nu=order)\n",
    "\n",
    "\n",
    "def library(y, x, t, poly_order=2, deriv_order=3, deriv_kind='spline', **deriv_kwargs):\n",
    "    ''' Returns time deriv and library of given data. x and t are vectors, first axis of y should be time.'''\n",
    "    if deriv_kind == 'spline':\n",
    "        # Calculating polynomials\n",
    "        u = np.stack([spline_diff(y[frame, :], x, order=0, **deriv_kwargs) for frame in np.arange(t.size)], axis=0).reshape(-1, 1) # if we do a spline on noisy data, we also get a 'denoised' data\n",
    "        u = np.concatenate([u**order for order in np.arange(poly_order+1)], axis=1) # getting polynomials including offset\n",
    "\n",
    "        # Calculating derivatives\n",
    "        du = [np.ones((u.shape[0], 1))]\n",
    "        for order in np.arange(1, deriv_order+1):\n",
    "            du.append(np.stack([spline_diff(y[frame, :], x, order=order, **deriv_kwargs) for frame in np.arange(t.size)], axis=0).reshape(-1, 1)) \n",
    "        du = np.concatenate(du, axis=1)\n",
    "\n",
    "        # Calculating theta\n",
    "        theta = (u[:, :, None] @ du[:, None, :]).reshape(-1, u.shape[1] * du.shape[1])\n",
    "      \n",
    "    elif deriv_kind == 'fd':\n",
    "        # Calculating polynomials\n",
    "        u = np.concatenate([(y**order).reshape(-1, 1) for order in np.arange(poly_order+1)], axis=1)\n",
    "\n",
    "        # Getting derivatives\n",
    "        du = np.concatenate([(finite_diff(y, x, order=order, axis=1, **deriv_kwargs)).reshape(-1, 1) for order in np.arange(1, deriv_order+1)], axis=1)\n",
    "        du = np.concatenate((np.ones((du.shape[0], 1)), du), axis=1)\n",
    "\n",
    "        # Calculating theta\n",
    "        theta = (u[:, :, None] @ du[:, None, :]).reshape(-1, u.shape[1] * du.shape[1])\n",
    "\n",
    "    else:\n",
    "        raise NotImplementedError\n",
    "    # Calculating time diff by finite diff\n",
    "    dt = finite_diff(u[:, 1].reshape(t.size, x.size), t, order=1, axis=0).reshape(-1, 1)\n",
    "    return dt, theta\n",
    "\n",
    "\n",
    "# %% testing\n",
    "A = 1\n",
    "v = 0.25\n",
    "\n",
    "dataset = Dataset(BurgersDelta, A=A, v=v)\n",
    "\n",
    "x = np.linspace(-4, 4, 100)\n",
    "t = np.linspace(0.1, 2.0, 50) \n",
    "t_grid, x_grid = np.meshgrid(t, x, indexing='ij')\n",
    "u_true = dataset.generate_solution(x_grid, t_grid) "
   ]
  },
  {
   "cell_type": "code",
   "execution_count": 2,
   "metadata": {},
   "outputs": [
    {
     "data": {
      "text/plain": [
       "(50, 100)"
      ]
     },
     "execution_count": 2,
     "metadata": {},
     "output_type": "execute_result"
    }
   ],
   "source": [
    "u_true.shape"
   ]
  },
  {
   "cell_type": "code",
   "execution_count": 3,
   "metadata": {},
   "outputs": [
    {
     "data": {
      "text/plain": [
       "(100,)"
      ]
     },
     "execution_count": 3,
     "metadata": {},
     "output_type": "execute_result"
    }
   ],
   "source": [
    "x.shape"
   ]
  },
  {
   "cell_type": "code",
   "execution_count": 4,
   "metadata": {},
   "outputs": [
    {
     "data": {
      "text/plain": [
       "(50,)"
      ]
     },
     "execution_count": 4,
     "metadata": {},
     "output_type": "execute_result"
    }
   ],
   "source": [
    "t.shape"
   ]
  },
  {
   "cell_type": "code",
   "execution_count": null,
   "metadata": {},
   "outputs": [],
   "source": [
    "\n",
    "# %% Checking finite diff\n",
    "dt, theta = library(u_true, x, t, deriv_kind='fd')\n",
    "print(np.linalg.lstsq(theta, dt)[0]) # normal lst sq.\n",
    "print(np.linalg.lstsq(theta.reshape(50, 100, 12)[2:-2, 3:-3, :].reshape(-1, 12), dt.reshape(50, 100)[2:-2, 3:-3].reshape(-1, 1))[0]) # lst sq. with edges cut off\n",
    "\n",
    "reg = LassoCV(fit_intercept=False, cv=10)\n",
    "print(reg.fit(theta, dt).coef_[:, None])# %%\n",
    "print(reg.fit(theta.reshape(50, 100, 12)[2:-2, 3:-3, :].reshape(-1, 12), dt.reshape(50, 100)[2:-2, 3:-3].reshape(-1, 1)).coef_[:, None])# %%\n",
    "\n",
    "# %% Checking spline \n",
    "dt, theta = library(u_true, x, t, deriv_kind='spline', s=0.0, k=5) #s=0.0 is necessary for decent spline fit\n",
    "print(np.linalg.lstsq(theta, dt)[0]) # normal lst sq.\n",
    "print(np.linalg.lstsq(theta.reshape(50, 100, 12)[2:-2, 3:-3, :].reshape(-1, 12), dt.reshape(50, 100)[2:-2, 3:-3].reshape(-1, 1))[0]) # lst sq. with edges cut off\n",
    "\n",
    "reg = LassoCV(fit_intercept=False, cv=10)\n",
    "print(reg.fit(theta, dt).coef_[:, None])# %%\n",
    "print(reg.fit(theta.reshape(50, 100, 12)[2:-2, 3:-3, :].reshape(-1, 12), dt.reshape(50, 100)[2:-2, 3:-3].reshape(-1, 1)).coef_[:, None])# %%\n",
    "\n"
   ]
  }
 ],
 "metadata": {
  "kernelspec": {
   "display_name": "Python 3",
   "language": "python",
   "name": "python3"
  },
  "language_info": {
   "codemirror_mode": {
    "name": "ipython",
    "version": 3
   },
   "file_extension": ".py",
   "mimetype": "text/x-python",
   "name": "python",
   "nbconvert_exporter": "python",
   "pygments_lexer": "ipython3",
   "version": "3.8.3"
  }
 },
 "nbformat": 4,
 "nbformat_minor": 4
}
