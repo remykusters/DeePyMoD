{
 "cells": [
  {
   "cell_type": "markdown",
   "metadata": {},
   "source": [
    "# 2D Advection-Diffusion equation"
   ]
  },
  {
   "cell_type": "markdown",
   "metadata": {},
   "source": [
    "in this notebook we provide a simple example of the DeepMoD algorithm and apply it on the 2D advection-diffusion equation. "
   ]
  },
  {
   "cell_type": "code",
   "execution_count": 1,
   "metadata": {},
   "outputs": [],
   "source": [
    "# General imports\n",
    "import numpy as np\n",
    "import torch\n",
    "# DeepMoD functions\n",
    "from deepymod import DeepMoD\n",
    "from deepymod.model.func_approx import NN\n",
    "from deepymod.model.library import Library2D_third\n",
    "from deepymod.model.constraint import LeastSquares\n",
    "from deepymod.model.sparse_estimators import Threshold,PDEFIND\n",
    "from deepymod.training import train\n",
    "from deepymod.training.sparsity_scheduler import TrainTestPeriodic\n",
    "from scipy.io import loadmat\n",
    "\n",
    "# Settings for reproducibility\n",
    "np.random.seed(1)\n",
    "torch.manual_seed(1)\n",
    "\n",
    "if torch.cuda.is_available():\n",
    "    device = 'cuda'\n",
    "else:\n",
    "    device = 'cpu'"
   ]
  },
  {
   "cell_type": "markdown",
   "metadata": {},
   "source": [
    "## Prepare the data"
   ]
  },
  {
   "cell_type": "markdown",
   "metadata": {},
   "source": [
    "Next, we prepare the dataset."
   ]
  },
  {
   "cell_type": "code",
   "execution_count": 2,
   "metadata": {},
   "outputs": [],
   "source": [
    "data = loadmat('Diffusion_2D_space41.mat')\n",
    "data = np.real(data['Expression1']).reshape((41,41,41,4))[:,:,:,3]\n",
    "x_dim, y_dim, t_dim = data.shape"
   ]
  },
  {
   "cell_type": "code",
   "execution_count": 3,
   "metadata": {},
   "outputs": [],
   "source": [
    "time_range = [0.01,0.02,0.05,0.1,0.15,0.2,0.3,0.5,0.75,1,1.5,2,3,4]"
   ]
  },
  {
   "cell_type": "code",
   "execution_count": 4,
   "metadata": {},
   "outputs": [
    {
     "name": "stdout",
     "output_type": "stream",
     "text": [
      "Dowmsampled shape: (11, 11, 14) Total number of data points: 1694\n",
      " 49975  MSE: 4.52e-05  Reg: 6.02e-06  L1: 1.01e+00 Algorithm converged. Writing model to disk.\n",
      "Dowmsampled shape: (11, 11, 14) Total number of data points: 1694\n",
      " 49975  MSE: 2.57e-05  Reg: 2.99e-06  L1: 1.04e+00 Algorithm converged. Writing model to disk.\n",
      "Dowmsampled shape: (11, 11, 14) Total number of data points: 1694\n",
      " 49975  MSE: 2.85e-05  Reg: 3.00e-06  L1: 1.25e+00 Algorithm converged. Writing model to disk.\n",
      "Dowmsampled shape: (11, 11, 14) Total number of data points: 1694\n",
      " 49975  MSE: 3.23e-05  Reg: 4.60e-06  L1: 1.01e+00 Algorithm converged. Writing model to disk.\n",
      "Dowmsampled shape: (11, 11, 14) Total number of data points: 1694\n",
      " 49975  MSE: 5.06e-05  Reg: 2.60e-06  L1: 1.20e+00 Algorithm converged. Writing model to disk.\n",
      "Dowmsampled shape: (11, 11, 14) Total number of data points: 1694\n",
      " 49025  MSE: 1.60e-04  Reg: 1.06e-05  L1: 1.00e+00 Algorithm converged. Writing model to disk.\n",
      "Dowmsampled shape: (11, 11, 14) Total number of data points: 1694\n",
      " 49975  MSE: 1.34e-04  Reg: 5.44e-06  L1: 1.82e+00 Algorithm converged. Writing model to disk.\n",
      "Dowmsampled shape: (11, 11, 14) Total number of data points: 1694\n",
      " 49975  MSE: 3.33e-04  Reg: 3.09e-06  L1: 1.27e+00 Algorithm converged. Writing model to disk.\n",
      "Dowmsampled shape: (11, 11, 14) Total number of data points: 1694\n",
      " 49975  MSE: 7.10e-04  Reg: 1.01e-05  L1: 1.19e+00 Algorithm converged. Writing model to disk.\n",
      "Dowmsampled shape: (11, 11, 14) Total number of data points: 1694\n",
      " 49975  MSE: 1.35e-03  Reg: 1.02e-05  L1: 1.24e+00 Algorithm converged. Writing model to disk.\n",
      "Dowmsampled shape: (11, 11, 14) Total number of data points: 1694\n",
      " 49975  MSE: 2.17e-03  Reg: 5.04e-05  L1: 1.26e+00 Algorithm converged. Writing model to disk.\n",
      "Dowmsampled shape: (11, 11, 14) Total number of data points: 1694\n",
      " 49975  MSE: 5.47e-03  Reg: 1.96e-04  L1: 1.03e+00 Algorithm converged. Writing model to disk.\n",
      "Dowmsampled shape: (11, 11, 14) Total number of data points: 1694\n",
      " 49975  MSE: 1.52e-03  Reg: 2.82e-06  L1: 1.28e+00 Algorithm converged. Writing model to disk.\n",
      "Dowmsampled shape: (11, 11, 14) Total number of data points: 1694\n",
      " 49975  MSE: 1.72e-02  Reg: 2.26e-04  L1: 5.34e+00 Algorithm converged. Writing model to disk.\n"
     ]
    }
   ],
   "source": [
    "for i in time_range:\n",
    "    \n",
    "    # Downsample data and prepare data without noise:\n",
    "    down_data= np.take(np.take(np.take(data,np.arange(0,x_dim,4),axis=0),np.arange(0,y_dim,4),axis=1),np.arange(0,t_dim,3),axis=2)\n",
    "    print(\"Dowmsampled shape:\",down_data.shape, \"Total number of data points:\", np.product(down_data.shape))\n",
    "    index = len(np.arange(0,t_dim,i))    \n",
    "    width, width_2, steps = down_data.shape\n",
    "    x_arr, y_arr, t_arr = np.linspace(0,1,width), np.linspace(0,1,width_2), np.linspace(0,1,steps)\n",
    "    x_grid, y_grid, t_grid = np.meshgrid(x_arr, y_arr, t_arr, indexing='ij')\n",
    "    X, y = np.transpose((t_grid.flatten(), x_grid.flatten(), y_grid.flatten())), np.float32(down_data.reshape((down_data.size, 1)))\n",
    "    \n",
    "    \n",
    "    # Add noise \n",
    "    noise_level = i\n",
    "    y_noisy = y + noise_level * np.std(y) * np.random.randn(y.size, 1)\n",
    "\n",
    "    # Randomize data \n",
    "\n",
    "    idx = np.random.permutation(y.shape[0])\n",
    "    X_train = torch.tensor(X[idx, :], dtype=torch.float32, requires_grad=True).to(device)\n",
    "    y_train = torch.tensor(y_noisy[idx, :], dtype=torch.float32).to(device)\n",
    "\n",
    "    # Configure DeepMoD\n",
    "\n",
    "    network = NN(3, [40, 40, 40, 40], 1)\n",
    "    library = Library2D_third(poly_order=0) \n",
    "    estimator = Threshold(0.05) \n",
    "    sparsity_scheduler = TrainTestPeriodic(periodicity=50, patience=200, delta=1e-5) \n",
    "    constraint = LeastSquares() \n",
    "    model = DeepMoD(network, library, estimator, constraint).to(device)\n",
    "    optimizer = torch.optim.Adam(model.parameters(), betas=(0.99, 0.99), amsgrad=True, lr=2e-3) \n",
    "    logdir='final_runs/Noise_runs_11_11_14/'+str(i)+'/'\n",
    "    train(model, X_train, y_train, optimizer,sparsity_scheduler, log_dir=logdir, split=0.8, max_iterations=50000, delta=1e-6, patience=200) \n"
   ]
  },
  {
   "cell_type": "code",
   "execution_count": null,
   "metadata": {},
   "outputs": [],
   "source": []
  }
 ],
 "metadata": {
  "kernelspec": {
   "display_name": "Python 3",
   "language": "python",
   "name": "python3"
  },
  "language_info": {
   "codemirror_mode": {
    "name": "ipython",
    "version": 3
   },
   "file_extension": ".py",
   "mimetype": "text/x-python",
   "name": "python",
   "nbconvert_exporter": "python",
   "pygments_lexer": "ipython3",
   "version": "3.8.3"
  }
 },
 "nbformat": 4,
 "nbformat_minor": 4
}
