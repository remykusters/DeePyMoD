{
 "cells": [
  {
   "cell_type": "code",
   "execution_count": 1,
   "metadata": {},
   "outputs": [],
   "source": [
    "# General imports\n",
    "import numpy as np\n",
    "import torch\n",
    "import matplotlib.pylab as plt\n",
    "\n",
    "# DeepMoD functions\n",
    "\n",
    "from deepymod import DeepMoD\n",
    "from deepymod.model.func_approx import NN\n",
    "from deepymod.model.library import Library2D_third\n",
    "from deepymod.model.constraint import LeastSquares\n",
    "from deepymod.model.sparse_estimators import Threshold,PDEFIND\n",
    "from deepymod.training import train\n",
    "from deepymod.training.sparsity_scheduler import TrainTestPeriodic\n",
    "from scipy.io import loadmat\n",
    "\n",
    "# Settings for reproducibility\n",
    "np.random.seed(1)\n",
    "torch.manual_seed(1)\n",
    "\n",
    "device = 'cpu'\n",
    "\n",
    "%load_ext autoreload\n",
    "%autoreload 2"
   ]
  },
  {
   "cell_type": "code",
   "execution_count": 63,
   "metadata": {},
   "outputs": [],
   "source": [
    "from sklearn.linear_model import LassoCV\n",
    "from derivatives import finite_diff"
   ]
  },
  {
   "cell_type": "code",
   "execution_count": 64,
   "metadata": {},
   "outputs": [],
   "source": [
    "data = loadmat('Diffusion_2D_space81.mat')\n",
    "data = np.real(data['Expression1']).reshape((81,81,81,4))[:,:,:,3]\n",
    "x_dim, y_dim, t_dim = data.shape"
   ]
  },
  {
   "cell_type": "markdown",
   "metadata": {},
   "source": [
    "## No noise"
   ]
  },
  {
   "cell_type": "code",
   "execution_count": 166,
   "metadata": {},
   "outputs": [],
   "source": [
    "time_range = [1,2,4,6,8,10,12,14,20]\n",
    "#time_range = [20,14,12,10,8,6,4,2,1]\n",
    "x_range = [10,8,5,4,3,2,1] \n",
    "#x_range = [1,2,3,4,5,8,10]"
   ]
  },
  {
   "cell_type": "code",
   "execution_count": 167,
   "metadata": {},
   "outputs": [],
   "source": [
    "mask = np.array([False,False,True,True,True,False])\n",
    "ref = np.array([0,0,0.2,0.02,0.02,0]) \n",
    "ref_b =  np.array([0,0,0.2,0.02,0.02,0]) + 10**-9*np.ones(6)"
   ]
  },
  {
   "cell_type": "code",
   "execution_count": 168,
   "metadata": {},
   "outputs": [
    {
     "name": "stdout",
     "output_type": "stream",
     "text": [
      "Dowmsampled shape: (9, 9, 81)\n",
      "correct\n",
      "Dowmsampled shape: (11, 11, 81)\n",
      "correct\n",
      "Dowmsampled shape: (17, 17, 81)\n",
      "correct\n",
      "Dowmsampled shape: (21, 21, 81)\n",
      "correct\n",
      "Dowmsampled shape: (27, 27, 81)\n",
      "correct\n",
      "Dowmsampled shape: (41, 41, 81)\n",
      "correct\n",
      "Dowmsampled shape: (81, 81, 81)\n",
      "correct\n",
      "Dowmsampled shape: (9, 9, 41)\n",
      "correct\n",
      "Dowmsampled shape: (11, 11, 41)\n",
      "correct\n",
      "Dowmsampled shape: (17, 17, 41)\n",
      "correct\n",
      "Dowmsampled shape: (21, 21, 41)\n",
      "correct\n",
      "Dowmsampled shape: (27, 27, 41)\n",
      "correct\n",
      "Dowmsampled shape: (41, 41, 41)\n",
      "correct\n",
      "Dowmsampled shape: (81, 81, 41)\n",
      "correct\n",
      "Dowmsampled shape: (9, 9, 21)\n",
      "wrong\n",
      "Dowmsampled shape: (11, 11, 21)\n",
      "correct\n",
      "Dowmsampled shape: (17, 17, 21)\n",
      "correct\n",
      "Dowmsampled shape: (21, 21, 21)\n",
      "correct\n",
      "Dowmsampled shape: (27, 27, 21)\n",
      "correct\n",
      "Dowmsampled shape: (41, 41, 21)\n",
      "correct\n",
      "Dowmsampled shape: (81, 81, 21)\n",
      "correct\n",
      "Dowmsampled shape: (9, 9, 14)\n",
      "wrong\n",
      "Dowmsampled shape: (11, 11, 14)\n",
      "correct\n",
      "Dowmsampled shape: (17, 17, 14)\n",
      "correct\n",
      "Dowmsampled shape: (21, 21, 14)\n",
      "correct\n",
      "Dowmsampled shape: (27, 27, 14)\n",
      "correct\n",
      "Dowmsampled shape: (41, 41, 14)\n",
      "correct\n",
      "Dowmsampled shape: (81, 81, 14)\n",
      "correct\n",
      "Dowmsampled shape: (9, 9, 11)\n",
      "wrong\n",
      "Dowmsampled shape: (11, 11, 11)\n",
      "correct\n",
      "Dowmsampled shape: (17, 17, 11)\n",
      "correct\n",
      "Dowmsampled shape: (21, 21, 11)\n",
      "correct\n",
      "Dowmsampled shape: (27, 27, 11)\n",
      "correct\n",
      "Dowmsampled shape: (41, 41, 11)\n",
      "correct\n",
      "Dowmsampled shape: (81, 81, 11)\n",
      "correct\n",
      "Dowmsampled shape: (9, 9, 9)\n",
      "wrong\n",
      "Dowmsampled shape: (11, 11, 9)\n",
      "correct\n",
      "Dowmsampled shape: (17, 17, 9)\n",
      "correct\n",
      "Dowmsampled shape: (21, 21, 9)\n",
      "correct\n",
      "Dowmsampled shape: (27, 27, 9)\n",
      "correct\n",
      "Dowmsampled shape: (41, 41, 9)\n",
      "correct\n",
      "Dowmsampled shape: (81, 81, 9)\n",
      "correct\n",
      "Dowmsampled shape: (9, 9, 7)\n",
      "wrong\n",
      "Dowmsampled shape: (11, 11, 7)\n",
      "correct\n",
      "Dowmsampled shape: (17, 17, 7)\n",
      "wrong\n",
      "Dowmsampled shape: (21, 21, 7)\n",
      "correct\n",
      "Dowmsampled shape: (27, 27, 7)\n",
      "correct\n",
      "Dowmsampled shape: (41, 41, 7)\n",
      "correct\n",
      "Dowmsampled shape: (81, 81, 7)\n",
      "wrong\n",
      "Dowmsampled shape: (9, 9, 6)\n",
      "wrong\n",
      "Dowmsampled shape: (11, 11, 6)\n",
      "correct\n",
      "Dowmsampled shape: (17, 17, 6)\n",
      "wrong\n",
      "Dowmsampled shape: (21, 21, 6)\n",
      "correct\n",
      "Dowmsampled shape: (27, 27, 6)\n",
      "correct\n",
      "Dowmsampled shape: (41, 41, 6)\n",
      "wrong\n",
      "Dowmsampled shape: (81, 81, 6)\n",
      "wrong\n",
      "Dowmsampled shape: (9, 9, 5)\n",
      "wrong\n",
      "Dowmsampled shape: (11, 11, 5)\n",
      "correct\n",
      "Dowmsampled shape: (17, 17, 5)\n",
      "wrong\n",
      "Dowmsampled shape: (21, 21, 5)\n",
      "wrong\n",
      "Dowmsampled shape: (27, 27, 5)\n",
      "wrong\n",
      "Dowmsampled shape: (41, 41, 5)\n",
      "wrong\n",
      "Dowmsampled shape: (81, 81, 5)\n",
      "wrong\n"
     ]
    }
   ],
   "source": [
    "error = []\n",
    "bor = 1\n",
    "for idt in time_range:\n",
    "    \n",
    "    for idx in x_range:\n",
    "        \n",
    "        # Prepare data\n",
    "        down_data= np.take(np.take(np.take(data,np.arange(0,x_dim,idx),axis=0),np.arange(0,y_dim,idx),axis=1),np.arange(0,t_dim,idt),axis=2)\n",
    "        print(\"Dowmsampled shape:\",down_data.shape)\n",
    "        width, width_2, steps = down_data.shape\n",
    "        x_arr, y_arr, t_arr = np.linspace(0,1,width), np.linspace(0,1,width_2), np.linspace(0,1,steps)\n",
    "        x_grid, y_grid, t_grid = np.meshgrid(x_arr, y_arr, t_arr, indexing='ij')\n",
    "        X = np.transpose((t_grid.flatten(), x_grid.flatten(), y_grid.flatten()))\n",
    "        y = down_data.reshape((down_data.size, 1))\n",
    "\n",
    "        # Add noise to the solution \n",
    "        noise_level = 0.0\n",
    "        y_noisy = y + noise_level * np.std(y) * np.random.randn(y.size, 1)\n",
    "        solution = y_noisy.reshape(down_data.shape)\n",
    "        denoised_sol = solution\n",
    "           \n",
    "        # Construct the library\n",
    "        u = denoised_sol[:,:,:][bor:-bor,bor:-bor,:]\n",
    "        u_t = finite_diff(denoised_sol[:,:,:],t_arr,order=1,axis=2)[bor:-bor,bor:-bor,:].reshape((-1, 1))\n",
    "        u_x = finite_diff(denoised_sol[:,:,:],x_arr,order=1,axis=0)[bor:-bor,bor:-bor,:]\n",
    "        u_xx = finite_diff(denoised_sol[:,:,:],x_arr,order=2,axis=0)[bor:-bor,bor:-bor,:]\n",
    "        u_y = finite_diff(denoised_sol[:,:,:],y_arr,order=1,axis=1)[bor:-bor,bor:-bor,:]\n",
    "        u_yy = finite_diff(denoised_sol[:,:,:],y_arr,order=2,axis=1)[bor:-bor,bor:-bor,:]\n",
    "        u_xy = finite_diff(finite_diff(denoised_sol[:,:,:],x_arr,order=1,axis=0),y_arr,order=1,axis=1)[bor:-bor,bor:-bor,:]\n",
    "\n",
    "        library = np.transpose((np.ones_like(u).flatten(), u_x.flatten(), u_y.flatten(),\n",
    "                          u_xx.flatten(),u_yy.flatten(),u_xy.flatten()))\n",
    "\n",
    "        reg = LassoCV(fit_intercept=False, cv=10)\n",
    "        xi = reg.fit(library, u_t).coef_[:, None].flatten()\n",
    "        if np.ma.allequal(xi.astype(bool), mask) == True:\n",
    "            print('correct')\n",
    "            k = np.sum(np.abs((xi-ref)/ref_b))\n",
    "            if k > 4: \n",
    "                error.append(4) \n",
    "            else:\n",
    "                error.append(np.sum(np.abs((xi-ref)/ref_b)))\n",
    "        else: \n",
    "            error.append(4); \n",
    "            print('wrong')"
   ]
  },
  {
   "cell_type": "code",
   "execution_count": 169,
   "metadata": {},
   "outputs": [
    {
     "data": {
      "image/png": "[encoded data removed]",
      "text/plain": [
       "<Figure size 432x288 with 2 Axes>"
      ]
     },
     "metadata": {
      "needs_background": "light"
     },
     "output_type": "display_data"
    }
   ],
   "source": [
    "data_loop = [5,6,7,9,11,14,21,41,81]\n",
    "plt.imshow(np.array(error).reshape(7,-1))\n",
    "plt.yticks([0,1,2,3,4,5,6],['81', '41', '27', '21','17','11','9'])\n",
    "plt.xticks([0,1,2,3,4,5,6,7,8],data_loop)\n",
    "plt.xlabel('Number of temporal points')\n",
    "plt.ylabel('Number of spatial points')\n",
    "plt.colorbar()\n",
    "plt.show()"
   ]
  },
  {
   "cell_type": "markdown",
   "metadata": {},
   "source": [
    "## No noise"
   ]
  },
  {
   "cell_type": "code",
   "execution_count": 91,
   "metadata": {},
   "outputs": [],
   "source": [
    "time_range = [1,2,4,6,8,10,12,14,20]\n",
    "x_range = [8,5,4,3,2,1] "
   ]
  },
  {
   "cell_type": "code",
   "execution_count": 92,
   "metadata": {},
   "outputs": [],
   "source": [
    "mask = np.array([False,False,True,True,True,False])\n",
    "ref = np.array([0,0,0.2,0.02,0.02,0]) \n",
    "ref_b =  np.array([0,0,0.2,0.02,0.02,0]) + 10**-9*np.ones(6)"
   ]
  },
  {
   "cell_type": "code",
   "execution_count": 99,
   "metadata": {},
   "outputs": [
    {
     "name": "stdout",
     "output_type": "stream",
     "text": [
      "Dowmsampled shape: (11, 11, 81)\n",
      "correct\n",
      "Dowmsampled shape: (17, 17, 81)\n",
      "wrong\n",
      "Dowmsampled shape: (21, 21, 81)\n",
      "correct\n",
      "Dowmsampled shape: (27, 27, 81)\n",
      "correct\n",
      "Dowmsampled shape: (41, 41, 81)\n",
      "correct\n",
      "Dowmsampled shape: (81, 81, 81)\n",
      "wrong\n",
      "Dowmsampled shape: (11, 11, 41)\n",
      "wrong\n",
      "Dowmsampled shape: (17, 17, 41)\n",
      "correct\n",
      "Dowmsampled shape: (21, 21, 41)\n",
      "correct\n",
      "Dowmsampled shape: (27, 27, 41)\n",
      "correct\n",
      "Dowmsampled shape: (41, 41, 41)\n",
      "correct\n",
      "Dowmsampled shape: (81, 81, 41)\n",
      "wrong\n",
      "Dowmsampled shape: (11, 11, 21)\n",
      "correct\n",
      "Dowmsampled shape: (17, 17, 21)\n",
      "correct\n",
      "Dowmsampled shape: (21, 21, 21)\n",
      "correct\n",
      "Dowmsampled shape: (27, 27, 21)\n",
      "correct\n",
      "Dowmsampled shape: (41, 41, 21)\n",
      "correct\n",
      "Dowmsampled shape: (81, 81, 21)\n",
      "wrong\n",
      "Dowmsampled shape: (11, 11, 14)\n",
      "correct\n",
      "Dowmsampled shape: (17, 17, 14)\n",
      "correct\n",
      "Dowmsampled shape: (21, 21, 14)\n",
      "correct\n",
      "Dowmsampled shape: (27, 27, 14)\n",
      "correct\n",
      "Dowmsampled shape: (41, 41, 14)\n",
      "correct\n",
      "Dowmsampled shape: (81, 81, 14)\n",
      "wrong\n",
      "Dowmsampled shape: (11, 11, 11)\n",
      "wrong\n",
      "Dowmsampled shape: (17, 17, 11)\n",
      "correct\n",
      "Dowmsampled shape: (21, 21, 11)\n",
      "correct\n",
      "Dowmsampled shape: (27, 27, 11)\n",
      "correct\n",
      "Dowmsampled shape: (41, 41, 11)\n",
      "wrong\n",
      "Dowmsampled shape: (81, 81, 11)\n",
      "wrong\n",
      "Dowmsampled shape: (11, 11, 9)\n",
      "correct\n",
      "Dowmsampled shape: (17, 17, 9)\n",
      "correct\n",
      "Dowmsampled shape: (21, 21, 9)\n",
      "correct\n",
      "Dowmsampled shape: (27, 27, 9)\n",
      "correct\n",
      "Dowmsampled shape: (41, 41, 9)\n",
      "wrong\n",
      "Dowmsampled shape: (81, 81, 9)\n",
      "wrong\n",
      "Dowmsampled shape: (11, 11, 7)\n",
      "correct\n",
      "Dowmsampled shape: (17, 17, 7)\n",
      "correct\n",
      "Dowmsampled shape: (21, 21, 7)\n",
      "correct\n",
      "Dowmsampled shape: (27, 27, 7)\n",
      "correct\n",
      "Dowmsampled shape: (41, 41, 7)\n",
      "wrong\n",
      "Dowmsampled shape: (81, 81, 7)\n",
      "wrong\n",
      "Dowmsampled shape: (11, 11, 6)\n",
      "correct\n",
      "Dowmsampled shape: (17, 17, 6)\n",
      "correct\n",
      "Dowmsampled shape: (21, 21, 6)\n",
      "correct\n",
      "Dowmsampled shape: (27, 27, 6)\n",
      "correct\n",
      "Dowmsampled shape: (41, 41, 6)\n",
      "wrong\n",
      "Dowmsampled shape: (81, 81, 6)\n",
      "wrong\n",
      "Dowmsampled shape: (11, 11, 5)\n",
      "correct\n",
      "Dowmsampled shape: (17, 17, 5)\n",
      "correct\n",
      "Dowmsampled shape: (21, 21, 5)\n",
      "wrong\n",
      "Dowmsampled shape: (27, 27, 5)\n",
      "wrong\n",
      "Dowmsampled shape: (41, 41, 5)\n",
      "wrong\n",
      "Dowmsampled shape: (81, 81, 5)\n",
      "wrong\n"
     ]
    }
   ],
   "source": [
    "error = []\n",
    "bor = 1\n",
    "for idt in time_range:\n",
    "    \n",
    "    for idx in x_range:\n",
    "        \n",
    "        # Prepare data\n",
    "        down_data= np.take(np.take(np.take(data,np.arange(0,x_dim,idx),axis=0),np.arange(0,y_dim,idx),axis=1),np.arange(0,t_dim,idt),axis=2)\n",
    "        print(\"Dowmsampled shape:\",down_data.shape)\n",
    "        width, width_2, steps = down_data.shape\n",
    "        x_arr, y_arr, t_arr = np.linspace(0,1,width), np.linspace(0,1,width_2), np.linspace(0,1,steps)\n",
    "        x_grid, y_grid, t_grid = np.meshgrid(x_arr, y_arr, t_arr, indexing='ij')\n",
    "        X = np.transpose((t_grid.flatten(), x_grid.flatten(), y_grid.flatten()))\n",
    "        y = down_data.reshape((down_data.size, 1))\n",
    "\n",
    "        # Add noise to the solution \n",
    "        noise_level = 0.10\n",
    "        y_noisy = y + noise_level * np.std(y) * np.random.randn(y.size, 1)\n",
    "        solution = y_noisy.reshape(down_data.shape)\n",
    "        # Use SVD to denoise the solution \n",
    "        dim_w = 3\n",
    "        denoised_sol = []\n",
    "        for i in np.arange(steps):\n",
    "            uwn,sigmawn,vwn= np.linalg.svd(solution[:,:,i])\n",
    "            vwn = vwn.T\n",
    "            denoised_sol.append(uwn[:,0:dim_w].dot(np.diag(sigmawn[0:dim_w]).dot(vwn[:,0:dim_w].T)))\n",
    "        denoised_sol = np.transpose(np.array(denoised_sol),(1,2,0))\n",
    "           \n",
    "        # Construct the library\n",
    "        u = denoised_sol[:,:,:][bor:-bor,bor:-bor,:]\n",
    "        u_t = finite_diff(denoised_sol[:,:,:],t_arr,order=1,axis=2)[bor:-bor,bor:-bor,:].reshape((-1, 1))\n",
    "        u_x = finite_diff(denoised_sol[:,:,:],x_arr,order=1,axis=0)[bor:-bor,bor:-bor,:]\n",
    "        u_xx = finite_diff(denoised_sol[:,:,:],x_arr,order=2,axis=0)[bor:-bor,bor:-bor,:]\n",
    "        u_y = finite_diff(denoised_sol[:,:,:],y_arr,order=1,axis=1)[bor:-bor,bor:-bor,:]\n",
    "        u_yy = finite_diff(denoised_sol[:,:,:],y_arr,order=2,axis=1)[bor:-bor,bor:-bor,:]\n",
    "        u_xy = finite_diff(finite_diff(denoised_sol[:,:,:],x_arr,order=1,axis=0),y_arr,order=1,axis=1)[bor:-bor,bor:-bor,:]\n",
    "\n",
    "        library = np.transpose((np.ones_like(u).flatten(), u_x.flatten(), u_y.flatten(),\n",
    "                          u_xx.flatten(),u_yy.flatten(),u_xy.flatten()))\n",
    "\n",
    "        reg = LassoCV(fit_intercept=False, cv=10)\n",
    "        xi = reg.fit(library, u_t).coef_[:, None].flatten()\n",
    "        if np.ma.allequal(xi.astype(bool), mask) == True:\n",
    "            print('correct')\n",
    "            k = np.sum(np.abs((xi-ref)/ref_b))\n",
    "            if k > 2: \n",
    "                error.append(2) \n",
    "            else:\n",
    "                error.append(np.sum(np.abs((xi-ref)/ref_b)))\n",
    "        else: \n",
    "            error.append(2); \n",
    "            print('wrong')"
   ]
  },
  {
   "cell_type": "code",
   "execution_count": 100,
   "metadata": {},
   "outputs": [
    {
     "data": {
      "image/png": "[encoded data removed]",
      "text/plain": [
       "<Figure size 432x288 with 2 Axes>"
      ]
     },
     "metadata": {
      "needs_background": "light"
     },
     "output_type": "display_data"
    }
   ],
   "source": [
    "data_loop = [3,4,5,6,7,11,21,41,81]\n",
    "plt.imshow(np.array(error).reshape(6,-1))\n",
    "plt.yticks([0,1,2,3,4,5],['81', '41', '27', '21','17','11'])\n",
    "plt.xticks([0,1,2,3,4,5,6,7,8],data_loop)\n",
    "plt.xlabel('Number of temporal points')\n",
    "plt.ylabel('Number of spatial points')\n",
    "plt.colorbar()\n",
    "plt.show()"
   ]
  },
  {
   "cell_type": "code",
   "execution_count": 17,
   "metadata": {},
   "outputs": [
    {
     "data": {
      "text/plain": [
       "array([[False],\n",
       "       [False],\n",
       "       [False],\n",
       "       [False],\n",
       "       [ True],\n",
       "       [ True],\n",
       "       [False]])"
      ]
     },
     "execution_count": 17,
     "metadata": {},
     "output_type": "execute_result"
    }
   ],
   "source": [
    "     # Use SVD to denoise the solution \n",
    "        dim_w = 3\n",
    "        denoised_sol = []\n",
    "        for i in np.arange(steps):\n",
    "            uwn,sigmawn,vwn= np.linalg.svd(solution[:,:,i])\n",
    "            vwn = vwn.T\n",
    "            denoised_sol.append(uwn[:,0:dim_w].dot(np.diag(sigmawn[0:dim_w]).dot(vwn[:,0:dim_w].T)))\n",
    "        denoised_sol = np.transpose(np.array(denoised_sol),(1,2,0))\n"
   ]
  },
  {
   "cell_type": "markdown",
   "metadata": {},
   "source": [
    "Select the number of samples:"
   ]
  },
  {
   "cell_type": "code",
   "execution_count": 189,
   "metadata": {},
   "outputs": [
    {
     "name": "stdout",
     "output_type": "stream",
     "text": [
      "Dowmsampled shape: (41, 41, 41)\n"
     ]
    },
    {
     "name": "stderr",
     "output_type": "stream",
     "text": [
      "<ipython-input-189-a076f6786be1>:39: FutureWarning: `rcond` parameter will change to the default of machine precision times ``max(M, N)`` where M and N are the input matrix dimensions.\n",
      "To use the future default and silence this warning we advise to pass `rcond=None`, to keep using the old, explicitly pass `rcond=-1`.\n",
      "  np.linalg.lstsq(library, u_t)[0]\n"
     ]
    },
    {
     "data": {
      "text/plain": [
       "array([[ 5.97222952e-04],\n",
       "       [-3.96337703e-02],\n",
       "       [ 1.42742806e-12],\n",
       "       [ 8.09012108e-03],\n",
       "       [ 7.55162987e-04],\n",
       "       [ 7.52493450e-04],\n",
       "       [-5.54163127e-13]])"
      ]
     },
     "execution_count": 189,
     "metadata": {},
     "output_type": "execute_result"
    }
   ],
   "source": [
    "# Prepare data\n",
    "idx= 1\n",
    "down_data= np.take(np.take(np.take(data,np.arange(0,x_dim,x_range),axis=0),np.arange(0,y_dim,y_range),axis=1),np.arange(0,t_dim,idx),axis=2)\n",
    "print(\"Dowmsampled shape:\",down_data.shape)\n",
    "width, width_2, steps = down_data.shape\n",
    "x_grid, y_grid, t_grid = np.meshgrid(np.linspace(0,1,width), np.linspace(0,1,width_2), np.linspace(0,1,steps), indexing='ij')\n",
    "X = np.transpose((t_grid.flatten(), x_grid.flatten(), y_grid.flatten()))\n",
    "y = down_data.reshape((down_data.size, 1))\n",
    "\n",
    "# Add noise to the solution \n",
    "noise_level = 0.0\n",
    "y_noisy = y + noise_level * np.std(y) * np.random.randn(y.size, 1)\n",
    "solution = y_noisy.reshape(down_data.shape)\n",
    "\n",
    "# Use SVD to denoise the solution \n",
    "dim_w = 3\n",
    "denoised_sol = []\n",
    "for i in np.arange(steps):\n",
    "    uwn,sigmawn,vwn= np.linalg.svd(solution[:,:,i])\n",
    "    vwn = vwn.T\n",
    "    denoised_sol.append(uwn[:,0:dim_w].dot(np.diag(sigmawn[0:dim_w]).dot(vwn[:,0:dim_w].T)))\n",
    "# denoised_sol = np.transpose(np.array(denoised_sol),(1,2,0))\n",
    "denoised_sol = solution\n",
    "# Construct the library\n",
    "u = denoised_sol[:,:,:]\n",
    "u_t = finite_diff(denoised_sol[:,:,:],t_arr,order=1,axis=2).reshape((-1, 1))\n",
    "u_x = finite_diff(denoised_sol[:,:,:],x_arr,order=1,axis=0)\n",
    "u_xx = finite_diff(denoised_sol[:,:,:],x_arr,order=2,axis=0)\n",
    "u_y = finite_diff(denoised_sol[:,:,:],y_arr,order=1,axis=1)\n",
    "u_yy = finite_diff(denoised_sol[:,:,:],y_arr,order=2,axis=1)\n",
    "u_xy = finite_diff(finite_diff(denoised_sol[:,:,:],x_arr,order=1,axis=0),y_arr,order=1,axis=1)\n",
    "#u_xxx = finite_diff(denoised_sol[:,:,:],y_arr,order=3,axis=0)\n",
    "#u_yyy = finite_diff(denoised_sol[:,:,:],y_arr,order=3,axis=1)\n",
    "#u_xxy = finite_diff(finite_diff(denoised_sol[:,:,:],x_arr,order=2,axis=0),y_arr,order=1,axis=1)\n",
    "\n",
    "library = np.transpose((np.ones_like(u).flatten(),u.flatten(), u_x.flatten(), u_y.flatten(),\n",
    "                  u_xx.flatten(),u_yy.flatten(),u_xy.flatten()))"
   ]
  },
  {
   "cell_type": "code",
   "execution_count": 202,
   "metadata": {},
   "outputs": [
    {
     "name": "stderr",
     "output_type": "stream",
     "text": [
      "<ipython-input-202-349383d00c98>:1: FutureWarning: `rcond` parameter will change to the default of machine precision times ``max(M, N)`` where M and N are the input matrix dimensions.\n",
      "To use the future default and silence this warning we advise to pass `rcond=None`, to keep using the old, explicitly pass `rcond=-1`.\n",
      "  np.linalg.lstsq(library, u_t)[0][4]*2\n"
     ]
    },
    {
     "data": {
      "text/plain": [
       "array([0.00151033])"
      ]
     },
     "execution_count": 202,
     "metadata": {},
     "output_type": "execute_result"
    }
   ],
   "source": [
    "np.linalg.lstsq(library, u_t)[0][4]*2"
   ]
  },
  {
   "cell_type": "code",
   "execution_count": 203,
   "metadata": {},
   "outputs": [
    {
     "name": "stderr",
     "output_type": "stream",
     "text": [
      "<ipython-input-203-55a136c605bb>:1: FutureWarning: `rcond` parameter will change to the default of machine precision times ``max(M, N)`` where M and N are the input matrix dimensions.\n",
      "To use the future default and silence this warning we advise to pass `rcond=None`, to keep using the old, explicitly pass `rcond=-1`.\n",
      "  np.linalg.lstsq(library, u_t)[0][5]*40\n"
     ]
    },
    {
     "data": {
      "text/plain": [
       "array([0.03009974])"
      ]
     },
     "execution_count": 203,
     "metadata": {},
     "output_type": "execute_result"
    }
   ],
   "source": [
    "np.linalg.lstsq(library, u_t)[0][5]*40"
   ]
  },
  {
   "cell_type": "code",
   "execution_count": 183,
   "metadata": {},
   "outputs": [],
   "source": [
    "steps = down_data.shape[2]\n",
    "dim_w = 2\n",
    "denoised_sol = []\n",
    "for i in np.arange(steps):\n",
    "    uwn,sigmawn,vwn= np.linalg.svd(solution[:,:,i])\n",
    "    vwn = vwn.T\n",
    "    denoised_sol.append(uwn[:,0:dim_w].dot(np.diag(sigmawn[0:dim_w]).dot(vwn[:,0:dim_w].T)))\n",
    "denoised_sol = np.transpose(np.array(denoised_sol),(1,2,0))"
   ]
  },
  {
   "cell_type": "code",
   "execution_count": 184,
   "metadata": {},
   "outputs": [
    {
     "data": {
      "text/plain": [
       "[<matplotlib.lines.Line2D at 0x7f9d22ffec10>]"
      ]
     },
     "execution_count": 184,
     "metadata": {},
     "output_type": "execute_result"
    },
    {
     "data": {
      "image/png": "[encoded data removed]",
      "text/plain": [
       "<Figure size 432x288 with 1 Axes>"
      ]
     },
     "metadata": {
      "needs_background": "light"
     },
     "output_type": "display_data"
    }
   ],
   "source": [
    "plt.plot(denoised_sol[:,20,1])\n",
    "plt.plot(solution[:,20,1])"
   ]
  },
  {
   "cell_type": "code",
   "execution_count": 148,
   "metadata": {},
   "outputs": [
    {
     "data": {
      "text/plain": [
       "<matplotlib.image.AxesImage at 0x7f9d4067e070>"
      ]
     },
     "execution_count": 148,
     "metadata": {},
     "output_type": "execute_result"
    },
    {
     "data": {
      "image/png": "[encoded data removed]",
      "text/plain": [
       "<Figure size 432x288 with 1 Axes>"
      ]
     },
     "metadata": {
      "needs_background": "light"
     },
     "output_type": "display_data"
    }
   ],
   "source": [
    "plt.imshow(finite_diff(denoised_sol[:,:,:],x_arr,order=3,axis=1)[:,:,3])"
   ]
  },
  {
   "cell_type": "code",
   "execution_count": 137,
   "metadata": {},
   "outputs": [],
   "source": [
    "bor = 2\n",
    "\n",
    "u = denoised_sol[:,:,:][bor:-bor,bor:-bor,:]\n",
    "u_t = finite_diff(denoised_sol[:,:,:],t_arr,order=1,axis=2)[bor:-bor,bor:-bor,:]\n",
    "u_x = finite_diff(denoised_sol[:,:,:],x_arr,order=1,axis=0)[bor:-bor,bor:-bor,:]\n",
    "u_xx = finite_diff(denoised_sol[:,:,:],x_arr,order=2,axis=0)[bor:-bor,bor:-bor,:]\n",
    "u_y = finite_diff(denoised_sol[:,:,:],y_arr,order=1,axis=1)[bor:-bor,bor:-bor,:]\n",
    "u_yy = finite_diff(denoised_sol[:,:,:],y_arr,order=2,axis=1)[bor:-bor,bor:-bor,:]\n",
    "u_xy = finite_diff(finite_diff(denoised_sol[:,:,:],x_arr,order=1,axis=0),y_arr,order=1,axis=1)[bor:-bor,bor:-bor,:]\n",
    "u_xxx = finite_diff(denoised_sol[:,:,:],y_arr,order=3,axis=0)[bor:-bor,bor:-bor,:]\n",
    "u_yyy = finite_diff(denoised_sol[:,:,:],y_arr,order=3,axis=1)[bor:-bor,bor:-bor,:]\n",
    "u_xxy = finite_diff(finite_diff(denoised_sol[:,:,:],x_arr,order=2,axis=0),y_arr,order=1,axis=1)[bor:-bor,bor:-bor,:]"
   ]
  },
  {
   "cell_type": "code",
   "execution_count": 138,
   "metadata": {},
   "outputs": [],
   "source": [
    "X = np.transpose((t_grid[bor:-bor,bor:-bor,:].flatten(), x_grid[bor:-bor,bor:-bor,:].flatten(), y_grid[bor:-bor,bor:-bor,:].flatten()))\n",
    "library = np.float32((np.ones_like(u).flatten(),u.flatten(), u_x.flatten(), u_y.flatten(),\n",
    "                      u_xx.flatten(),u_yy.flatten(),u_xy.flatten(),\n",
    "                      u_xxx.flatten(),u_yyy.flatten(),u_xxy.flatten())).T\n",
    "u_t = u_t.reshape((-1, 1))"
   ]
  },
  {
   "cell_type": "code",
   "execution_count": 139,
   "metadata": {},
   "outputs": [
    {
     "name": "stdout",
     "output_type": "stream",
     "text": [
      "[[-0.0000000e+00]\n",
      " [-0.0000000e+00]\n",
      " [ 0.0000000e+00]\n",
      " [ 1.0230744e-01]\n",
      " [ 1.6869776e-02]\n",
      " [ 1.6851673e-02]\n",
      " [ 0.0000000e+00]\n",
      " [ 0.0000000e+00]\n",
      " [-5.0987255e-05]\n",
      " [-2.5510968e-05]]\n"
     ]
    }
   ],
   "source": [
    "reg = LassoCV(fit_intercept=False, cv=10)\n",
    "print(reg.fit(library, u_t).coef_[:, None])# %%"
   ]
  },
  {
   "cell_type": "code",
   "execution_count": 135,
   "metadata": {},
   "outputs": [
    {
     "name": "stderr",
     "output_type": "stream",
     "text": [
      "<ipython-input-135-457ca3085e09>:1: FutureWarning: `rcond` parameter will change to the default of machine precision times ``max(M, N)`` where M and N are the input matrix dimensions.\n",
      "To use the future default and silence this warning we advise to pass `rcond=None`, to keep using the old, explicitly pass `rcond=-1`.\n",
      "  np.linalg.lstsq(library, u_t)[0]\n"
     ]
    },
    {
     "data": {
      "text/plain": [
       "array([[ 1.44199594e-02],\n",
       "       [-8.20801203e-01],\n",
       "       [ 2.22328458e-10],\n",
       "       [ 1.94433856e-01],\n",
       "       [ 1.50354882e-02],\n",
       "       [ 1.50357903e-02],\n",
       "       [ 7.63485383e-12],\n",
       "       [-3.85675636e-13],\n",
       "       [ 7.66515948e-05],\n",
       "       [ 8.56635335e-05]])"
      ]
     },
     "execution_count": 135,
     "metadata": {},
     "output_type": "execute_result"
    }
   ],
   "source": [
    "np.linalg.lstsq(library, u_t)[0]"
   ]
  },
  {
   "cell_type": "code",
   "execution_count": 199,
   "metadata": {},
   "outputs": [
    {
     "data": {
      "text/plain": [
       "<matplotlib.image.AxesImage at 0x7f6f175275b0>"
      ]
     },
     "execution_count": 199,
     "metadata": {},
     "output_type": "execute_result"
    },
    {
     "data": {
      "image/png": "[encoded data removed]",
      "text/plain": [
       "<Figure size 432x288 with 1 Axes>"
      ]
     },
     "metadata": {
      "needs_background": "light"
     },
     "output_type": "display_data"
    }
   ],
   "source": [
    "plt.imshow(finite_diff(denoised_sol[:,:,3],x_arr,order=3,axis=0))"
   ]
  },
  {
   "cell_type": "code",
   "execution_count": 48,
   "metadata": {},
   "outputs": [
    {
     "data": {
      "text/plain": [
       "(41,)"
      ]
     },
     "execution_count": 48,
     "metadata": {},
     "output_type": "execute_result"
    }
   ],
   "source": [
    "y_arr.shape"
   ]
  },
  {
   "cell_type": "code",
   "execution_count": 57,
   "metadata": {},
   "outputs": [
    {
     "data": {
      "text/plain": [
       "<matplotlib.image.AxesImage at 0x7f6f5cee97f0>"
      ]
     },
     "execution_count": 57,
     "metadata": {},
     "output_type": "execute_result"
    },
    {
     "data": {
      "image/png": "[encoded data removed]",
      "text/plain": [
       "<Figure size 432x288 with 1 Axes>"
      ]
     },
     "metadata": {
      "needs_background": "light"
     },
     "output_type": "display_data"
    }
   ],
   "source": [
    "plt.imshow(finite_diff(down_data[:,:,3].T,y_arr,order=1))"
   ]
  },
  {
   "cell_type": "code",
   "execution_count": 32,
   "metadata": {},
   "outputs": [
    {
     "data": {
      "text/plain": [
       "<matplotlib.image.AxesImage at 0x7f6f5d13ca90>"
      ]
     },
     "execution_count": 32,
     "metadata": {},
     "output_type": "execute_result"
    },
    {
     "data": {
      "image/png": "[encoded data removed]",
      "text/plain": [
       "<Figure size 432x288 with 1 Axes>"
      ]
     },
     "metadata": {
      "needs_background": "light"
     },
     "output_type": "display_data"
    }
   ],
   "source": [
    "plt.imshow(finite_diff(down_data[:,:,3].T,y_arr,order=1).T)"
   ]
  },
  {
   "cell_type": "code",
   "execution_count": 20,
   "metadata": {},
   "outputs": [
    {
     "data": {
      "text/plain": [
       "<matplotlib.image.AxesImage at 0x7f6f5d5562b0>"
      ]
     },
     "execution_count": 20,
     "metadata": {},
     "output_type": "execute_result"
    },
    {
     "data": {
      "image/png": "[encoded data removed]",
      "text/plain": [
       "<Figure size 432x288 with 1 Axes>"
      ]
     },
     "metadata": {
      "needs_background": "light"
     },
     "output_type": "display_data"
    }
   ],
   "source": [
    "plt.imshow(down_data[:,:,3])"
   ]
  },
  {
   "cell_type": "code",
   "execution_count": null,
   "metadata": {},
   "outputs": [],
   "source": [
    "def spline_diff2D(z, x, y, order, **spline_kwargs):\n",
    "    ''' Fits 2D spline to 2D data. x and y are 1D arrays of coordinate grid, z is 2D array with dara.\n",
    "    Good defaults for spline would be kx=4, ky=4, s=1e-2 with noise, 0.0 if no noise.'''\n",
    "    spline = RectBivariateSpline(x, y, z, **spline_kwargs)\n",
    "    return spline(x, y, dx=order, dy=order)\n",
    "# Example usage\n",
    "u_approx_spline = spline_diff2D(u_true, t, x, order=0, kx=4, ky=4, s=0.0) # approximation of data\n",
    "u_approx_spline = spline_diff2D(u_true, t, x, order=3, kx=4, ky=4, s=0.0) # 3rd order deriv"
   ]
  },
  {
   "cell_type": "code",
   "execution_count": null,
   "metadata": {},
   "outputs": [],
   "source": [
    "\n",
    "# %% Checking finite diff\n",
    "dt, theta = library(u_true, x, t, deriv_kind='fd')\n",
    "print(np.linalg.lstsq(theta, dt)[0]) # normal lst sq.\n",
    "print(np.linalg.lstsq(theta.reshape(50, 100, 12)[2:-2, 3:-3, :].reshape(-1, 12), dt.reshape(50, 100)[2:-2, 3:-3].reshape(-1, 1))[0]) # lst sq. with edges cut off\n",
    "\n",
    "reg = LassoCV(fit_intercept=False, cv=10)\n",
    "print(reg.fit(theta, dt).coef_[:, None])# %%\n",
    "print(reg.fit(theta.reshape(50, 100, 12)[2:-2, 3:-3, :].reshape(-1, 12), dt.reshape(50, 100)[2:-2, 3:-3].reshape(-1, 1)).coef_[:, None])# %%\n",
    "\n",
    "# %% Checking spline \n",
    "dt, theta = library(u_true, x, t, deriv_kind='spline', s=0.0, k=5) #s=0.0 is necessary for decent spline fit\n",
    "print(np.linalg.lstsq(theta, dt)[0]) # normal lst sq.\n",
    "print(np.linalg.lstsq(theta.reshape(50, 100, 12)[2:-2, 3:-3, :].reshape(-1, 12), dt.reshape(50, 100)[2:-2, 3:-3].reshape(-1, 1))[0]) # lst sq. with edges cut off\n",
    "\n",
    "reg = LassoCV(fit_intercept=False, cv=10)\n",
    "print(reg.fit(theta, dt).coef_[:, None])# %%\n",
    "print(reg.fit(theta.reshape(50, 100, 12)[2:-2, 3:-3, :].reshape(-1, 12), dt.reshape(50, 100)[2:-2, 3:-3].reshape(-1, 1)).coef_[:, None])# %%"
   ]
  }
 ],
 "metadata": {
  "kernelspec": {
   "display_name": "Python 3",
   "language": "python",
   "name": "python3"
  },
  "language_info": {
   "codemirror_mode": {
    "name": "ipython",
    "version": 3
   },
   "file_extension": ".py",
   "mimetype": "text/x-python",
   "name": "python",
   "nbconvert_exporter": "python",
   "pygments_lexer": "ipython3",
   "version": "3.8.3"
  }
 },
 "nbformat": 4,
 "nbformat_minor": 4
}
