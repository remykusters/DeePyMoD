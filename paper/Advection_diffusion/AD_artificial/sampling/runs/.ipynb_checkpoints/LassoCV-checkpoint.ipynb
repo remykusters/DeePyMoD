{
 "cells": [
  {
   "cell_type": "code",
   "execution_count": 40,
   "metadata": {},
   "outputs": [
    {
     "name": "stdout",
     "output_type": "stream",
     "text": [
      "The autoreload extension is already loaded. To reload it, use:\n",
      "  %reload_ext autoreload\n"
     ]
    }
   ],
   "source": [
    "# General imports\n",
    "import numpy as np\n",
    "import torch\n",
    "import matplotlib.pylab as plt\n",
    "\n",
    "# DeepMoD functions\n",
    "\n",
    "from deepymod import DeepMoD\n",
    "from deepymod.model.func_approx import NN\n",
    "from deepymod.model.library import Library2D_third\n",
    "from deepymod.model.constraint import LeastSquares\n",
    "from deepymod.model.sparse_estimators import Threshold,PDEFIND\n",
    "from deepymod.training import train\n",
    "from deepymod.training.sparsity_scheduler import TrainTestPeriodic\n",
    "from scipy.io import loadmat\n",
    "from sklearn.linear_model import LassoCV\n",
    "from derivatives import finite_diff\n",
    "from deepymod.analysis import load_tensorboard\n",
    "from scipy.io import loadmat\n",
    "# Settings for reproducibility\n",
    "np.random.seed(1)\n",
    "\n",
    "torch.manual_seed(1)\n",
    "\n",
    "device = 'cpu'\n",
    "\n",
    "%load_ext autoreload\n",
    "%autoreload 2"
   ]
  },
  {
   "cell_type": "markdown",
   "metadata": {},
   "source": [
    "## Finite difference on the noiseless data-set (an example)"
   ]
  },
  {
   "cell_type": "code",
   "execution_count": null,
   "metadata": {},
   "outputs": [],
   "source": [
    "data = loadmat('../../Diffusion_2D_space81.mat')\n",
    "data = np.real(data['Expression1']).reshape((81,81,81,4))[:,:,:,3]\n",
    "x_dim, y_dim, t_dim = data.shape"
   ]
  },
  {
   "cell_type": "code",
   "execution_count": null,
   "metadata": {},
   "outputs": [],
   "source": [
    "# Downsample the data \n",
    "idx, idt = 4 , 1\n",
    "down_data= np.take(np.take(np.take(data,np.arange(0,x_dim,idx),axis=0),np.arange(0,y_dim,idx),axis=1),np.arange(0,t_dim,1),axis=2)\n",
    "print(\"Dowmsampled shape:\",down_data.shape)\n",
    "width, width_2, steps = down_data.shape\n",
    "\n",
    "x_arr, y_arr, t_arr = np.linspace(0,1,width), np.linspace(0,1,width_2), np.linspace(0,1,steps)\n",
    "x_grid, y_grid, t_grid = np.meshgrid(x_arr, y_arr, t_arr, indexing='ij')\n",
    "X = np.transpose((t_grid.flatten(), x_grid.flatten(), y_grid.flatten()))\n",
    "y = down_data.reshape((down_data.size, 1))\n",
    "\n",
    "# Add noise to the solution \n",
    "noise_level = 0.0\n",
    "y_noisy = y + noise_level * np.std(y) * np.random.randn(y.size, 1)\n",
    "solution = y_noisy.reshape(down_data.shape)\n",
    "denoised_sol = solution"
   ]
  },
  {
   "cell_type": "code",
   "execution_count": null,
   "metadata": {},
   "outputs": [],
   "source": [
    "mask = np.array([False,False,True,True,True,False,False,False,False,False])\n",
    "ref = np.array([0,0,0.2,0.02,0.02,0,0,0,0,0]) \n",
    "ref_b =  np.array([0,0,0.2,0.02,0.02,0,0,0,0,0]) + 10**-9*np.ones(10)"
   ]
  },
  {
   "cell_type": "code",
   "execution_count": null,
   "metadata": {},
   "outputs": [],
   "source": [
    "bor = 2\n",
    "# Construct the library\n",
    "u = denoised_sol[:,:,:][bor:-bor,bor:-bor,:]\n",
    "u_t = finite_diff(denoised_sol[:,:,:],t_arr,order=1,axis=2)[bor:-bor,bor:-bor,:].reshape((-1, 1))\n",
    "u_x = finite_diff(denoised_sol[:,:,:],x_arr,order=1,axis=0)[bor:-bor,bor:-bor,:]\n",
    "u_xx = finite_diff(denoised_sol[:,:,:],x_arr,order=2,axis=0)[bor:-bor,bor:-bor,:]\n",
    "u_y = finite_diff(denoised_sol[:,:,:],y_arr,order=1,axis=1)[bor:-bor,bor:-bor,:]\n",
    "u_yy = finite_diff(denoised_sol[:,:,:],y_arr,order=2,axis=1)[bor:-bor,bor:-bor,:]\n",
    "u_xy = finite_diff(finite_diff(denoised_sol[:,:,:],x_arr,order=1,axis=0),y_arr,order=1,axis=1)[bor:-bor,bor:-bor,:]\n",
    "u_yyy = finite_diff(denoised_sol[:,:,:],y_arr,order=3,axis=1)[bor:-bor,bor:-bor,:]\n",
    "u_xxx = finite_diff(denoised_sol[:,:,:],y_arr,order=3,axis=0)[bor:-bor,bor:-bor,:]\n",
    "u_xxy = finite_diff(finite_diff(denoised_sol[:,:,:],x_arr,order=2,axis=0),y_arr,order=1,axis=1)[bor:-bor,bor:-bor,:]\n",
    "u_yyx = finite_diff(finite_diff(denoised_sol[:,:,:],x_arr,order=2,axis=1),y_arr,order=1,axis=0)[bor:-bor,bor:-bor,:]\n",
    "\n",
    "library = np.transpose((np.ones_like(u).flatten(), u_x.flatten(), u_y.flatten(),\n",
    "                  u_xx.flatten(),u_yy.flatten(),u_xy.flatten(),u_xxx.flatten(),u_yyy.flatten(),u_xxy.flatten(),u_yyx.flatten()))\n",
    "\n",
    "reg = LassoCV(fit_intercept=False, cv=10)"
   ]
  },
  {
   "cell_type": "code",
   "execution_count": null,
   "metadata": {},
   "outputs": [],
   "source": [
    "xi = reg.fit(library, u_t).coef_[:, None].flatten()\n",
    "print(xi)"
   ]
  },
  {
   "cell_type": "code",
   "execution_count": null,
   "metadata": {},
   "outputs": [],
   "source": [
    "for i in np.arange(len(xi)-1):\n",
    "    if xi[i]<0.01:\n",
    "        xi[i]=0 \n",
    "if np.ma.allequal(xi.astype(bool), mask) == True:\n",
    "    print('correct')\n",
    "    k = np.sum(np.abs((xi-ref)/ref_b))\n",
    "    print(np.sum(np.abs((xi-ref)/ref_b)))\n",
    "else: \n",
    "    print('wrong')"
   ]
  },
  {
   "cell_type": "markdown",
   "metadata": {},
   "source": [
    "## No noise phase diagram"
   ]
  },
  {
   "cell_type": "code",
   "execution_count": 49,
   "metadata": {},
   "outputs": [],
   "source": [
    "x_range = [4,5,6,7,8,10,12,14,16,18]"
   ]
  },
  {
   "cell_type": "code",
   "execution_count": 50,
   "metadata": {},
   "outputs": [],
   "source": [
    "mask = np.array([False,False,True,True,True,False,False,False,False,False])\n",
    "ref = np.array([0,0,0.2,0.02,0.02,0,0,0,0,0]) \n",
    "ref_b =  np.array([0,0,0.2,0.02,0.02,0,0,0,0,0]) + 10**-9*np.ones(10)\n",
    "tresh = 0.01"
   ]
  },
  {
   "cell_type": "code",
   "execution_count": 51,
   "metadata": {},
   "outputs": [
    {
     "name": "stdout",
     "output_type": "stream",
     "text": [
      "Dowmsampled shape: (21, 21, 81)\n",
      "correct\n",
      "Dowmsampled shape: (17, 17, 81)\n",
      "correct\n",
      "Dowmsampled shape: (14, 14, 81)\n",
      "wrong\n",
      "Dowmsampled shape: (12, 12, 81)\n",
      "wrong\n",
      "Dowmsampled shape: (11, 11, 81)\n",
      "correct\n",
      "Dowmsampled shape: (9, 9, 81)\n",
      "correct\n",
      "Dowmsampled shape: (7, 7, 81)\n",
      "wrong\n",
      "Dowmsampled shape: (6, 6, 81)\n",
      "wrong\n",
      "Dowmsampled shape: (6, 6, 81)\n",
      "wrong\n",
      "Dowmsampled shape: (5, 5, 81)\n",
      "wrong\n"
     ]
    }
   ],
   "source": [
    "error = []\n",
    "pos_grid = []\n",
    "bor = 2\n",
    "for idx in x_range:\n",
    "    # Prepare data\n",
    "    down_data= np.take(np.take(np.take(data,np.arange(0,x_dim,idx),axis=0),np.arange(0,y_dim,idx),axis=1),np.arange(0,t_dim,1),axis=2)\n",
    "    print(\"Dowmsampled shape:\",down_data.shape)\n",
    "    width, width_2, steps = down_data.shape\n",
    "    x_arr, y_arr, t_arr = np.linspace(0,1,width), np.linspace(0,1,width_2), np.linspace(0,1,steps)\n",
    "    x_grid, y_grid, t_grid = np.meshgrid(x_arr, y_arr, t_arr, indexing='ij')\n",
    "    X = np.transpose((t_grid.flatten(), x_grid.flatten(), y_grid.flatten()))\n",
    "    y = down_data.reshape((down_data.size, 1))\n",
    "    pos_grid.append(width)\n",
    "    # Add noise to the solution \n",
    "    noise_level = 0.0\n",
    "    y_noisy = y + noise_level * np.std(y) * np.random.randn(y.size, 1)\n",
    "    solution = y_noisy.reshape(down_data.shape)\n",
    "    denoised_sol = solution           \n",
    "    # Construct the library\n",
    "    u = denoised_sol[:,:,:][bor:-bor,bor:-bor,:]\n",
    "    u_t = finite_diff(denoised_sol[:,:,:],t_arr,order=1,axis=2)[bor:-bor,bor:-bor,:].reshape((-1, 1))\n",
    "    u_x = finite_diff(denoised_sol[:,:,:],x_arr,order=1,axis=0)[bor:-bor,bor:-bor,:]\n",
    "    u_xx = finite_diff(denoised_sol[:,:,:],x_arr,order=2,axis=0)[bor:-bor,bor:-bor,:]\n",
    "    u_y = finite_diff(denoised_sol[:,:,:],y_arr,order=1,axis=1)[bor:-bor,bor:-bor,:]\n",
    "    u_yy = finite_diff(denoised_sol[:,:,:],y_arr,order=2,axis=1)[bor:-bor,bor:-bor,:]\n",
    "    u_xy = finite_diff(finite_diff(denoised_sol[:,:,:],x_arr,order=1,axis=0),y_arr,order=1,axis=1)[bor:-bor,bor:-bor,:]\n",
    "    u_yyy = finite_diff(denoised_sol[:,:,:],y_arr,order=3,axis=1)[bor:-bor,bor:-bor,:]\n",
    "    u_xxx = finite_diff(denoised_sol[:,:,:],y_arr,order=3,axis=0)[bor:-bor,bor:-bor,:]\n",
    "    u_xxy = finite_diff(finite_diff(denoised_sol[:,:,:],x_arr,order=2,axis=0),y_arr,order=1,axis=1)[bor:-bor,bor:-bor,:]\n",
    "    u_yyx = finite_diff(finite_diff(denoised_sol[:,:,:],x_arr,order=2,axis=1),y_arr,order=1,axis=0)[bor:-bor,bor:-bor,:]\n",
    "\n",
    "    library = np.transpose((np.ones_like(u).flatten(), u_x.flatten(), u_y.flatten(),\n",
    "              u_xx.flatten(),u_yy.flatten(),u_xy.flatten(),u_xxx.flatten(),u_yyy.flatten(),u_xxy.flatten(),u_yyx.flatten()))\n",
    "\n",
    "    reg = LassoCV(fit_intercept=False, cv=10)\n",
    "    xi = reg.fit(library, u_t).coef_[:, None].flatten()\n",
    "    # xi[np.abs(xi) < thresh] = 0\n",
    "    for i in np.arange(len(xi)-1):\n",
    "        if np.abs(xi[i])<tresh:\n",
    "            xi[i]=0 \n",
    "    if np.ma.allequal(xi.astype(bool), mask) == True:\n",
    "        print('correct')\n",
    "        error.append(1) \n",
    "    else: \n",
    "        error.append(0); \n",
    "        print('wrong')"
   ]
  },
  {
   "cell_type": "code",
   "execution_count": null,
   "metadata": {},
   "outputs": [],
   "source": [
    "error_no_noise = error"
   ]
  },
  {
   "cell_type": "markdown",
   "metadata": {},
   "source": [
    "## Phase diagram with noise"
   ]
  },
  {
   "cell_type": "code",
   "execution_count": 75,
   "metadata": {},
   "outputs": [
    {
     "data": {
      "text/plain": [
       "[4, 5, 7, 9, 11, 14, 21]"
      ]
     },
     "execution_count": 75,
     "metadata": {},
     "output_type": "execute_result"
    }
   ],
   "source": [
    "x_range = [20,18,12,10,8,6,4]\n",
    "\n",
    "[4,5,7,9,11,14,21]"
   ]
  },
  {
   "cell_type": "code",
   "execution_count": 76,
   "metadata": {},
   "outputs": [],
   "source": [
    "mask = np.array([False,False,True,True,True,False,False,False,False,False])\n",
    "ref = np.array([0,0,0.2,0.02,0.02,0,0,0,0,0]) \n",
    "ref_b =  np.array([0,0,0.2,0.02,0.02,0,0,0,0,0]) + 10**-9*np.ones(10)\n",
    "tresh = 0.01"
   ]
  },
  {
   "cell_type": "code",
   "execution_count": 77,
   "metadata": {},
   "outputs": [
    {
     "name": "stdout",
     "output_type": "stream",
     "text": [
      "Dowmsampled shape: (5, 5, 81)\n",
      "wrong\n",
      "Dowmsampled shape: (5, 5, 81)\n",
      "wrong\n",
      "Dowmsampled shape: (7, 7, 81)\n",
      "wrong\n",
      "Dowmsampled shape: (9, 9, 81)\n",
      "wrong\n",
      "Dowmsampled shape: (11, 11, 81)\n",
      "correct\n",
      "Dowmsampled shape: (14, 14, 81)\n",
      "wrong\n",
      "Dowmsampled shape: (21, 21, 81)\n",
      "correct\n"
     ]
    }
   ],
   "source": [
    "error = []\n",
    "pos_grid = []\n",
    "bor = 2\n",
    "for idx in x_range:\n",
    "    # Prepare data\n",
    "    down_data= np.take(np.take(np.take(data,np.arange(0,x_dim,idx),axis=0),np.arange(0,y_dim,idx),axis=1),np.arange(0,t_dim,1),axis=2)\n",
    "    print(\"Dowmsampled shape:\",down_data.shape)\n",
    "    width, width_2, steps = down_data.shape\n",
    "    x_arr, y_arr, t_arr = np.linspace(0,1,width), np.linspace(0,1,width_2), np.linspace(0,1,steps)\n",
    "    x_grid, y_grid, t_grid = np.meshgrid(x_arr, y_arr, t_arr, indexing='ij')\n",
    "    X = np.transpose((t_grid.flatten(), x_grid.flatten(), y_grid.flatten()))\n",
    "    y = down_data.reshape((down_data.size, 1))\n",
    "    pos_grid.append(width)\n",
    "    # Add noise to the solution \n",
    "    noise_level = 0.02\n",
    "    y_noisy = y + noise_level * np.std(y) * np.random.randn(y.size, 1)\n",
    "    solution = y_noisy.reshape(down_data.shape)\n",
    "    dim_w = 3\n",
    "    denoised_sol = []\n",
    "    for i in np.arange(steps):\n",
    "        uwn,sigmawn,vwn= np.linalg.svd(solution[:,:,i])\n",
    "        vwn = vwn.T\n",
    "        denoised_sol.append(uwn[:,0:dim_w].dot(np.diag(sigmawn[0:dim_w]).dot(vwn[:,0:dim_w].T)))\n",
    "    denoised_sol = np.transpose(np.array(denoised_sol),(1,2,0))\n",
    "    # Construct the library\n",
    "    u = denoised_sol[:,:,:][bor:-bor,bor:-bor,:]\n",
    "    u_t = finite_diff(denoised_sol[:,:,:],t_arr,order=1,axis=2)[bor:-bor,bor:-bor,:].reshape((-1, 1))\n",
    "    u_x = finite_diff(denoised_sol[:,:,:],x_arr,order=1,axis=0)[bor:-bor,bor:-bor,:]\n",
    "    u_xx = finite_diff(denoised_sol[:,:,:],x_arr,order=2,axis=0)[bor:-bor,bor:-bor,:]\n",
    "    u_y = finite_diff(denoised_sol[:,:,:],y_arr,order=1,axis=1)[bor:-bor,bor:-bor,:]\n",
    "    u_yy = finite_diff(denoised_sol[:,:,:],y_arr,order=2,axis=1)[bor:-bor,bor:-bor,:]\n",
    "    u_xy = finite_diff(finite_diff(denoised_sol[:,:,:],x_arr,order=1,axis=0),y_arr,order=1,axis=1)[bor:-bor,bor:-bor,:]\n",
    "    u_yyy = finite_diff(denoised_sol[:,:,:],y_arr,order=3,axis=1)[bor:-bor,bor:-bor,:]\n",
    "    u_xxx = finite_diff(denoised_sol[:,:,:],y_arr,order=3,axis=0)[bor:-bor,bor:-bor,:]\n",
    "    u_xxy = finite_diff(finite_diff(denoised_sol[:,:,:],x_arr,order=2,axis=0),y_arr,order=1,axis=1)[bor:-bor,bor:-bor,:]\n",
    "    u_yyx = finite_diff(finite_diff(denoised_sol[:,:,:],x_arr,order=2,axis=1),y_arr,order=1,axis=0)[bor:-bor,bor:-bor,:]\n",
    "\n",
    "    library = np.transpose((np.ones_like(u).flatten(), u_x.flatten(), u_y.flatten(),\n",
    "              u_xx.flatten(),u_yy.flatten(),u_xy.flatten(),u_xxx.flatten(),u_yyy.flatten(),u_xxy.flatten(),u_yyx.flatten()))\n",
    "\n",
    "    reg = LassoCV(fit_intercept=False, cv=10)\n",
    "    xi = reg.fit(library, u_t).coef_[:, None].flatten()\n",
    "    # xi[np.abs(xi) < thresh] = 0\n",
    "    for i in np.arange(len(xi)-1):\n",
    "        if np.abs(xi[i])<tresh:\n",
    "            xi[i]=0 \n",
    "    if np.ma.allequal(xi.astype(bool), mask) == True:\n",
    "        print('correct')\n",
    "        error.append(1) \n",
    "    else: \n",
    "        error.append(0); \n",
    "        print('wrong')"
   ]
  },
  {
   "cell_type": "code",
   "execution_count": null,
   "metadata": {},
   "outputs": [],
   "source": [
    "[4,5,7,9,11,14,21]"
   ]
  },
  {
   "cell_type": "code",
   "execution_count": 89,
   "metadata": {},
   "outputs": [],
   "source": [
    "error_2_noise = error"
   ]
  },
  {
   "cell_type": "markdown",
   "metadata": {},
   "source": [
    "## Phase diagram with noise"
   ]
  },
  {
   "cell_type": "code",
   "execution_count": 117,
   "metadata": {},
   "outputs": [],
   "source": [
    "x_range = [20,18,12,10,8,6,4]\n"
   ]
  },
  {
   "cell_type": "code",
   "execution_count": 118,
   "metadata": {},
   "outputs": [],
   "source": [
    "mask = np.array([False,False,True,True,True,False,False,False,False,False])\n",
    "ref = np.array([0,0,0.2,0.02,0.02,0,0,0,0,0]) \n",
    "ref_b =  np.array([0,0,0.2,0.02,0.02,0,0,0,0,0]) + 10**-9*np.ones(10)\n",
    "tresh = 0.01"
   ]
  },
  {
   "cell_type": "code",
   "execution_count": 119,
   "metadata": {},
   "outputs": [
    {
     "name": "stdout",
     "output_type": "stream",
     "text": [
      "Dowmsampled shape: (5, 5, 81)\n",
      "wrong\n",
      "Dowmsampled shape: (5, 5, 81)\n",
      "wrong\n",
      "Dowmsampled shape: (7, 7, 81)\n",
      "wrong\n",
      "Dowmsampled shape: (9, 9, 81)\n",
      "wrong\n",
      "Dowmsampled shape: (11, 11, 81)\n",
      "wrong\n",
      "Dowmsampled shape: (14, 14, 81)\n",
      "wrong\n",
      "Dowmsampled shape: (21, 21, 81)\n",
      "wrong\n"
     ]
    }
   ],
   "source": [
    "error = []\n",
    "pos_grid = []\n",
    "bor = 2\n",
    "for idx in x_range:\n",
    "    # Prepare data\n",
    "    down_data= np.take(np.take(np.take(data,np.arange(0,x_dim,idx),axis=0),np.arange(0,y_dim,idx),axis=1),np.arange(0,t_dim,1),axis=2)\n",
    "    print(\"Dowmsampled shape:\",down_data.shape)\n",
    "    width, width_2, steps = down_data.shape\n",
    "    x_arr, y_arr, t_arr = np.linspace(0,1,width), np.linspace(0,1,width_2), np.linspace(0,1,steps)\n",
    "    x_grid, y_grid, t_grid = np.meshgrid(x_arr, y_arr, t_arr, indexing='ij')\n",
    "    X = np.transpose((t_grid.flatten(), x_grid.flatten(), y_grid.flatten()))\n",
    "    y = down_data.reshape((down_data.size, 1))\n",
    "    pos_grid.append(width)\n",
    "    # Add noise to the solution \n",
    "    noise_level = 0.2\n",
    "    y_noisy = y + noise_level * np.std(y) * np.random.randn(y.size, 1)\n",
    "    solution = y_noisy.reshape(down_data.shape)\n",
    "    dim_w = 3\n",
    "    denoised_sol = []\n",
    "    for i in np.arange(steps):\n",
    "        uwn,sigmawn,vwn= np.linalg.svd(solution[:,:,i])\n",
    "        vwn = vwn.T\n",
    "        denoised_sol.append(uwn[:,0:dim_w].dot(np.diag(sigmawn[0:dim_w]).dot(vwn[:,0:dim_w].T)))\n",
    "    denoised_sol = np.transpose(np.array(denoised_sol),(1,2,0))\n",
    "    # Construct the library\n",
    "    u = denoised_sol[:,:,:][bor:-bor,bor:-bor,:]\n",
    "    u_t = finite_diff(denoised_sol[:,:,:],t_arr,order=1,axis=2)[bor:-bor,bor:-bor,:].reshape((-1, 1))\n",
    "    u_x = finite_diff(denoised_sol[:,:,:],x_arr,order=1,axis=0)[bor:-bor,bor:-bor,:]\n",
    "    u_xx = finite_diff(denoised_sol[:,:,:],x_arr,order=2,axis=0)[bor:-bor,bor:-bor,:]\n",
    "    u_y = finite_diff(denoised_sol[:,:,:],y_arr,order=1,axis=1)[bor:-bor,bor:-bor,:]\n",
    "    u_yy = finite_diff(denoised_sol[:,:,:],y_arr,order=2,axis=1)[bor:-bor,bor:-bor,:]\n",
    "    u_xy = finite_diff(finite_diff(denoised_sol[:,:,:],x_arr,order=1,axis=0),y_arr,order=1,axis=1)[bor:-bor,bor:-bor,:]\n",
    "    u_yyy = finite_diff(denoised_sol[:,:,:],y_arr,order=3,axis=1)[bor:-bor,bor:-bor,:]\n",
    "    u_xxx = finite_diff(denoised_sol[:,:,:],y_arr,order=3,axis=0)[bor:-bor,bor:-bor,:]\n",
    "    u_xxy = finite_diff(finite_diff(denoised_sol[:,:,:],x_arr,order=2,axis=0),y_arr,order=1,axis=1)[bor:-bor,bor:-bor,:]\n",
    "    u_yyx = finite_diff(finite_diff(denoised_sol[:,:,:],x_arr,order=2,axis=1),y_arr,order=1,axis=0)[bor:-bor,bor:-bor,:]\n",
    "\n",
    "    library = np.transpose((np.ones_like(u).flatten(), u_x.flatten(), u_y.flatten(),\n",
    "              u_xx.flatten(),u_yy.flatten(),u_xy.flatten(),u_xxx.flatten(),u_yyy.flatten(),u_xxy.flatten(),u_yyx.flatten()))\n",
    "\n",
    "    reg = LassoCV(fit_intercept=False, cv=10)\n",
    "    xi = reg.fit(library, u_t).coef_[:, None].flatten()\n",
    "    # xi[np.abs(xi) < thresh] = 0\n",
    "    for i in np.arange(len(xi)-1):\n",
    "        if np.abs(xi[i])<tresh:\n",
    "            xi[i]=0 \n",
    "    if np.ma.allequal(xi.astype(bool), mask) == True:\n",
    "        print('correct')\n",
    "        error.append(1) \n",
    "    else: \n",
    "        error.append(0); \n",
    "        print('wrong')"
   ]
  },
  {
   "cell_type": "code",
   "execution_count": 123,
   "metadata": {},
   "outputs": [],
   "source": [
    "error_20_noise = error"
   ]
  },
  {
   "cell_type": "code",
   "execution_count": null,
   "metadata": {},
   "outputs": [],
   "source": [
    "plt.figure(figsize=(3, 3))\n",
    "plt.imshow(np.array(error).reshape(6,8),aspect=1)\n",
    "plt.xlabel('Number of temporal points')\n",
    "plt.ylabel('Number of spatial points')\n",
    "plt.xticks([0,1,2,3,4,5,6,7],['3','4', '5', '6', '7','11','21','41'])\n",
    "plt.yticks([0,1,2,3,4,5],['41','21','14','11','9','7'])\n",
    "plt.savefig('Lasso_20_noise.pdf')\n",
    "plt.show()"
   ]
  },
  {
   "cell_type": "markdown",
   "metadata": {},
   "source": [
    "## Spatial and temporal "
   ]
  },
  {
   "cell_type": "code",
   "execution_count": 82,
   "metadata": {},
   "outputs": [],
   "source": [
    "mask = np.array([False,False,True,True,True,False,False,False,False])"
   ]
  },
  {
   "cell_type": "code",
   "execution_count": 83,
   "metadata": {},
   "outputs": [],
   "source": [
    "ref = np.array([0,0,0.2,0.02,0.02,0,0,0,0]) \n",
    "ref_b =  np.array([0,0,0.2,0.02,0.02,0,0,0,0]) + 10**-9*np.ones(9)"
   ]
  },
  {
   "cell_type": "code",
   "execution_count": 84,
   "metadata": {},
   "outputs": [
    {
     "data": {
      "text/plain": [
       "[4, 5, 6, 7, 8, 10, 12, 14, 16, 18]"
      ]
     },
     "execution_count": 84,
     "metadata": {},
     "output_type": "execute_result"
    }
   ],
   "source": [
    "[4,5,6,7,8,10,12,14,16,18]"
   ]
  },
  {
   "cell_type": "code",
   "execution_count": 85,
   "metadata": {},
   "outputs": [
    {
     "name": "stdout",
     "output_type": "stream",
     "text": [
      "noise_02_random/x3\n"
     ]
    }
   ],
   "source": [
    "print('noise_02_random/x'+str(idx))"
   ]
  },
  {
   "cell_type": "code",
   "execution_count": 110,
   "metadata": {},
   "outputs": [
    {
     "name": "stdout",
     "output_type": "stream",
     "text": [
      "wrong\n",
      "wrong\n",
      "correct\n",
      "correct\n",
      "correct\n",
      "correct\n",
      "correct\n"
     ]
    }
   ],
   "source": [
    "data_loop = [3,5,7,9,11,14,21]\n",
    "error_20_random = []\n",
    "for idx in data_loop:\n",
    "    df = load_tensorboard('noise_20_random/x_'+str(idx)+'/')\n",
    "    xi = np.abs(np.array([df.loc[:,'unscaled_coeffs_output_0_coeff_'+str(i)] for i in np.arange(0,9)]))[:,-1]\n",
    "    if np.ma.allequal(xi.astype(bool), mask) == True:\n",
    "        print('correct')\n",
    "        error_20_random.append(1) \n",
    "    else:\n",
    "        error_20_random.append(0); \n",
    "        print('wrong')"
   ]
  },
  {
   "cell_type": "code",
   "execution_count": 86,
   "metadata": {},
   "outputs": [
    {
     "name": "stdout",
     "output_type": "stream",
     "text": [
      "wrong\n",
      "correct\n",
      "correct\n",
      "correct\n",
      "correct\n",
      "correct\n",
      "correct\n"
     ]
    }
   ],
   "source": [
    "data_loop = [3,5,7,9,11,14,21]\n",
    "error_02_random = []\n",
    "for idx in data_loop:\n",
    "    df = load_tensorboard('noise_02_random/x_'+str(idx)+'/')\n",
    "    xi = np.abs(np.array([df.loc[:,'unscaled_coeffs_output_0_coeff_'+str(i)] for i in np.arange(0,9)]))[:,-1]\n",
    "    if np.ma.allequal(xi.astype(bool), mask) == True:\n",
    "        print('correct')\n",
    "        error_02_random.append(1) \n",
    "    else:\n",
    "        error_02_random.append(0); \n",
    "        print('wrong')"
   ]
  },
  {
   "cell_type": "code",
   "execution_count": 111,
   "metadata": {},
   "outputs": [
    {
     "name": "stdout",
     "output_type": "stream",
     "text": [
      "wrong\n",
      "wrong\n",
      "wrong\n",
      "correct\n",
      "wrong\n",
      "correct\n",
      "correct\n"
     ]
    }
   ],
   "source": [
    "data_loop = [3,5,7,9,11,14,21]\n",
    "error_02_grid = []\n",
    "for idx in data_loop:\n",
    "    df = load_tensorboard('grid_2_noise/'+str(idx)+'/')\n",
    "    xi = np.abs(np.array([df.loc[:,'unscaled_coeffs_output_0_coeff_'+str(i)] for i in np.arange(0,9)]))[:,-1]\n",
    "    if np.ma.allequal(xi.astype(bool), mask) == True:\n",
    "        print('correct')\n",
    "        error_02_grid.append(1) \n",
    "    else:\n",
    "        error_02_grid.append(0); \n",
    "        print('wrong')"
   ]
  },
  {
   "cell_type": "code",
   "execution_count": 113,
   "metadata": {},
   "outputs": [
    {
     "name": "stdout",
     "output_type": "stream",
     "text": [
      "wrong\n",
      "wrong\n",
      "wrong\n",
      "wrong\n",
      "correct\n",
      "correct\n",
      "correct\n"
     ]
    }
   ],
   "source": [
    "data_loop = [3,5,7,9,11,14,21]\n",
    "error_20_grid = []\n",
    "for idx in data_loop:\n",
    "    df = load_tensorboard('grid_20_noise/'+str(idx)+'/')\n",
    "    xi = np.abs(np.array([df.loc[:,'unscaled_coeffs_output_0_coeff_'+str(i)] for i in np.arange(0,9)]))[:,-1]\n",
    "    if np.ma.allequal(xi.astype(bool), mask) == True:\n",
    "        print('correct')\n",
    "        error_20_grid.append(1) \n",
    "    else:\n",
    "        error_20_grid.append(0); \n",
    "        print('wrong')"
   ]
  },
  {
   "cell_type": "code",
   "execution_count": 112,
   "metadata": {},
   "outputs": [
    {
     "name": "stdout",
     "output_type": "stream",
     "text": [
      "wrong\n",
      "wrong\n",
      "wrong\n",
      "wrong\n",
      "correct\n",
      "correct\n",
      "correct\n"
     ]
    }
   ],
   "source": [
    "data_loop = [3,5,7,9,11,14,21]\n",
    "error_20_grid = []\n",
    "for idx in data_loop:\n",
    "    df = load_tensorboard('grid_20_noise/'+str(idx)+'/')\n",
    "    xi = np.abs(np.array([df.loc[:,'unscaled_coeffs_output_0_coeff_'+str(i)] for i in np.arange(0,9)]))[:,-1]\n",
    "    if np.ma.allequal(xi.astype(bool), mask) == True:\n",
    "        print('correct')\n",
    "        error_20_grid.append(1) \n",
    "    else:\n",
    "        error_20_grid.append(0); \n",
    "        print('wrong')"
   ]
  },
  {
   "cell_type": "code",
   "execution_count": 101,
   "metadata": {},
   "outputs": [],
   "source": [
    "error_2p = np.vstack((np.array(error_2_noise),np.array(error_02_grid),np.array(error_02_random)))"
   ]
  },
  {
   "cell_type": "code",
   "execution_count": 124,
   "metadata": {},
   "outputs": [],
   "source": [
    "error_20p = np.vstack((np.array(error_20_noise),np.array(error_20_grid),np.array(error_20_random)))"
   ]
  },
  {
   "cell_type": "code",
   "execution_count": 122,
   "metadata": {},
   "outputs": [
    {
     "data": {
      "text/plain": [
       "array([0, 0, 0, 0, 0, 0, 0, 0, 0, 0])"
      ]
     },
     "execution_count": 122,
     "metadata": {},
     "output_type": "execute_result"
    }
   ],
   "source": [
    "np.array(error_20_noise)"
   ]
  },
  {
   "cell_type": "code",
   "execution_count": 109,
   "metadata": {},
   "outputs": [
    {
     "data": {
      "image/png": "[encoded data removed]",
      "text/plain": [
       "<Figure size 288x288 with 1 Axes>"
      ]
     },
     "metadata": {
      "needs_background": "light"
     },
     "output_type": "display_data"
    }
   ],
   "source": [
    "plt.figure(figsize=(4, 4))\n",
    "plt.imshow(error_2p,aspect=1/2)\n",
    "plt.xlabel('Number of spatial point')\n",
    "plt.xticks([0,1,2,3,4,5,6],['3','5', '7','9','11','14','21'])\n",
    "plt.yticks([0,1,2],['FD Gird','NN Grid','NN Random'])\n",
    "#plt.savefig('Lasso_20_noise.pdf')\n",
    "plt.show()"
   ]
  },
  {
   "cell_type": "code",
   "execution_count": 125,
   "metadata": {},
   "outputs": [
    {
     "data": {
      "image/png": "[encoded data removed]",
      "text/plain": [
       "<Figure size 288x288 with 1 Axes>"
      ]
     },
     "metadata": {
      "needs_background": "light"
     },
     "output_type": "display_data"
    }
   ],
   "source": [
    "plt.figure(figsize=(4, 4))\n",
    "plt.imshow(error_20p,aspect=1/2)\n",
    "plt.xlabel('Number of spatial point')\n",
    "plt.xticks([0,1,2,3,4,5,6],['3','5', '7','9','11','14','21'])\n",
    "plt.yticks([0,1,2],['FD Gird','NN Grid','NN Random'])\n",
    "#plt.savefig('Lasso_20_noise.pdf')\n",
    "plt.show()"
   ]
  },
  {
   "cell_type": "code",
   "execution_count": null,
   "metadata": {},
   "outputs": [],
   "source": []
  }
 ],
 "metadata": {
  "kernelspec": {
   "display_name": "Python 3",
   "language": "python",
   "name": "python3"
  },
  "language_info": {
   "codemirror_mode": {
    "name": "ipython",
    "version": 3
   },
   "file_extension": ".py",
   "mimetype": "text/x-python",
   "name": "python",
   "nbconvert_exporter": "python",
   "pygments_lexer": "ipython3",
   "version": "3.8.3"
  }
 },
 "nbformat": 4,
 "nbformat_minor": 4
}
