{
 "cells": [
  {
   "cell_type": "code",
   "execution_count": 1,
   "metadata": {},
   "outputs": [],
   "source": [
    "# General imports\n",
    "import numpy as np\n",
    "import torch\n",
    "import random\n",
    "\n",
    "# DeepMoD functions\n",
    "import matplotlib.pylab as plt\n",
    "from deepymod import DeepMoD\n",
    "from deepymod.model.func_approx import NN\n",
    "from deepymod.model.library import Library2D_third\n",
    "from deepymod.model.constraint import LeastSquares\n",
    "from deepymod.model.sparse_estimators import Threshold,PDEFIND\n",
    "from deepymod.training import train\n",
    "from deepymod.training.sparsity_scheduler import TrainTestPeriodic\n",
    "from scipy.io import loadmat\n",
    "\n",
    "# Settings for reproducibility\n",
    "np.random.seed(1)\n",
    "torch.manual_seed(1)\n",
    "\n",
    "if torch.cuda.is_available():\n",
    "    device = 'cuda'\n",
    "else:\n",
    "    device = 'cpu'"
   ]
  },
  {
   "cell_type": "code",
   "execution_count": null,
   "metadata": {},
   "outputs": [
    {
     "name": "stdout",
     "output_type": "stream",
     "text": [
      " 49975  MSE: 2.81e-05  Reg: 5.92e-06  L1: 1.40e+00 Algorithm converged. Writing model to disk.\n",
      " 49975  MSE: 8.75e-07  Reg: 1.27e-06  L1: 1.52e+00 Algorithm converged. Writing model to disk.\n",
      " 40025  MSE: 1.80e-06  Reg: 2.74e-06  L1: 1.33e+00 Algorithm converged. Writing model to disk.\n",
      " 49975  MSE: 3.08e-05  Reg: 1.40e-05  L1: 1.52e+00 Algorithm converged. Writing model to disk.\n",
      " 49975  MSE: 7.15e-07  Reg: 2.34e-06  L1: 1.35e+00 Algorithm converged. Writing model to disk.\n",
      " 21300  MSE: 1.49e-04  Reg: 3.24e-05  L1: 1.55e+00 Algorithm converged. Writing model to disk.\n",
      " 39825  MSE: 1.34e-05  Reg: 8.49e-06  L1: 1.50e+00 "
     ]
    }
   ],
   "source": [
    "data = loadmat('../../Diffusion_2D_space81.mat')\n",
    "data = np.real(data['Expression1']).reshape((81,81,81,4))[:,:,:,3]\n",
    "\n",
    "width, width_2, steps = data.shape\n",
    "x_arr = np.linspace(0,1,width)\n",
    "y_arr = np.linspace(0,1,width_2)\n",
    "t_arr = np.linspace(0,1,steps)\n",
    "x_grid, y_grid, t_grid = np.meshgrid(x_arr, y_arr, t_arr, indexing='ij')\n",
    "\n",
    "for idn in [3,5,7,9,11,14,21]:\n",
    "    number_of_samples = idn\n",
    "    tot_samples = number_of_samples*number_of_samples\n",
    "    x_grid_new = np.empty([number_of_samples,number_of_samples,steps])\n",
    "    y_grid_new = np.empty([number_of_samples,number_of_samples,steps])\n",
    "    t_grid_new = np.empty([number_of_samples,number_of_samples,steps])\n",
    "    data_new = np.empty([number_of_samples,number_of_samples,steps])\n",
    "    for i in np.arange(steps):\n",
    "        list_x = [random.sample(range(1,width),number_of_samples) for i in np.arange(0,number_of_samples)]\n",
    "        list_y = [random.sample(range(1,width_2),number_of_samples) for i in np.arange(0,number_of_samples)]\n",
    "        x_grid_new[:,:,i] = x_grid[list_x,list_y,i]\n",
    "        y_grid_new[:,:,i] = y_grid[list_x,list_y,i]\n",
    "        t_grid_new[:,:,i] = t_grid[list_x,list_y,i]\n",
    "        data_new[:,:,i] = data[list_x,list_y,i]\n",
    "    X = np.transpose((t_grid_new.flatten(), x_grid_new.flatten(), y_grid_new.flatten()))\n",
    "    y = np.float32(data_new.reshape((data_new.size, 1)))\n",
    "\n",
    "    # Add noise \n",
    "    noise_level = 0.0\n",
    "    y_noisy = y + noise_level * np.std(y) * np.random.randn(y.size, 1)\n",
    "    # Randomize data \n",
    "\n",
    "    idx = np.random.permutation(y.shape[0])\n",
    "    X_train = torch.tensor(X[idx, :], dtype=torch.float32, requires_grad=True).to(device)\n",
    "    y_train = torch.tensor(y_noisy[idx], dtype=torch.float32).to(device)\n",
    "\n",
    "    # Configure DeepMoD\n",
    "\n",
    "    network = NN(3, [40, 40, 40, 40], 1)\n",
    "    library = Library2D_third(poly_order=0) \n",
    "    estimator = Threshold(0.05) \n",
    "    sparsity_scheduler = TrainTestPeriodic(periodicity=50, patience=200, delta=1e-5) \n",
    "    constraint = LeastSquares() \n",
    "    model = DeepMoD(network, library, estimator, constraint).to(device)\n",
    "    optimizer = torch.optim.Adam(model.parameters(), betas=(0.99, 0.99), amsgrad=True, lr=2e-3) \n",
    "    logdir='noise_0_random/x_' + str(idn)\n",
    "    train(model, X_train, y_train, optimizer,sparsity_scheduler, log_dir=logdir, split=0.8, max_iterations=50000, delta=1e-5, patience=200) \n"
   ]
  },
  {
   "cell_type": "code",
   "execution_count": null,
   "metadata": {},
   "outputs": [],
   "source": []
  }
 ],
 "metadata": {
  "kernelspec": {
   "display_name": "Python 3",
   "language": "python",
   "name": "python3"
  },
  "language_info": {
   "codemirror_mode": {
    "name": "ipython",
    "version": 3
   },
   "file_extension": ".py",
   "mimetype": "text/x-python",
   "name": "python",
   "nbconvert_exporter": "python",
   "pygments_lexer": "ipython3",
   "version": "3.8.3"
  }
 },
 "nbformat": 4,
 "nbformat_minor": 4
}
