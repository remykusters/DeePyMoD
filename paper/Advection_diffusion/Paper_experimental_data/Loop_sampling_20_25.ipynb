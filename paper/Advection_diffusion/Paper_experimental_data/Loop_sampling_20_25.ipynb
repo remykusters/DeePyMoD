{
 "cells": [
  {
   "cell_type": "code",
   "execution_count": null,
   "metadata": {},
   "outputs": [],
   "source": [
    "# General imports\n",
    "import numpy as np\n",
    "import torch\n",
    "import random\n",
    "\n",
    "# DeepMoD functions\n",
    "from deepymod import DeepMoD\n",
    "from deepymod.model.func_approx import NN\n",
    "from deepymod.model.library import Library2D_third\n",
    "from deepymod.model.constraint import LeastSquares\n",
    "from deepymod.model.sparse_estimators import Threshold,PDEFIND\n",
    "from deepymod.training import train\n",
    "from deepymod.training.sparsity_scheduler import TrainTestPeriodic\n",
    "from scipy.io import loadmat\n",
    "\n",
    "# Settings for reproducibility\n",
    "np.random.seed(1)\n",
    "torch.manual_seed(1)\n",
    "\n",
    "if torch.cuda.is_available():\n",
    "    device = 'cuda'\n",
    "else:\n",
    "    device = 'cpu'"
   ]
  },
  {
   "cell_type": "code",
   "execution_count": null,
   "metadata": {},
   "outputs": [
    {
     "name": "stdout",
     "output_type": "stream",
     "text": [
      "Dowmsampled shape: (8, 10, 25) Total number of data points: 2000\n",
      "  2100  MSE: 6.35e-04  Reg: 2.15e-04  L1: 1.06e+04 "
     ]
    }
   ],
   "source": [
    "for idt in [1,2,3,4,5,7,10]:\n",
    "    \n",
    "    data = np.load('diffusion_advection_29longb.npy').T\n",
    "    data = data[120:-60,:,5:30]\n",
    "    width, width_2, steps = data.shape\n",
    "    data= np.take(data,np.arange(0,steps,idt),axis=2)\n",
    "    width, width_2, steps = data.shape\n",
    "    x_arr, y_arr, t_arr = np.linspace(0,1,width), np.linspace(0,1,width_2), np.linspace(0,1,steps)\n",
    "    x_grid, y_grid, t_grid = np.meshgrid(x_arr, y_arr, t_arr, indexing='ij')\n",
    "\n",
    "\n",
    "    num_sam_x, num_sam_y = 8,10\n",
    "    tot_samples = num_sam_x*num_sam_y\n",
    "    x_grid_new = np.empty([num_sam_x,num_sam_y,steps])\n",
    "    y_grid_new = np.empty([num_sam_x,num_sam_y,steps])\n",
    "    t_grid_new = np.empty([num_sam_x,num_sam_y,steps])\n",
    "    data_new = np.empty([num_sam_x,num_sam_y,steps])\n",
    "    for i in np.arange(steps):\n",
    "        list_x = [random.sample(range(1,width),num_sam_y) for i in np.arange(0,num_sam_x)]\n",
    "        list_y = [random.sample(range(1,width_2),num_sam_y) for i in np.arange(0,num_sam_x)]\n",
    "        x_grid_new[:,:,i] = x_grid[list_x,list_y,i]\n",
    "        y_grid_new[:,:,i] = y_grid[list_x,list_y,i]\n",
    "        t_grid_new[:,:,i] = t_grid[list_x,list_y,i]\n",
    "        data_new[:,:,i] = data[list_x,list_y,i]\n",
    "    print(\"Dowmsampled shape:\",x_grid_new.shape, \"Total number of data points:\", np.product(x_grid_new.shape))\n",
    "\n",
    "    X = np.transpose((t_grid_new.flatten(), x_grid_new.flatten(), y_grid_new.flatten()))\n",
    "    y = np.float32(data_new.reshape((data_new.size, 1)))\n",
    "    y = y/np.max(y)\n",
    "    # Add noise \n",
    "    noise_level = 0.0\n",
    "    y_noisy = y + noise_level * np.std(y) * np.random.randn(y.size, 1)\n",
    "    # Randomize data \n",
    "\n",
    "    idx = np.random.permutation(y.shape[0])\n",
    "    X_train = torch.tensor(X[idx, :], dtype=torch.float32, requires_grad=True).to(device)\n",
    "    y_train = torch.tensor(y_noisy[idx], dtype=torch.float32).to(device)\n",
    "\n",
    "    # Configure DeepMoD\n",
    "\n",
    "    network = NN(3, [40, 40, 40, 40], 1)\n",
    "    library = Library2D_third(poly_order=0) \n",
    "    estimator = Threshold(0.05) \n",
    "    sparsity_scheduler = TrainTestPeriodic(periodicity=50, patience=200, delta=1e-5) \n",
    "    constraint = LeastSquares() \n",
    "    model = DeepMoD(network, library, estimator, constraint).to(device)\n",
    "    optimizer = torch.optim.Adam(model.parameters(), betas=(0.99, 0.99), amsgrad=True, lr=2e-3) \n",
    "    logdir='random_x_8_10/t_' + str(data.shape[2])\n",
    "    train(model, X_train, y_train, optimizer,sparsity_scheduler, log_dir=logdir, split=0.8, max_iterations=50000, delta=1e-5, patience=200) "
   ]
  },
  {
   "cell_type": "code",
   "execution_count": null,
   "metadata": {},
   "outputs": [],
   "source": []
  }
 ],
 "metadata": {
  "kernelspec": {
   "display_name": "Python 3",
   "language": "python",
   "name": "python3"
  },
  "language_info": {
   "codemirror_mode": {
    "name": "ipython",
    "version": 3
   },
   "file_extension": ".py",
   "mimetype": "text/x-python",
   "name": "python",
   "nbconvert_exporter": "python",
   "pygments_lexer": "ipython3",
   "version": "3.8.3"
  }
 },
 "nbformat": 4,
 "nbformat_minor": 4
}
