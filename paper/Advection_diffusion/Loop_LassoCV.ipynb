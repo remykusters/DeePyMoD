{
 "cells": [
  {
   "cell_type": "markdown",
   "metadata": {},
   "source": [
    "# 2D Advection-Diffusion equation"
   ]
  },
  {
   "cell_type": "markdown",
   "metadata": {},
   "source": [
    "in this notebook we provide a simple example of the DeepMoD algorithm and apply it on the 2D advection-diffusion equation. "
   ]
  },
  {
   "cell_type": "code",
   "execution_count": 8,
   "metadata": {},
   "outputs": [],
   "source": [
    "# General imports\n",
    "import numpy as np\n",
    "import torch\n",
    "# DeepMoD functions\n",
    "from deepymod import DeepMoD\n",
    "from deepymod.model.func_approx import NN\n",
    "from deepymod.model.library import Library2D_third\n",
    "from deepymod.model.constraint import LeastSquares\n",
    "from deepymod.model.sparse_estimators import Threshold,PDEFIND\n",
    "from deepymod.training import train\n",
    "from deepymod.training.sparsity_scheduler import TrainTestPeriodic\n",
    "from scipy.io import loadmat\n",
    "\n",
    "from sklearn.linear_model import LassoCV\n",
    "from derivatives import finite_diff\n",
    "\n",
    "\n",
    "# Settings for reproducibility\n",
    "np.random.seed(1)\n",
    "torch.manual_seed(1)\n",
    "\n",
    "if torch.cuda.is_available():\n",
    "    device = 'cuda'\n",
    "else:\n",
    "    device = 'cpu'"
   ]
  },
  {
   "cell_type": "markdown",
   "metadata": {},
   "source": [
    "## Prepare the data"
   ]
  },
  {
   "cell_type": "markdown",
   "metadata": {},
   "source": [
    "Next, we prepare the dataset."
   ]
  },
  {
   "cell_type": "code",
   "execution_count": 3,
   "metadata": {},
   "outputs": [],
   "source": [
    "data_pre = np.load('diffusion_advection_29longb.npy').T\n",
    "data = data_pre[120:-60,:,5:30]\n",
    "x_dim, y_dim, t_dim = data.shape"
   ]
  },
  {
   "cell_type": "code",
   "execution_count": 13,
   "metadata": {},
   "outputs": [
    {
     "name": "stdout",
     "output_type": "stream",
     "text": [
      "Dowmsampled shape: (120, 150, 25)\n"
     ]
    }
   ],
   "source": [
    "# Prepare data\n",
    "idx, idt = 1 , 1\n",
    "down_data= np.take(np.take(np.take(data,np.arange(0,x_dim,idx),axis=0),np.arange(0,y_dim,idx),axis=1),np.arange(0,t_dim,idt),axis=2)\n",
    "print(\"Dowmsampled shape:\",down_data.shape)\n",
    "width, width_2, steps = down_data.shape\n",
    "x_arr, y_arr, t_arr = np.linspace(0,1,width), np.linspace(0,1,width_2), np.linspace(0,1,steps)\n",
    "x_grid, y_grid, t_grid = np.meshgrid(x_arr, y_arr, t_arr, indexing='ij')\n",
    "X = np.transpose((t_grid.flatten(), x_grid.flatten(), y_grid.flatten()))\n",
    "y = down_data.reshape((down_data.size, 1))\n",
    "\n",
    "# Add noise to the solution \n",
    "noise_level = 0.0\n",
    "y_noisy = y + noise_level * np.std(y) * np.random.randn(y.size, 1)\n",
    "solution = y_noisy.reshape(down_data.shape)\n",
    "\n",
    "dim_w = 3\n",
    "denoised_sol = []\n",
    "for i in np.arange(steps):\n",
    "    uwn,sigmawn,vwn= np.linalg.svd(solution[:,:,i])\n",
    "    vwn = vwn.T\n",
    "    denoised_sol.append(uwn[:,0:dim_w].dot(np.diag(sigmawn[0:dim_w]).dot(vwn[:,0:dim_w].T)))\n",
    "denoised_sol = np.transpose(np.array(denoised_sol),(1,2,0))\n"
   ]
  },
  {
   "cell_type": "code",
   "execution_count": 14,
   "metadata": {},
   "outputs": [],
   "source": [
    "mask = np.array([False,False,True,True,True,False])\n",
    "ref = np.array([0,0,0.2,0.02,0.02,0]) \n",
    "ref_b =  np.array([0,0,0.2,0.02,0.02,0]) + 10**-9*np.ones(6)"
   ]
  },
  {
   "cell_type": "code",
   "execution_count": 15,
   "metadata": {},
   "outputs": [
    {
     "name": "stdout",
     "output_type": "stream",
     "text": [
      "[ 0.00000000e+00  4.00104104e-01 -9.89956007e-03  5.92485650e-05\n",
      "  1.12730342e-04 -7.46509247e-05]\n",
      "wrong\n"
     ]
    }
   ],
   "source": [
    "bor = 2\n",
    "# Construct the library\n",
    "u = denoised_sol[:,:,:][bor:-bor,bor:-bor,:]\n",
    "u_t = finite_diff(denoised_sol[:,:,:],t_arr,order=1,axis=2)[bor:-bor,bor:-bor,:].reshape((-1, 1))\n",
    "u_x = finite_diff(denoised_sol[:,:,:],x_arr,order=1,axis=0)[bor:-bor,bor:-bor,:]\n",
    "u_xx = finite_diff(denoised_sol[:,:,:],x_arr,order=2,axis=0)[bor:-bor,bor:-bor,:]\n",
    "u_y = finite_diff(denoised_sol[:,:,:],y_arr,order=1,axis=1)[bor:-bor,bor:-bor,:]\n",
    "u_yy = finite_diff(denoised_sol[:,:,:],y_arr,order=2,axis=1)[bor:-bor,bor:-bor,:]\n",
    "u_xy = finite_diff(finite_diff(denoised_sol[:,:,:],x_arr,order=1,axis=0),y_arr,order=1,axis=1)[bor:-bor,bor:-bor,:]\n",
    "\n",
    "library = np.transpose((np.ones_like(u).flatten(), u_x.flatten(), u_y.flatten(),\n",
    "                  u_xx.flatten(),u_yy.flatten(),u_xy.flatten()))"
   ]
  },
  {
   "cell_type": "code",
   "execution_count": 16,
   "metadata": {},
   "outputs": [
    {
     "name": "stdout",
     "output_type": "stream",
     "text": [
      "[ 0.00000000e+00  4.00104104e-01 -9.89956007e-03  5.92485650e-05\n",
      "  1.12730342e-04 -7.46509247e-05]\n",
      "wrong\n"
     ]
    }
   ],
   "source": [
    "reg = LassoCV(fit_intercept=False, cv=10)\n",
    "xi = reg.fit(library, u_t).coef_[:, None].flatten()\n",
    "print(xi)\n",
    "if np.ma.allequal(xi.astype(bool), mask) == True:\n",
    "    print('correct')\n",
    "    k = np.sum(np.abs((xi-ref)/ref_b))\n",
    "    print(np.sum(np.abs((xi-ref)/ref_b)))\n",
    "else: \n",
    "    print('wrong')"
   ]
  },
  {
   "cell_type": "code",
   "execution_count": null,
   "metadata": {},
   "outputs": [],
   "source": []
  }
 ],
 "metadata": {
  "kernelspec": {
   "display_name": "Python 3",
   "language": "python",
   "name": "python3"
  },
  "language_info": {
   "codemirror_mode": {
    "name": "ipython",
    "version": 3
   },
   "file_extension": ".py",
   "mimetype": "text/x-python",
   "name": "python",
   "nbconvert_exporter": "python",
   "pygments_lexer": "ipython3",
   "version": "3.8.3"
  }
 },
 "nbformat": 4,
 "nbformat_minor": 4
}
