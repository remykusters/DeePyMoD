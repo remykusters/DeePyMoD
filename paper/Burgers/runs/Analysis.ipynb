{
 "cells": [
  {
   "cell_type": "markdown",
   "metadata": {},
   "source": [
    "# 2D Advection-Diffusion equation"
   ]
  },
  {
   "cell_type": "markdown",
   "metadata": {},
   "source": [
    "in this notebook we provide a simple example of the DeepMoD algorithm and apply it on the 2D advection-diffusion equation. "
   ]
  },
  {
   "cell_type": "code",
   "execution_count": 1,
   "metadata": {},
   "outputs": [],
   "source": [
    "# Generalimports\n",
    "import numpy as np\n",
    "import torch\n",
    "\n",
    "# DeepMoD functions\n",
    "\n",
    "from deepymod import DeepMoD\n",
    "from deepymod.model.func_approx import NN, Siren\n",
    "from deepymod.model.library import Library2D_third\n",
    "from deepymod.model.constraint import LeastSquares\n",
    "from deepymod.model.sparse_estimators import Threshold,PDEFIND\n",
    "from deepymod.training import train\n",
    "from deepymod.training.sparsity_scheduler import TrainTestPeriodic\n",
    "from deepymod.analysis import load_tensorboard\n",
    "from scipy.io import loadmat\n",
    "\n",
    "import matplotlib.pyplot as plt\n",
    "from matplotlib.gridspec import GridSpec\n",
    "\n",
    "# Settings for reproducibility\n",
    "np.random.seed(40)\n",
    "torch.manual_seed(0)\n",
    "\n",
    "\n",
    "%load_ext autoreload\n",
    "%autoreload 2\n"
   ]
  },
  {
   "cell_type": "code",
   "execution_count": 14,
   "metadata": {},
   "outputs": [],
   "source": [
    "df = load_tensorboard('runs/figure_4')"
   ]
  },
  {
   "cell_type": "code",
   "execution_count": 23,
   "metadata": {},
   "outputs": [],
   "source": [
    "df = load_tensorboard('runs/figure_5')"
   ]
  },
  {
   "cell_type": "code",
   "execution_count": 3,
   "metadata": {},
   "outputs": [
    {
     "data": {
      "text/html": [
       "<div>\n",
       "<style scoped>\n",
       "    .dataframe tbody tr th:only-of-type {\n",
       "        vertical-align: middle;\n",
       "    }\n",
       "\n",
       "    .dataframe tbody tr th {\n",
       "        vertical-align: top;\n",
       "    }\n",
       "\n",
       "    .dataframe thead th {\n",
       "        text-align: right;\n",
       "    }\n",
       "</style>\n",
       "<table border=\"1\" class=\"dataframe\">\n",
       "  <thead>\n",
       "    <tr style=\"text-align: right;\">\n",
       "      <th></th>\n",
       "      <th>loss_loss</th>\n",
       "      <th>remaining_MSE_test</th>\n",
       "      <th>unscaled_coeffs_output_0_coeff_9</th>\n",
       "      <th>estimator_coeffs_output_0_coeff_8</th>\n",
       "      <th>estimator_coeffs_output_0_coeff_2</th>\n",
       "      <th>unscaled_coeffs_output_0_coeff_11</th>\n",
       "      <th>unscaled_coeffs_output_0_coeff_10</th>\n",
       "      <th>coeffs_output_0_coeff_5</th>\n",
       "      <th>coeffs_output_0_coeff_11</th>\n",
       "      <th>estimator_coeffs_output_0_coeff_0</th>\n",
       "      <th>...</th>\n",
       "      <th>estimator_coeffs_output_0_coeff_10</th>\n",
       "      <th>coeffs_output_0_coeff_1</th>\n",
       "      <th>unscaled_coeffs_output_0_coeff_7</th>\n",
       "      <th>estimator_coeffs_output_0_coeff_1</th>\n",
       "      <th>coeffs_output_0_coeff_0</th>\n",
       "      <th>coeffs_output_0_coeff_6</th>\n",
       "      <th>estimator_coeffs_output_0_coeff_6</th>\n",
       "      <th>coeffs_output_0_coeff_9</th>\n",
       "      <th>unscaled_coeffs_output_0_coeff_8</th>\n",
       "      <th>coeffs_output_0_coeff_2</th>\n",
       "    </tr>\n",
       "  </thead>\n",
       "  <tbody>\n",
       "    <tr>\n",
       "      <th>0</th>\n",
       "      <td>0.128409</td>\n",
       "      <td>0.105241</td>\n",
       "      <td>87.670959</td>\n",
       "      <td>-0.201631</td>\n",
       "      <td>0.000000</td>\n",
       "      <td>-95.111168</td>\n",
       "      <td>130.347183</td>\n",
       "      <td>0.085840</td>\n",
       "      <td>-0.077831</td>\n",
       "      <td>0.583039</td>\n",
       "      <td>...</td>\n",
       "      <td>0.000000</td>\n",
       "      <td>0.047616</td>\n",
       "      <td>-0.266084</td>\n",
       "      <td>-0.437865</td>\n",
       "      <td>0.984411</td>\n",
       "      <td>-0.574629</td>\n",
       "      <td>-0.164783</td>\n",
       "      <td>0.144204</td>\n",
       "      <td>-7.135451</td>\n",
       "      <td>0.026575</td>\n",
       "    </tr>\n",
       "    <tr>\n",
       "      <th>25</th>\n",
       "      <td>0.051672</td>\n",
       "      <td>0.052413</td>\n",
       "      <td>-23.036959</td>\n",
       "      <td>-1.335327</td>\n",
       "      <td>-0.929022</td>\n",
       "      <td>-1.159716</td>\n",
       "      <td>4.803224</td>\n",
       "      <td>8.926932</td>\n",
       "      <td>-0.195851</td>\n",
       "      <td>2.021521</td>\n",
       "      <td>...</td>\n",
       "      <td>0.000000</td>\n",
       "      <td>-7.351344</td>\n",
       "      <td>1.409039</td>\n",
       "      <td>0.000000</td>\n",
       "      <td>3.606901</td>\n",
       "      <td>-4.637857</td>\n",
       "      <td>0.319815</td>\n",
       "      <td>-4.412689</td>\n",
       "      <td>-2.751643</td>\n",
       "      <td>3.264861</td>\n",
       "    </tr>\n",
       "    <tr>\n",
       "      <th>50</th>\n",
       "      <td>0.046267</td>\n",
       "      <td>0.044517</td>\n",
       "      <td>97.252991</td>\n",
       "      <td>-1.968360</td>\n",
       "      <td>-0.508572</td>\n",
       "      <td>32.820789</td>\n",
       "      <td>14.221384</td>\n",
       "      <td>-54.439938</td>\n",
       "      <td>15.881592</td>\n",
       "      <td>3.027259</td>\n",
       "      <td>...</td>\n",
       "      <td>-1.012613</td>\n",
       "      <td>28.127052</td>\n",
       "      <td>-13.435001</td>\n",
       "      <td>0.815271</td>\n",
       "      <td>-36.336025</td>\n",
       "      <td>-16.693981</td>\n",
       "      <td>0.000000</td>\n",
       "      <td>24.900846</td>\n",
       "      <td>-17.302553</td>\n",
       "      <td>6.819017</td>\n",
       "    </tr>\n",
       "    <tr>\n",
       "      <th>75</th>\n",
       "      <td>0.040375</td>\n",
       "      <td>0.040166</td>\n",
       "      <td>14.523050</td>\n",
       "      <td>-0.844256</td>\n",
       "      <td>0.000000</td>\n",
       "      <td>8.597620</td>\n",
       "      <td>-3.959001</td>\n",
       "      <td>-22.673363</td>\n",
       "      <td>11.787436</td>\n",
       "      <td>0.767041</td>\n",
       "      <td>...</td>\n",
       "      <td>-0.580820</td>\n",
       "      <td>12.421128</td>\n",
       "      <td>-5.734760</td>\n",
       "      <td>1.138450</td>\n",
       "      <td>-26.143724</td>\n",
       "      <td>-5.086850</td>\n",
       "      <td>0.000000</td>\n",
       "      <td>8.852604</td>\n",
       "      <td>-10.676355</td>\n",
       "      <td>3.194613</td>\n",
       "    </tr>\n",
       "    <tr>\n",
       "      <th>100</th>\n",
       "      <td>0.033792</td>\n",
       "      <td>0.034002</td>\n",
       "      <td>1.557177</td>\n",
       "      <td>-0.210821</td>\n",
       "      <td>0.149288</td>\n",
       "      <td>-0.186474</td>\n",
       "      <td>6.632484</td>\n",
       "      <td>-2.325138</td>\n",
       "      <td>-0.225515</td>\n",
       "      <td>0.000000</td>\n",
       "      <td>...</td>\n",
       "      <td>-0.468581</td>\n",
       "      <td>-0.277294</td>\n",
       "      <td>0.740117</td>\n",
       "      <td>0.732987</td>\n",
       "      <td>-0.461848</td>\n",
       "      <td>-9.032340</td>\n",
       "      <td>0.000000</td>\n",
       "      <td>0.653413</td>\n",
       "      <td>-2.139088</td>\n",
       "      <td>2.702749</td>\n",
       "    </tr>\n",
       "  </tbody>\n",
       "</table>\n",
       "<p>5 rows × 41 columns</p>\n",
       "</div>"
      ],
      "text/plain": [
       "     loss_loss  remaining_MSE_test  unscaled_coeffs_output_0_coeff_9  \\\n",
       "0     0.128409            0.105241                         87.670959   \n",
       "25    0.051672            0.052413                        -23.036959   \n",
       "50    0.046267            0.044517                         97.252991   \n",
       "75    0.040375            0.040166                         14.523050   \n",
       "100   0.033792            0.034002                          1.557177   \n",
       "\n",
       "     estimator_coeffs_output_0_coeff_8  estimator_coeffs_output_0_coeff_2  \\\n",
       "0                            -0.201631                           0.000000   \n",
       "25                           -1.335327                          -0.929022   \n",
       "50                           -1.968360                          -0.508572   \n",
       "75                           -0.844256                           0.000000   \n",
       "100                          -0.210821                           0.149288   \n",
       "\n",
       "     unscaled_coeffs_output_0_coeff_11  unscaled_coeffs_output_0_coeff_10  \\\n",
       "0                           -95.111168                         130.347183   \n",
       "25                           -1.159716                           4.803224   \n",
       "50                           32.820789                          14.221384   \n",
       "75                            8.597620                          -3.959001   \n",
       "100                          -0.186474                           6.632484   \n",
       "\n",
       "     coeffs_output_0_coeff_5  coeffs_output_0_coeff_11  \\\n",
       "0                   0.085840                 -0.077831   \n",
       "25                  8.926932                 -0.195851   \n",
       "50                -54.439938                 15.881592   \n",
       "75                -22.673363                 11.787436   \n",
       "100                -2.325138                 -0.225515   \n",
       "\n",
       "     estimator_coeffs_output_0_coeff_0  ...  \\\n",
       "0                             0.583039  ...   \n",
       "25                            2.021521  ...   \n",
       "50                            3.027259  ...   \n",
       "75                            0.767041  ...   \n",
       "100                           0.000000  ...   \n",
       "\n",
       "     estimator_coeffs_output_0_coeff_10  coeffs_output_0_coeff_1  \\\n",
       "0                              0.000000                 0.047616   \n",
       "25                             0.000000                -7.351344   \n",
       "50                            -1.012613                28.127052   \n",
       "75                            -0.580820                12.421128   \n",
       "100                           -0.468581                -0.277294   \n",
       "\n",
       "     unscaled_coeffs_output_0_coeff_7  estimator_coeffs_output_0_coeff_1  \\\n",
       "0                           -0.266084                          -0.437865   \n",
       "25                           1.409039                           0.000000   \n",
       "50                         -13.435001                           0.815271   \n",
       "75                          -5.734760                           1.138450   \n",
       "100                          0.740117                           0.732987   \n",
       "\n",
       "     coeffs_output_0_coeff_0  coeffs_output_0_coeff_6  \\\n",
       "0                   0.984411                -0.574629   \n",
       "25                  3.606901                -4.637857   \n",
       "50                -36.336025               -16.693981   \n",
       "75                -26.143724                -5.086850   \n",
       "100                -0.461848                -9.032340   \n",
       "\n",
       "     estimator_coeffs_output_0_coeff_6  coeffs_output_0_coeff_9  \\\n",
       "0                            -0.164783                 0.144204   \n",
       "25                            0.319815                -4.412689   \n",
       "50                            0.000000                24.900846   \n",
       "75                            0.000000                 8.852604   \n",
       "100                           0.000000                 0.653413   \n",
       "\n",
       "     unscaled_coeffs_output_0_coeff_8  coeffs_output_0_coeff_2  \n",
       "0                           -7.135451                 0.026575  \n",
       "25                          -2.751643                 3.264861  \n",
       "50                         -17.302553                 6.819017  \n",
       "75                         -10.676355                 3.194613  \n",
       "100                         -2.139088                 2.702749  \n",
       "\n",
       "[5 rows x 41 columns]"
      ]
     },
     "execution_count": 3,
     "metadata": {},
     "output_type": "execute_result"
    }
   ],
   "source": [
    "df.head()"
   ]
  },
  {
   "cell_type": "code",
   "execution_count": 46,
   "metadata": {},
   "outputs": [
    {
     "data": {
      "text/plain": [
       "(0.002, 0.01)"
      ]
     },
     "execution_count": 46,
     "metadata": {},
     "output_type": "execute_result"
    },
    {
     "data": {
      "image/png": "[encoded data removed]",
      "text/plain": [
       "<Figure size 432x288 with 1 Axes>"
      ]
     },
     "metadata": {
      "needs_background": "light"
     },
     "output_type": "display_data"
    }
   ],
   "source": [
    "plt.plot(df['loss_loss'],linewidth=2)\n",
    "plt.legend('total loss')\n",
    "\n",
    "plt.plot(df['remaining_MSE_test'],linewidth=2)\n",
    "plt.legend('mse test set')\n",
    "plt.yscale('log')\n",
    "\n",
    "plt.xlim(0,100000)\n",
    "plt.ylim(0.002,0.01)"
   ]
  },
  {
   "cell_type": "code",
   "execution_count": 47,
   "metadata": {},
   "outputs": [
    {
     "data": {
      "image/png": "[encoded data removed]",
      "text/plain": [
       "<Figure size 432x288 with 1 Axes>"
      ]
     },
     "metadata": {
      "needs_background": "light"
     },
     "output_type": "display_data"
    }
   ],
   "source": [
    "fig = plt.figure()\n",
    "ax = fig.add_subplot(111)\n",
    "ax.plot(df['remaining_MSE_test'])\n",
    "ax.plot(df['loss_loss'])\n",
    "ax.legend(['Mse test-set','Loss train-set'])\n",
    "ax.set_xlabel('epoch')\n",
    "ax.set_yscale('log')\n",
    "ax.set_aspect(8000)\n",
    "ax.set_xlim([0, 100000])\n",
    "ax.ticklabel_format(axis='x', style='sci', scilimits=[0, 0])\n",
    "fig.savefig('loss.pdf')"
   ]
  },
  {
   "cell_type": "code",
   "execution_count": 5,
   "metadata": {},
   "outputs": [
    {
     "data": {
      "image/png": "[encoded data removed]",
      "text/plain": [
       "<Figure size 432x288 with 1 Axes>"
      ]
     },
     "metadata": {
      "needs_background": "light"
     },
     "output_type": "display_data"
    }
   ],
   "source": [
    "k = 40000\n",
    "fig = plt.figure()\n",
    "ax = fig.add_subplot(111)\n",
    "ax.plot(df['coeffs_output_0_coeff_0'][:k:10])\n",
    "ax.plot(df['coeffs_output_0_coeff_1'][:k:10])\n",
    "ax.plot(df['coeffs_output_0_coeff_2'][:k:10],linewidth=2.5)\n",
    "ax.plot(df['coeffs_output_0_coeff_3'][:k:10])\n",
    "ax.plot(df['coeffs_output_0_coeff_4'][:k:10])\n",
    "ax.plot(df['coeffs_output_0_coeff_5'][:k:10],linewidth=2.5)\n",
    "ax.plot(df['coeffs_output_0_coeff_6'][:k:10])\n",
    "ax.plot(df['coeffs_output_0_coeff_7'][:k:10])\n",
    "ax.plot(df['coeffs_output_0_coeff_8'][:k:10])\n",
    "ax.plot(df['coeffs_output_0_coeff_9'][:k:10])\n",
    "ax.plot(df['coeffs_output_0_coeff_10'][:k:10])\n",
    "ax.plot(df['coeffs_output_0_coeff_11'][:k:10])\n",
    "ax.set_xlabel('epoch')\n",
    "ax.set_ylim(-3,3)\n",
    "ax.set_aspect(6000)\n",
    "ax.legend(['$u_{xx}$','$u u_x$'])\n",
    "ax.ticklabel_format(axis='x', style='sci', scilimits=[0, 0])\n",
    "ax.set_xlim([0, 100000])\n",
    "ax.set_ylim(-3,3)\n",
    "fig.savefig('coeffs.pdf')"
   ]
  },
  {
   "cell_type": "code",
   "execution_count": 180,
   "metadata": {},
   "outputs": [
    {
     "data": {
      "image/png": "[encoded data removed]",
      "text/plain": [
       "<Figure size 432x288 with 1 Axes>"
      ]
     },
     "metadata": {
      "needs_background": "light"
     },
     "output_type": "display_data"
    }
   ],
   "source": [
    "fig = plt.figure()\n",
    "ax = fig.add_subplot(111)\n",
    "ax.imshow(xi_plot,aspect=200, vmin=0, vmax=0.1,cmap='plasma', interpolation='none')\n",
    "plt.savefig('mask.pdf')"
   ]
  },
  {
   "cell_type": "code",
   "execution_count": 26,
   "metadata": {},
   "outputs": [],
   "source": [
    "xi = np.abs(np.array([df.loc[:,'coeffs_output_0_coeff_'+str(i)] for i in np.arange(0,12)]))\n"
   ]
  },
  {
   "cell_type": "code",
   "execution_count": 27,
   "metadata": {},
   "outputs": [],
   "source": [
    "xi_real = np.array([df.loc[:,'coeffs_output_0_coeff_'+str(i)] for i in np.arange(0,12)])"
   ]
  },
  {
   "cell_type": "code",
   "execution_count": 28,
   "metadata": {},
   "outputs": [],
   "source": [
    "xi[xi > 0.00001] = 1"
   ]
  },
  {
   "cell_type": "code",
   "execution_count": 29,
   "metadata": {},
   "outputs": [],
   "source": [
    "xi_plot = xi[:,0:4000:1]"
   ]
  },
  {
   "cell_type": "code",
   "execution_count": 30,
   "metadata": {},
   "outputs": [
    {
     "data": {
      "text/plain": [
       "([<matplotlib.axis.XTick at 0x7fae78ef8790>,\n",
       "  <matplotlib.axis.XTick at 0x7fae78ef8730>,\n",
       "  <matplotlib.axis.XTick at 0x7fae78e42040>,\n",
       "  <matplotlib.axis.XTick at 0x7fae78a657f0>,\n",
       "  <matplotlib.axis.XTick at 0x7fae78a65d00>],\n",
       " [Text(0, 0, '0'),\n",
       "  Text(0, 0, '25000'),\n",
       "  Text(0, 0, '50000'),\n",
       "  Text(0, 0, '75000'),\n",
       "  Text(0, 0, '100000')])"
      ]
     },
     "execution_count": 30,
     "metadata": {},
     "output_type": "execute_result"
    },
    {
     "data": {
      "image/png": "[encoded data removed]",
      "text/plain": [
       "<Figure size 432x288 with 1 Axes>"
      ]
     },
     "metadata": {
      "needs_background": "light"
     },
     "output_type": "display_data"
    }
   ],
   "source": [
    "plt.imshow(xi_plot,aspect=130, vmin=0, vmax=1, interpolation='none')\n",
    "plt.yticks([0,1,2,3,4,5,6,7,8,9,10,11],['1','$u_x$','$u_{xx}$','$u_{xxx}$','$u$','$u u_x$','$u u_{xx}$','$u u_{xxx}$','$u^2$','$u^2 u_x$','$u^2 u_{xx}$','$u^2 u_{xxx}$'])\n",
    "plt.xticks([0,1000,2000,3000,4000],[0,25000,50000,75000,100000])\n",
    "#plt.savefig('mask.pdf')\n"
   ]
  },
  {
   "cell_type": "code",
   "execution_count": 119,
   "metadata": {},
   "outputs": [],
   "source": [
    "xr = np.linspace(0,100000,40000)"
   ]
  },
  {
   "cell_type": "code",
   "execution_count": 120,
   "metadata": {},
   "outputs": [
    {
     "data": {
      "text/plain": [
       "(40000,)"
      ]
     },
     "execution_count": 120,
     "metadata": {},
     "output_type": "execute_result"
    }
   ],
   "source": [
    "xr.shape"
   ]
  },
  {
   "cell_type": "code",
   "execution_count": 121,
   "metadata": {},
   "outputs": [
    {
     "data": {
      "text/plain": [
       "<Figure size 432x288 with 0 Axes>"
      ]
     },
     "execution_count": 121,
     "metadata": {},
     "output_type": "execute_result"
    },
    {
     "data": {
      "image/png": "[encoded data removed]",
      "text/plain": [
       "<Figure size 432x288 with 1 Axes>"
      ]
     },
     "metadata": {
      "needs_background": "light"
     },
     "output_type": "display_data"
    },
    {
     "data": {
      "text/plain": [
       "<Figure size 432x288 with 0 Axes>"
      ]
     },
     "metadata": {},
     "output_type": "display_data"
    }
   ],
   "source": []
  },
  {
   "cell_type": "code",
   "execution_count": 182,
   "metadata": {},
   "outputs": [
    {
     "data": {
      "text/plain": [
       "array([ 0,  0,  0, ..., 10, 10, 10])"
      ]
     },
     "execution_count": 182,
     "metadata": {},
     "output_type": "execute_result"
    }
   ],
   "source": [
    "np.nonzero(xi[:,0:65000:10])[0]"
   ]
  },
  {
   "cell_type": "code",
   "execution_count": 178,
   "metadata": {},
   "outputs": [
    {
     "data": {
      "text/plain": [
       "<matplotlib.image.AxesImage at 0x7f37427bfdf0>"
      ]
     },
     "execution_count": 178,
     "metadata": {},
     "output_type": "execute_result"
    },
    {
     "data": {
      "image/png": "[encoded data removed]",
      "text/plain": [
       "<Figure size 432x288 with 1 Axes>"
      ]
     },
     "metadata": {
      "needs_background": "light"
     },
     "output_type": "display_data"
    }
   ],
   "source": [
    "plt.imshow(np.nonzero(xi[:,0:65000:2]),aspect=0)"
   ]
  },
  {
   "cell_type": "code",
   "execution_count": 132,
   "metadata": {},
   "outputs": [
    {
     "data": {
      "text/plain": [
       "(10, 6000)"
      ]
     },
     "execution_count": 132,
     "metadata": {},
     "output_type": "execute_result"
    },
    {
     "data": {
      "image/png": "[encoded data removed]",
      "text/plain": [
       "<Figure size 432x288 with 1 Axes>"
      ]
     },
     "metadata": {
      "needs_background": "light"
     },
     "output_type": "display_data"
    }
   ],
   "source": [
    "plt.semilogx(xi.T)\n",
    "plt.ylim(-4,4)\n",
    "plt.xlim(10,6000)"
   ]
  },
  {
   "cell_type": "code",
   "execution_count": null,
   "metadata": {},
   "outputs": [],
   "source": [
    "xi = np.abs(np.array([df.loc[:,'unscaled_coeffs_output_0_coeff_'+str(i)] for i in np.arange(0,9)]))[:,-1]\n",
    "xi = np.append(xi,0)"
   ]
  },
  {
   "cell_type": "markdown",
   "metadata": {},
   "source": [
    "## Noise dependency"
   ]
  },
  {
   "cell_type": "code",
   "execution_count": 12,
   "metadata": {},
   "outputs": [],
   "source": [
    "mask = np.array([False,False,True,True,True,False,False,False,False,False])"
   ]
  },
  {
   "cell_type": "code",
   "execution_count": 13,
   "metadata": {},
   "outputs": [],
   "source": [
    "ref = np.array([0,0,0.2,0.02,0.02,0,0,0,0,0]) \n",
    "ref_b =  np.array([0,0,0.2,0.02,0.02,0,0,0,0,0]) + 10**-9*np.ones(10)"
   ]
  },
  {
   "cell_type": "code",
   "execution_count": 8,
   "metadata": {},
   "outputs": [],
   "source": [
    "a = [0.01,0.02,0.05,0.1,0.15,0.2,0.3,0.5,0.75,1,1.5,2,3,4][::-1]\n"
   ]
  },
  {
   "cell_type": "code",
   "execution_count": 14,
   "metadata": {},
   "outputs": [
    {
     "name": "stderr",
     "output_type": "stream",
     "text": [
      "<ipython-input-14-5fd1eb96cc82>:15: RuntimeWarning: invalid value encountered in true_divide\n",
      "  xi_list.append(np.nan_to_num(xi/xi))\n"
     ]
    },
    {
     "name": "stdout",
     "output_type": "stream",
     "text": [
      "wrong\n",
      "wrong\n",
      "wrong\n",
      "wrong\n",
      "wrong\n",
      "correct\n",
      "correct\n",
      "correct\n",
      "correct\n",
      "correct\n",
      "correct\n",
      "correct\n",
      "correct\n",
      "correct\n"
     ]
    }
   ],
   "source": [
    "data_loop = a\n",
    "error_noise = []\n",
    "xi_list = []\n",
    "for idx in data_loop:\n",
    "    df = load_tensorboard('final_runs/Noise_runs/'+str(idx)+'/')\n",
    "    xi = np.abs(np.array([df.loc[:,'unscaled_coeffs_output_0_coeff_'+str(i)] for i in np.arange(0,9)]))[:,-1]\n",
    "    xi = np.append(xi,0)\n",
    "    \n",
    "    if np.ma.allequal(xi.astype(bool), mask) == True:\n",
    "        print('correct')\n",
    "        xi_list.append(xi/ref_b)\n",
    "        error_noise.append(1) \n",
    "    else:\n",
    "        error_noise.append(0); \n",
    "        xi_list.append(np.nan_to_num(xi/xi))\n",
    "        print('wrong')"
   ]
  },
  {
   "cell_type": "code",
   "execution_count": 23,
   "metadata": {},
   "outputs": [
    {
     "name": "stdout",
     "output_type": "stream",
     "text": [
      "wrong\n",
      "wrong\n",
      "wrong\n",
      "wrong\n",
      "wrong\n",
      "correct\n",
      "correct\n",
      "correct\n",
      "correct\n",
      "correct\n",
      "correct\n",
      "correct\n",
      "correct\n",
      "correct\n"
     ]
    }
   ],
   "source": [
    "data_loop = a\n",
    "error_noise = []\n",
    "xi_list = []\n",
    "for idx in data_loop:\n",
    "    df = load_tensorboard('final_runs/Noise_runs/'+str(idx)+'/')\n",
    "    xi = np.abs(np.array([df.loc[:,'unscaled_coeffs_output_0_coeff_'+str(i)] for i in np.arange(0,9)]))[:,-1]\n",
    "    xi = np.append(xi,0)\n",
    "    \n",
    "    if np.ma.allequal(xi.astype(bool), mask) == True:\n",
    "        print('correct')\n",
    "        xi_list.append(xi.astype(bool))\n",
    "        error_noise.append(1) \n",
    "    else:\n",
    "        error_noise.append(0); \n",
    "        xi_list.append(xi.astype(bool))\n",
    "        print('wrong')"
   ]
  },
  {
   "cell_type": "code",
   "execution_count": 22,
   "metadata": {},
   "outputs": [
    {
     "data": {
      "text/plain": [
       "array([False, False,  True,  True,  True, False, False, False, False,\n",
       "       False])"
      ]
     },
     "execution_count": 22,
     "metadata": {},
     "output_type": "execute_result"
    }
   ],
   "source": [
    "xi.astype(bool)"
   ]
  },
  {
   "cell_type": "code",
   "execution_count": 21,
   "metadata": {},
   "outputs": [
    {
     "data": {
      "text/plain": [
       "[0, 0, 0, 0, 0, 1, 1, 1, 1, 1, 1, 1, 1, 1]"
      ]
     },
     "execution_count": 21,
     "metadata": {},
     "output_type": "execute_result"
    }
   ],
   "source": [
    "error_noise"
   ]
  },
  {
   "cell_type": "code",
   "execution_count": 28,
   "metadata": {},
   "outputs": [
    {
     "data": {
      "image/png": "[encoded data removed]",
      "text/plain": [
       "<Figure size 432x288 with 2 Axes>"
      ]
     },
     "metadata": {
      "needs_background": "light"
     },
     "output_type": "display_data"
    }
   ],
   "source": [
    "plt.imshow(np.array(xi_list).reshape(-1,10),vmin=0,vmax=1,aspect=1/1.5)\n",
    "plt.colorbar()\n",
    "plt.yticks([0,1,2,3,4,5,6,7,8,9,10,11,12,13],data_loop)\n",
    "plt.xticks([0,1,2,3,4,5,6,7,8,9],['1','$u_x$','$u_y$','$u_{xx}$','$u_{yy}$','$u_{xy}$','$u_{xxx}$','$u_{yyy}$','$u_{xxy}$','$u_{yyx}$'])\n",
    "plt.xlabel('Coefficients')\n",
    "plt.ylabel('Noise level')\n",
    "plt.savefig('noise.pdf')"
   ]
  },
  {
   "cell_type": "code",
   "execution_count": 50,
   "metadata": {},
   "outputs": [
    {
     "data": {
      "text/plain": [
       "Text(0, 0.5, 'Noise level')"
      ]
     },
     "execution_count": 50,
     "metadata": {},
     "output_type": "execute_result"
    },
    {
     "data": {
      "image/png": "[encoded data removed]",
      "text/plain": [
       "<Figure size 432x288 with 1 Axes>"
      ]
     },
     "metadata": {
      "needs_background": "light"
     },
     "output_type": "display_data"
    }
   ],
   "source": [
    "\n",
    "plt.imshow(np.array(xi_list).reshape(-1,9),vmin=0,vmax=0.25,aspect=1/2)\n",
    "plt.yticks([0,1,2,3],['41', '21', '14', '11'])\n",
    "plt.xticks([0,1,2,3,4,5,6,7,8,9],['1','$u_x$','$u_y$','$u_{xx}$','$u_{yy}$','$u_{xy}$','$u_{xxx}$','$u_{yyy}$','$u_{xxy}$','$u_{yyx}$'])\n",
    "plt.xlabel('Coefficients')\n",
    "plt.ylabel('Noise level')\n",
    "#plt.savefig('no_noise_artificial.pdf')"
   ]
  },
  {
   "cell_type": "code",
   "execution_count": 9,
   "metadata": {},
   "outputs": [
    {
     "name": "stdout",
     "output_type": "stream",
     "text": [
      "wrong\n",
      "wrong\n",
      "wrong\n",
      "wrong\n",
      "wrong\n"
     ]
    }
   ],
   "source": [
    "data_loop = [0.01,0.02,0.05,0.1,0.15]\n",
    "error_noise = []\n",
    "for idx in data_loop:\n",
    "    df = load_tensorboard('final_runs/Noise_runs_11_11_14/'+str(idx)+'/')\n",
    "    xi = np.abs(np.array([df.loc[:,'unscaled_coeffs_output_0_coeff_'+str(i)] for i in np.arange(0,9)]))[:,-1]\n",
    "    if np.ma.allequal(xi.astype(bool), mask) == True:\n",
    "        print('correct')\n",
    "        error_noise.append(1) \n",
    "    else:\n",
    "        error_noise.append(0); \n",
    "        print('wrong')"
   ]
  },
  {
   "cell_type": "markdown",
   "metadata": {},
   "source": [
    "## Spatial and temporal "
   ]
  },
  {
   "cell_type": "code",
   "execution_count": 4,
   "metadata": {},
   "outputs": [],
   "source": [
    "mask = np.array([False,False,True,True,True,False,False,False,False])"
   ]
  },
  {
   "cell_type": "code",
   "execution_count": 5,
   "metadata": {},
   "outputs": [],
   "source": [
    "ref = np.array([0,0,0.2,0.02,0.02,0,0,0,0]) \n",
    "ref_b =  np.array([0,0,0.2,0.02,0.02,0,0,0,0]) + 10**-9*np.ones(9)"
   ]
  },
  {
   "cell_type": "code",
   "execution_count": 23,
   "metadata": {},
   "outputs": [
    {
     "name": "stdout",
     "output_type": "stream",
     "text": [
      "wrong\n",
      "wrong\n",
      "wrong\n",
      "wrong\n",
      "wrong\n",
      "wrong\n",
      "wrong\n",
      "wrong\n"
     ]
    }
   ],
   "source": [
    "data_loop = [3,4,5,6,7,11,21,41]\n",
    "error_7 = []\n",
    "for idx in data_loop:\n",
    "    df = load_tensorboard('final_runs/no_noise_x7/'+str(idx)+'/')\n",
    "    xi = np.abs(np.array([df.loc[:,'unscaled_coeffs_output_0_coeff_'+str(i)] for i in np.arange(0,9)]))[:,-1]\n",
    "    if np.ma.allequal(xi.astype(bool), mask) == True:\n",
    "        print('correct')\n",
    "        error_7.append(1) \n",
    "    else:\n",
    "        error_7.append(0); \n",
    "        print('wrong')"
   ]
  },
  {
   "cell_type": "code",
   "execution_count": 22,
   "metadata": {},
   "outputs": [
    {
     "name": "stdout",
     "output_type": "stream",
     "text": [
      "wrong\n",
      "wrong\n",
      "wrong\n",
      "wrong\n",
      "wrong\n",
      "wrong\n",
      "wrong\n",
      "wrong\n"
     ]
    }
   ],
   "source": [
    "data_loop = [3,4,5,6,7,11,21,41]\n",
    "error_9 = []\n",
    "for idx in data_loop:\n",
    "    df = load_tensorboard('final_runs/no_noise_x9/'+str(idx)+'/')\n",
    "    xi = np.abs(np.array([df.loc[:,'unscaled_coeffs_output_0_coeff_'+str(i)] for i in np.arange(0,9)]))[:,-1]\n",
    "    if np.ma.allequal(xi.astype(bool), mask) == True:\n",
    "        print('correct')\n",
    "        error_9.append(1) \n",
    "    else:\n",
    "        error_9.append(0); \n",
    "        print('wrong')"
   ]
  },
  {
   "cell_type": "code",
   "execution_count": 7,
   "metadata": {},
   "outputs": [
    {
     "name": "stdout",
     "output_type": "stream",
     "text": [
      "wrong\n",
      "wrong\n",
      "wrong\n",
      "wrong\n",
      "wrong\n",
      "wrong\n",
      "wrong\n",
      "correct\n"
     ]
    }
   ],
   "source": [
    "data_loop = [3,4,5,6,7,11,21,41]\n",
    "error_10 = []\n",
    "for idx in data_loop:\n",
    "    df = load_tensorboard('final_runs/no_noise_x11/'+str(idx)+'/')\n",
    "    xi = np.abs(np.array([df.loc[:,'unscaled_coeffs_output_0_coeff_'+str(i)] for i in np.arange(0,9)]))[:,-1]\n",
    "    if np.ma.allequal(xi.astype(bool), mask) == True:\n",
    "        print('correct')\n",
    "        error_10.append(1) \n",
    "    else:\n",
    "        error_10.append(0); \n",
    "        print('wrong')"
   ]
  },
  {
   "cell_type": "code",
   "execution_count": 8,
   "metadata": {},
   "outputs": [
    {
     "name": "stdout",
     "output_type": "stream",
     "text": [
      "wrong\n",
      "wrong\n",
      "wrong\n",
      "correct\n",
      "correct\n",
      "correct\n",
      "correct\n",
      "correct\n"
     ]
    }
   ],
   "source": [
    "data_loop = [3,4,5,6,7,11,21,41]\n",
    "error_14 = []\n",
    "for idx in data_loop:\n",
    "    df = load_tensorboard('final_runs/no_noise_x14/'+str(idx)+'/')\n",
    "    xi = np.abs(np.array([df.loc[:,'unscaled_coeffs_output_0_coeff_'+str(i)] for i in np.arange(0,9)]))[:,-1]\n",
    "    if np.ma.allequal(xi.astype(bool), mask) == True:\n",
    "        print('correct')\n",
    "        k = np.sum(np.abs((xi-ref)/ref_b))\n",
    "        error_14.append(1) \n",
    "    else:\n",
    "        error_14.append(0); \n",
    "        print('wrong')"
   ]
  },
  {
   "cell_type": "code",
   "execution_count": 16,
   "metadata": {},
   "outputs": [
    {
     "name": "stdout",
     "output_type": "stream",
     "text": [
      "wrong\n",
      "wrong\n",
      "wrong\n",
      "wrong\n",
      "correct\n",
      "correct\n",
      "correct\n",
      "correct\n"
     ]
    }
   ],
   "source": [
    "data_loop = [3,4,5,6,7,11,21,41]\n",
    "error_17 = []\n",
    "for idx in data_loop:\n",
    "    df = load_tensorboard('final_runs/no_noise_x17/'+str(idx)+'/')\n",
    "    xi = np.abs(np.array([df.loc[:,'unscaled_coeffs_output_0_coeff_'+str(i)] for i in np.arange(0,9)]))[:,-1]\n",
    "    if np.ma.allequal(xi.astype(bool), mask) == True:\n",
    "        print('correct')\n",
    "        error_17.append(1)\n",
    "    else:\n",
    "        error_17.append(0) \n",
    "        print('wrong')"
   ]
  },
  {
   "cell_type": "code",
   "execution_count": 10,
   "metadata": {},
   "outputs": [
    {
     "name": "stdout",
     "output_type": "stream",
     "text": [
      "wrong\n",
      "correct\n",
      "correct\n",
      "correct\n",
      "wrong\n",
      "correct\n",
      "correct\n",
      "correct\n"
     ]
    }
   ],
   "source": [
    "data_loop = [3,4,5,6,7,11,21,41]\n",
    "error_20 = []\n",
    "for idx in data_loop:\n",
    "    df = load_tensorboard('final_runs/no_noise_x21/'+str(idx)+'/')\n",
    "    xi = np.abs(np.array([df.loc[:,'unscaled_coeffs_output_0_coeff_'+str(i)] for i in np.arange(0,9)]))[:,-1]\n",
    "    if np.ma.allequal(xi.astype(bool), mask) == True:\n",
    "        print('correct')\n",
    "        error_20.append(1)\n",
    "    else:\n",
    "        error_20.append(0); \n",
    "        print('wrong')"
   ]
  },
  {
   "cell_type": "code",
   "execution_count": 13,
   "metadata": {},
   "outputs": [
    {
     "name": "stdout",
     "output_type": "stream",
     "text": [
      "wrong\n",
      "wrong\n",
      "correct\n",
      "correct\n",
      "correct\n",
      "correct\n",
      "correct\n",
      "correct\n"
     ]
    }
   ],
   "source": [
    "data_loop = [3,4,5,6,7,11,21,41]\n",
    "error_40 = []\n",
    "for idx in data_loop:\n",
    "    df = load_tensorboard('final_runs/no_noise_x41/'+str(idx)+'/')\n",
    "    xi = np.abs(np.array([df.loc[:,'unscaled_coeffs_output_0_coeff_'+str(i)] for i in np.arange(0,9)]))[:,-1]\n",
    "    if np.ma.allequal(xi.astype(bool), mask) == True:\n",
    "        print('correct')\n",
    "        error_40.append(1)\n",
    "    else:\n",
    "        error_40.append(0); \n",
    "        print('wrong')"
   ]
  },
  {
   "cell_type": "code",
   "execution_count": 24,
   "metadata": {},
   "outputs": [
    {
     "data": {
      "text/plain": [
       "array([[0, 0, 1, 1, 1, 1, 1, 1],\n",
       "       [0, 1, 1, 1, 0, 1, 1, 1],\n",
       "       [0, 0, 0, 1, 1, 1, 1, 1],\n",
       "       [0, 0, 0, 0, 0, 0, 0, 1],\n",
       "       [0, 0, 0, 0, 0, 0, 0, 0],\n",
       "       [0, 0, 0, 0, 0, 0, 0, 0]])"
      ]
     },
     "execution_count": 24,
     "metadata": {},
     "output_type": "execute_result"
    }
   ],
   "source": [
    "np.array([error_40,error_20,error_14,error_10,error_9,error_7]).reshape(6,-1)"
   ]
  },
  {
   "cell_type": "code",
   "execution_count": 27,
   "metadata": {},
   "outputs": [
    {
     "data": {
      "image/png": "[encoded data removed]",
      "text/plain": [
       "<Figure size 432x288 with 1 Axes>"
      ]
     },
     "metadata": {
      "needs_background": "light"
     },
     "output_type": "display_data"
    }
   ],
   "source": [
    "data_loop = [3,4,5,6,7,11,21,41]\n",
    "plt.imshow(np.array([error_40,error_20,error_14,error_10,error_9,error_7]),aspect=1)\n",
    "plt.yticks([0,1,2,3,4,5],['41', '21', '14', '11','9','7'])\n",
    "plt.xticks([0,1,2,3,4,5,6,7],data_loop)\n",
    "plt.xlabel('Number of temporal points')\n",
    "plt.ylabel('Number of spatial points')\n",
    "plt.savefig('no_noise_artificial.pdf')"
   ]
  },
  {
   "cell_type": "markdown",
   "metadata": {},
   "source": [
    "## Spatial and temporal for noise = 2%"
   ]
  },
  {
   "cell_type": "code",
   "execution_count": 28,
   "metadata": {},
   "outputs": [],
   "source": [
    "mask = np.array([False,False,True,True,True,False,False,False,False])"
   ]
  },
  {
   "cell_type": "code",
   "execution_count": 29,
   "metadata": {},
   "outputs": [],
   "source": [
    "ref = np.array([0,0,0.2,0.02,0.02,0,0,0,0]) \n",
    "ref_b =  np.array([0,0,0.2,0.02,0.02,0,0,0,0]) + 10**-9*np.ones(9)"
   ]
  },
  {
   "cell_type": "code",
   "execution_count": 38,
   "metadata": {},
   "outputs": [
    {
     "name": "stdout",
     "output_type": "stream",
     "text": [
      "wrong\n",
      "wrong\n",
      "wrong\n",
      "wrong\n",
      "wrong\n",
      "correct\n",
      "wrong\n",
      "wrong\n"
     ]
    }
   ],
   "source": [
    "data_loop = [3,4,5,6,7,11,21,41]\n",
    "error_7_n2 = []\n",
    "for idx in data_loop:\n",
    "    df = load_tensorboard('final_runs/2_noise_x07/'+str(idx)+'/')\n",
    "    xi = np.abs(np.array([df.loc[:,'unscaled_coeffs_output_0_coeff_'+str(i)] for i in np.arange(0,9)]))[:,-1]\n",
    "    if np.ma.allequal(xi.astype(bool), mask) == True:\n",
    "        print('correct')\n",
    "        error_7_n2.append(1) \n",
    "    else: \n",
    "        error_7_n2.append(0); \n",
    "        print('wrong')"
   ]
  },
  {
   "cell_type": "code",
   "execution_count": 37,
   "metadata": {},
   "outputs": [
    {
     "name": "stdout",
     "output_type": "stream",
     "text": [
      "wrong\n",
      "correct\n",
      "wrong\n",
      "wrong\n",
      "wrong\n",
      "correct\n",
      "correct\n",
      "correct\n"
     ]
    }
   ],
   "source": [
    "data_loop = [3,4, 5, 6,7,11,21,41]\n",
    "error_10_n2 = []\n",
    "for idx in data_loop:\n",
    "    df = load_tensorboard('final_runs/2_noise_x11/'+str(idx)+'/')\n",
    "    xi = np.abs(np.array([df.loc[:,'unscaled_coeffs_output_0_coeff_'+str(i)] for i in np.arange(0,9)]))[:,-1]\n",
    "    if np.ma.allequal(xi.astype(bool), mask) == True:\n",
    "        print('correct')\n",
    "        error_10_n2.append(1) \n",
    "    else: \n",
    "        error_10_n2.append(0); \n",
    "        print('wrong')"
   ]
  },
  {
   "cell_type": "code",
   "execution_count": 36,
   "metadata": {},
   "outputs": [
    {
     "name": "stdout",
     "output_type": "stream",
     "text": [
      "wrong\n",
      "correct\n",
      "wrong\n",
      "wrong\n",
      "wrong\n",
      "correct\n",
      "correct\n",
      "correct\n"
     ]
    }
   ],
   "source": [
    "data_loop = [3,4, 5, 6,7,11,21,41]\n",
    "error_10_n2 = []\n",
    "for idx in data_loop:\n",
    "    df = load_tensorboard('final_runs/2_noise_x11/'+str(idx)+'/')\n",
    "    xi = np.abs(np.array([df.loc[:,'unscaled_coeffs_output_0_coeff_'+str(i)] for i in np.arange(0,9)]))[:,-1]\n",
    "    if np.ma.allequal(xi.astype(bool), mask) == True:\n",
    "        print('correct')\n",
    "        error_10_n2.append(1) \n",
    "    else: \n",
    "        error_10_n2.append(0); \n",
    "        print('wrong')"
   ]
  },
  {
   "cell_type": "code",
   "execution_count": 35,
   "metadata": {},
   "outputs": [
    {
     "name": "stdout",
     "output_type": "stream",
     "text": [
      "wrong\n",
      "wrong\n",
      "wrong\n",
      "wrong\n",
      "correct\n",
      "correct\n",
      "wrong\n",
      "correct\n"
     ]
    }
   ],
   "source": [
    "data_loop = [3,4,5,6,7,11,21,41]\n",
    "error_14_n2 = []\n",
    "for idx in data_loop:\n",
    "    df = load_tensorboard('final_runs/2_noise_x14/'+str(idx)+'/')\n",
    "    xi = np.abs(np.array([df.loc[:,'unscaled_coeffs_output_0_coeff_'+str(i)] for i in np.arange(0,9)]))[:,-1]\n",
    "    if np.ma.allequal(xi.astype(bool), mask) == True:\n",
    "        print('correct')\n",
    "        error_14_n2.append(1) \n",
    "    else: \n",
    "        error_14_n2.append(0); \n",
    "        print('wrong')"
   ]
  },
  {
   "cell_type": "code",
   "execution_count": 34,
   "metadata": {},
   "outputs": [
    {
     "name": "stdout",
     "output_type": "stream",
     "text": [
      "wrong\n",
      "correct\n",
      "wrong\n",
      "wrong\n",
      "wrong\n",
      "correct\n",
      "correct\n",
      "correct\n"
     ]
    }
   ],
   "source": [
    "data_loop = [3,4,5,6,7,11,21,41]\n",
    "error_2_n2 = []\n",
    "for idx in data_loop:\n",
    "    df = load_tensorboard('final_runs/2_noise_x21/'+str(idx)+'/')\n",
    "    xi = np.abs(np.array([df.loc[:,'unscaled_coeffs_output_0_coeff_'+str(i)] for i in np.arange(0,9)]))[:,-1]\n",
    "    if np.ma.allequal(xi.astype(bool), mask) == True:\n",
    "        print('correct')\n",
    "        error_2_n2.append(1) \n",
    "    else: \n",
    "        error_2_n2.append(0); \n",
    "        print('wrong')"
   ]
  },
  {
   "cell_type": "code",
   "execution_count": 33,
   "metadata": {},
   "outputs": [
    {
     "name": "stdout",
     "output_type": "stream",
     "text": [
      "correct\n",
      "correct\n",
      "correct\n",
      "wrong\n",
      "correct\n",
      "correct\n",
      "correct\n",
      "correct\n"
     ]
    }
   ],
   "source": [
    "data_loop = [3,4,5,6,7,11,21,41]\n",
    "error_41_n2 = []\n",
    "for idx in data_loop:\n",
    "    df = load_tensorboard('final_runs/2_noise_x41/'+str(idx)+'/')\n",
    "    xi = np.abs(np.array([df.loc[:,'unscaled_coeffs_output_0_coeff_'+str(i)] for i in np.arange(0,9)]))[:,-1]\n",
    "    if np.ma.allequal(xi.astype(bool), mask) == True:\n",
    "        print('correct')\n",
    "        error_41_n2.append(1) \n",
    "    else: \n",
    "        error_41_n2.append(0); \n",
    "        print('wrong')"
   ]
  },
  {
   "cell_type": "code",
   "execution_count": 41,
   "metadata": {},
   "outputs": [
    {
     "data": {
      "image/png": "[encoded data removed]",
      "text/plain": [
       "<Figure size 432x288 with 1 Axes>"
      ]
     },
     "metadata": {
      "needs_background": "light"
     },
     "output_type": "display_data"
    }
   ],
   "source": [
    "data_loop = [3,4,5,6,7,11,21,41]\n",
    "plt.imshow(np.array([error_41_n2,error_2_n2,error_14_n2,error_10_n2,error_7_n2]),aspect=1)\n",
    "plt.yticks([0,1,2,3],['41', '21', '14','11'])\n",
    "plt.xticks([0,1,2,3,4,5,6,7],data_loop)\n",
    "plt.xlabel('Number of temporal points')\n",
    "plt.ylabel('Number of spatial points')\n",
    "plt.savefig('2_noise_artificial.pdf')\n",
    "plt.show()"
   ]
  },
  {
   "cell_type": "markdown",
   "metadata": {},
   "source": [
    "## Spatial and temporal for noise = 20%"
   ]
  },
  {
   "cell_type": "code",
   "execution_count": 5,
   "metadata": {},
   "outputs": [],
   "source": [
    "mask = np.array([False,False,True,True,True,False,False,False,False])"
   ]
  },
  {
   "cell_type": "code",
   "execution_count": 6,
   "metadata": {},
   "outputs": [],
   "source": [
    "ref = np.array([0,0,0.2,0.02,0.02,0,0,0,0]) \n",
    "ref_b =  np.array([0,0,0.2,0.02,0.02,0,0,0,0]) + 10**-9*np.ones(9)"
   ]
  },
  {
   "cell_type": "code",
   "execution_count": 42,
   "metadata": {},
   "outputs": [
    {
     "ename": "KeyError",
     "evalue": "'unscaled_coeffs_output_0_coeff_0'",
     "output_type": "error",
     "traceback": [
      "\u001b[0;31m---------------------------------------------------------------------------\u001b[0m",
      "\u001b[0;31mKeyError\u001b[0m                                  Traceback (most recent call last)",
      "\u001b[0;32m~/anaconda3/lib/python3.8/site-packages/pandas/core/indexes/base.py\u001b[0m in \u001b[0;36mget_loc\u001b[0;34m(self, key, method, tolerance)\u001b[0m\n\u001b[1;32m   2645\u001b[0m             \u001b[0;32mtry\u001b[0m\u001b[0;34m:\u001b[0m\u001b[0;34m\u001b[0m\u001b[0;34m\u001b[0m\u001b[0m\n\u001b[0;32m-> 2646\u001b[0;31m                 \u001b[0;32mreturn\u001b[0m \u001b[0mself\u001b[0m\u001b[0;34m.\u001b[0m\u001b[0m_engine\u001b[0m\u001b[0;34m.\u001b[0m\u001b[0mget_loc\u001b[0m\u001b[0;34m(\u001b[0m\u001b[0mkey\u001b[0m\u001b[0;34m)\u001b[0m\u001b[0;34m\u001b[0m\u001b[0;34m\u001b[0m\u001b[0m\n\u001b[0m\u001b[1;32m   2647\u001b[0m             \u001b[0;32mexcept\u001b[0m \u001b[0mKeyError\u001b[0m\u001b[0;34m:\u001b[0m\u001b[0;34m\u001b[0m\u001b[0;34m\u001b[0m\u001b[0m\n",
      "\u001b[0;32mpandas/_libs/index.pyx\u001b[0m in \u001b[0;36mpandas._libs.index.IndexEngine.get_loc\u001b[0;34m()\u001b[0m\n",
      "\u001b[0;32mpandas/_libs/index.pyx\u001b[0m in \u001b[0;36mpandas._libs.index.IndexEngine.get_loc\u001b[0;34m()\u001b[0m\n",
      "\u001b[0;32mpandas/_libs/hashtable_class_helper.pxi\u001b[0m in \u001b[0;36mpandas._libs.hashtable.PyObjectHashTable.get_item\u001b[0;34m()\u001b[0m\n",
      "\u001b[0;32mpandas/_libs/hashtable_class_helper.pxi\u001b[0m in \u001b[0;36mpandas._libs.hashtable.PyObjectHashTable.get_item\u001b[0;34m()\u001b[0m\n",
      "\u001b[0;31mKeyError\u001b[0m: 'unscaled_coeffs_output_0_coeff_0'",
      "\nDuring handling of the above exception, another exception occurred:\n",
      "\u001b[0;31mKeyError\u001b[0m                                  Traceback (most recent call last)",
      "\u001b[0;32m<ipython-input-42-e09b91376fc3>\u001b[0m in \u001b[0;36m<module>\u001b[0;34m\u001b[0m\n\u001b[1;32m      3\u001b[0m \u001b[0;32mfor\u001b[0m \u001b[0midx\u001b[0m \u001b[0;32min\u001b[0m \u001b[0mdata_loop\u001b[0m\u001b[0;34m:\u001b[0m\u001b[0;34m\u001b[0m\u001b[0;34m\u001b[0m\u001b[0m\n\u001b[1;32m      4\u001b[0m     \u001b[0mdf\u001b[0m \u001b[0;34m=\u001b[0m \u001b[0mload_tensorboard\u001b[0m\u001b[0;34m(\u001b[0m\u001b[0;34m'final_runs/20_noise_x07/'\u001b[0m\u001b[0;34m+\u001b[0m\u001b[0mstr\u001b[0m\u001b[0;34m(\u001b[0m\u001b[0midx\u001b[0m\u001b[0;34m)\u001b[0m\u001b[0;34m+\u001b[0m\u001b[0;34m'/'\u001b[0m\u001b[0;34m)\u001b[0m\u001b[0;34m\u001b[0m\u001b[0;34m\u001b[0m\u001b[0m\n\u001b[0;32m----> 5\u001b[0;31m     \u001b[0mxi\u001b[0m \u001b[0;34m=\u001b[0m \u001b[0mnp\u001b[0m\u001b[0;34m.\u001b[0m\u001b[0mabs\u001b[0m\u001b[0;34m(\u001b[0m\u001b[0mnp\u001b[0m\u001b[0;34m.\u001b[0m\u001b[0marray\u001b[0m\u001b[0;34m(\u001b[0m\u001b[0;34m[\u001b[0m\u001b[0mdf\u001b[0m\u001b[0;34m.\u001b[0m\u001b[0mloc\u001b[0m\u001b[0;34m[\u001b[0m\u001b[0;34m:\u001b[0m\u001b[0;34m,\u001b[0m\u001b[0;34m'unscaled_coeffs_output_0_coeff_'\u001b[0m\u001b[0;34m+\u001b[0m\u001b[0mstr\u001b[0m\u001b[0;34m(\u001b[0m\u001b[0mi\u001b[0m\u001b[0;34m)\u001b[0m\u001b[0;34m]\u001b[0m \u001b[0;32mfor\u001b[0m \u001b[0mi\u001b[0m \u001b[0;32min\u001b[0m \u001b[0mnp\u001b[0m\u001b[0;34m.\u001b[0m\u001b[0marange\u001b[0m\u001b[0;34m(\u001b[0m\u001b[0;36m0\u001b[0m\u001b[0;34m,\u001b[0m\u001b[0;36m9\u001b[0m\u001b[0;34m)\u001b[0m\u001b[0;34m]\u001b[0m\u001b[0;34m)\u001b[0m\u001b[0;34m)\u001b[0m\u001b[0;34m[\u001b[0m\u001b[0;34m:\u001b[0m\u001b[0;34m,\u001b[0m\u001b[0;34m-\u001b[0m\u001b[0;36m1\u001b[0m\u001b[0;34m]\u001b[0m\u001b[0;34m\u001b[0m\u001b[0;34m\u001b[0m\u001b[0m\n\u001b[0m\u001b[1;32m      6\u001b[0m     \u001b[0;32mif\u001b[0m \u001b[0mnp\u001b[0m\u001b[0;34m.\u001b[0m\u001b[0mma\u001b[0m\u001b[0;34m.\u001b[0m\u001b[0mallequal\u001b[0m\u001b[0;34m(\u001b[0m\u001b[0mxi\u001b[0m\u001b[0;34m.\u001b[0m\u001b[0mastype\u001b[0m\u001b[0;34m(\u001b[0m\u001b[0mbool\u001b[0m\u001b[0;34m)\u001b[0m\u001b[0;34m,\u001b[0m \u001b[0mmask\u001b[0m\u001b[0;34m)\u001b[0m \u001b[0;34m==\u001b[0m \u001b[0;32mTrue\u001b[0m\u001b[0;34m:\u001b[0m\u001b[0;34m\u001b[0m\u001b[0;34m\u001b[0m\u001b[0m\n\u001b[1;32m      7\u001b[0m         \u001b[0mprint\u001b[0m\u001b[0;34m(\u001b[0m\u001b[0;34m'correct'\u001b[0m\u001b[0;34m)\u001b[0m\u001b[0;34m\u001b[0m\u001b[0;34m\u001b[0m\u001b[0m\n",
      "\u001b[0;32m<ipython-input-42-e09b91376fc3>\u001b[0m in \u001b[0;36m<listcomp>\u001b[0;34m(.0)\u001b[0m\n\u001b[1;32m      3\u001b[0m \u001b[0;32mfor\u001b[0m \u001b[0midx\u001b[0m \u001b[0;32min\u001b[0m \u001b[0mdata_loop\u001b[0m\u001b[0;34m:\u001b[0m\u001b[0;34m\u001b[0m\u001b[0;34m\u001b[0m\u001b[0m\n\u001b[1;32m      4\u001b[0m     \u001b[0mdf\u001b[0m \u001b[0;34m=\u001b[0m \u001b[0mload_tensorboard\u001b[0m\u001b[0;34m(\u001b[0m\u001b[0;34m'final_runs/20_noise_x07/'\u001b[0m\u001b[0;34m+\u001b[0m\u001b[0mstr\u001b[0m\u001b[0;34m(\u001b[0m\u001b[0midx\u001b[0m\u001b[0;34m)\u001b[0m\u001b[0;34m+\u001b[0m\u001b[0;34m'/'\u001b[0m\u001b[0;34m)\u001b[0m\u001b[0;34m\u001b[0m\u001b[0;34m\u001b[0m\u001b[0m\n\u001b[0;32m----> 5\u001b[0;31m     \u001b[0mxi\u001b[0m \u001b[0;34m=\u001b[0m \u001b[0mnp\u001b[0m\u001b[0;34m.\u001b[0m\u001b[0mabs\u001b[0m\u001b[0;34m(\u001b[0m\u001b[0mnp\u001b[0m\u001b[0;34m.\u001b[0m\u001b[0marray\u001b[0m\u001b[0;34m(\u001b[0m\u001b[0;34m[\u001b[0m\u001b[0mdf\u001b[0m\u001b[0;34m.\u001b[0m\u001b[0mloc\u001b[0m\u001b[0;34m[\u001b[0m\u001b[0;34m:\u001b[0m\u001b[0;34m,\u001b[0m\u001b[0;34m'unscaled_coeffs_output_0_coeff_'\u001b[0m\u001b[0;34m+\u001b[0m\u001b[0mstr\u001b[0m\u001b[0;34m(\u001b[0m\u001b[0mi\u001b[0m\u001b[0;34m)\u001b[0m\u001b[0;34m]\u001b[0m \u001b[0;32mfor\u001b[0m \u001b[0mi\u001b[0m \u001b[0;32min\u001b[0m \u001b[0mnp\u001b[0m\u001b[0;34m.\u001b[0m\u001b[0marange\u001b[0m\u001b[0;34m(\u001b[0m\u001b[0;36m0\u001b[0m\u001b[0;34m,\u001b[0m\u001b[0;36m9\u001b[0m\u001b[0;34m)\u001b[0m\u001b[0;34m]\u001b[0m\u001b[0;34m)\u001b[0m\u001b[0;34m)\u001b[0m\u001b[0;34m[\u001b[0m\u001b[0;34m:\u001b[0m\u001b[0;34m,\u001b[0m\u001b[0;34m-\u001b[0m\u001b[0;36m1\u001b[0m\u001b[0;34m]\u001b[0m\u001b[0;34m\u001b[0m\u001b[0;34m\u001b[0m\u001b[0m\n\u001b[0m\u001b[1;32m      6\u001b[0m     \u001b[0;32mif\u001b[0m \u001b[0mnp\u001b[0m\u001b[0;34m.\u001b[0m\u001b[0mma\u001b[0m\u001b[0;34m.\u001b[0m\u001b[0mallequal\u001b[0m\u001b[0;34m(\u001b[0m\u001b[0mxi\u001b[0m\u001b[0;34m.\u001b[0m\u001b[0mastype\u001b[0m\u001b[0;34m(\u001b[0m\u001b[0mbool\u001b[0m\u001b[0;34m)\u001b[0m\u001b[0;34m,\u001b[0m \u001b[0mmask\u001b[0m\u001b[0;34m)\u001b[0m \u001b[0;34m==\u001b[0m \u001b[0;32mTrue\u001b[0m\u001b[0;34m:\u001b[0m\u001b[0;34m\u001b[0m\u001b[0;34m\u001b[0m\u001b[0m\n\u001b[1;32m      7\u001b[0m         \u001b[0mprint\u001b[0m\u001b[0;34m(\u001b[0m\u001b[0;34m'correct'\u001b[0m\u001b[0;34m)\u001b[0m\u001b[0;34m\u001b[0m\u001b[0;34m\u001b[0m\u001b[0m\n",
      "\u001b[0;32m~/anaconda3/lib/python3.8/site-packages/pandas/core/indexing.py\u001b[0m in \u001b[0;36m__getitem__\u001b[0;34m(self, key)\u001b[0m\n\u001b[1;32m   1760\u001b[0m                 \u001b[0;32mexcept\u001b[0m \u001b[0;34m(\u001b[0m\u001b[0mKeyError\u001b[0m\u001b[0;34m,\u001b[0m \u001b[0mIndexError\u001b[0m\u001b[0;34m,\u001b[0m \u001b[0mAttributeError\u001b[0m\u001b[0;34m)\u001b[0m\u001b[0;34m:\u001b[0m\u001b[0;34m\u001b[0m\u001b[0;34m\u001b[0m\u001b[0m\n\u001b[1;32m   1761\u001b[0m                     \u001b[0;32mpass\u001b[0m\u001b[0;34m\u001b[0m\u001b[0;34m\u001b[0m\u001b[0m\n\u001b[0;32m-> 1762\u001b[0;31m             \u001b[0;32mreturn\u001b[0m \u001b[0mself\u001b[0m\u001b[0;34m.\u001b[0m\u001b[0m_getitem_tuple\u001b[0m\u001b[0;34m(\u001b[0m\u001b[0mkey\u001b[0m\u001b[0;34m)\u001b[0m\u001b[0;34m\u001b[0m\u001b[0;34m\u001b[0m\u001b[0m\n\u001b[0m\u001b[1;32m   1763\u001b[0m         \u001b[0;32melse\u001b[0m\u001b[0;34m:\u001b[0m\u001b[0;34m\u001b[0m\u001b[0;34m\u001b[0m\u001b[0m\n\u001b[1;32m   1764\u001b[0m             \u001b[0;31m# we by definition only have the 0th axis\u001b[0m\u001b[0;34m\u001b[0m\u001b[0;34m\u001b[0m\u001b[0;34m\u001b[0m\u001b[0m\n",
      "\u001b[0;32m~/anaconda3/lib/python3.8/site-packages/pandas/core/indexing.py\u001b[0m in \u001b[0;36m_getitem_tuple\u001b[0;34m(self, tup)\u001b[0m\n\u001b[1;32m   1270\u001b[0m     \u001b[0;32mdef\u001b[0m \u001b[0m_getitem_tuple\u001b[0m\u001b[0;34m(\u001b[0m\u001b[0mself\u001b[0m\u001b[0;34m,\u001b[0m \u001b[0mtup\u001b[0m\u001b[0;34m:\u001b[0m \u001b[0mTuple\u001b[0m\u001b[0;34m)\u001b[0m\u001b[0;34m:\u001b[0m\u001b[0;34m\u001b[0m\u001b[0;34m\u001b[0m\u001b[0m\n\u001b[1;32m   1271\u001b[0m         \u001b[0;32mtry\u001b[0m\u001b[0;34m:\u001b[0m\u001b[0;34m\u001b[0m\u001b[0;34m\u001b[0m\u001b[0m\n\u001b[0;32m-> 1272\u001b[0;31m             \u001b[0;32mreturn\u001b[0m \u001b[0mself\u001b[0m\u001b[0;34m.\u001b[0m\u001b[0m_getitem_lowerdim\u001b[0m\u001b[0;34m(\u001b[0m\u001b[0mtup\u001b[0m\u001b[0;34m)\u001b[0m\u001b[0;34m\u001b[0m\u001b[0;34m\u001b[0m\u001b[0m\n\u001b[0m\u001b[1;32m   1273\u001b[0m         \u001b[0;32mexcept\u001b[0m \u001b[0mIndexingError\u001b[0m\u001b[0;34m:\u001b[0m\u001b[0;34m\u001b[0m\u001b[0;34m\u001b[0m\u001b[0m\n\u001b[1;32m   1274\u001b[0m             \u001b[0;32mpass\u001b[0m\u001b[0;34m\u001b[0m\u001b[0;34m\u001b[0m\u001b[0m\n",
      "\u001b[0;32m~/anaconda3/lib/python3.8/site-packages/pandas/core/indexing.py\u001b[0m in \u001b[0;36m_getitem_lowerdim\u001b[0;34m(self, tup)\u001b[0m\n\u001b[1;32m   1387\u001b[0m         \u001b[0;32mfor\u001b[0m \u001b[0mi\u001b[0m\u001b[0;34m,\u001b[0m \u001b[0mkey\u001b[0m \u001b[0;32min\u001b[0m \u001b[0menumerate\u001b[0m\u001b[0;34m(\u001b[0m\u001b[0mtup\u001b[0m\u001b[0;34m)\u001b[0m\u001b[0;34m:\u001b[0m\u001b[0;34m\u001b[0m\u001b[0;34m\u001b[0m\u001b[0m\n\u001b[1;32m   1388\u001b[0m             \u001b[0;32mif\u001b[0m \u001b[0mis_label_like\u001b[0m\u001b[0;34m(\u001b[0m\u001b[0mkey\u001b[0m\u001b[0;34m)\u001b[0m \u001b[0;32mor\u001b[0m \u001b[0misinstance\u001b[0m\u001b[0;34m(\u001b[0m\u001b[0mkey\u001b[0m\u001b[0;34m,\u001b[0m \u001b[0mtuple\u001b[0m\u001b[0;34m)\u001b[0m\u001b[0;34m:\u001b[0m\u001b[0;34m\u001b[0m\u001b[0;34m\u001b[0m\u001b[0m\n\u001b[0;32m-> 1389\u001b[0;31m                 \u001b[0msection\u001b[0m \u001b[0;34m=\u001b[0m \u001b[0mself\u001b[0m\u001b[0;34m.\u001b[0m\u001b[0m_getitem_axis\u001b[0m\u001b[0;34m(\u001b[0m\u001b[0mkey\u001b[0m\u001b[0;34m,\u001b[0m \u001b[0maxis\u001b[0m\u001b[0;34m=\u001b[0m\u001b[0mi\u001b[0m\u001b[0;34m)\u001b[0m\u001b[0;34m\u001b[0m\u001b[0;34m\u001b[0m\u001b[0m\n\u001b[0m\u001b[1;32m   1390\u001b[0m \u001b[0;34m\u001b[0m\u001b[0m\n\u001b[1;32m   1391\u001b[0m                 \u001b[0;31m# we have yielded a scalar ?\u001b[0m\u001b[0;34m\u001b[0m\u001b[0;34m\u001b[0m\u001b[0;34m\u001b[0m\u001b[0m\n",
      "\u001b[0;32m~/anaconda3/lib/python3.8/site-packages/pandas/core/indexing.py\u001b[0m in \u001b[0;36m_getitem_axis\u001b[0;34m(self, key, axis)\u001b[0m\n\u001b[1;32m   1963\u001b[0m         \u001b[0;31m# fall thru to straight lookup\u001b[0m\u001b[0;34m\u001b[0m\u001b[0;34m\u001b[0m\u001b[0;34m\u001b[0m\u001b[0m\n\u001b[1;32m   1964\u001b[0m         \u001b[0mself\u001b[0m\u001b[0;34m.\u001b[0m\u001b[0m_validate_key\u001b[0m\u001b[0;34m(\u001b[0m\u001b[0mkey\u001b[0m\u001b[0;34m,\u001b[0m \u001b[0maxis\u001b[0m\u001b[0;34m)\u001b[0m\u001b[0;34m\u001b[0m\u001b[0;34m\u001b[0m\u001b[0m\n\u001b[0;32m-> 1965\u001b[0;31m         \u001b[0;32mreturn\u001b[0m \u001b[0mself\u001b[0m\u001b[0;34m.\u001b[0m\u001b[0m_get_label\u001b[0m\u001b[0;34m(\u001b[0m\u001b[0mkey\u001b[0m\u001b[0;34m,\u001b[0m \u001b[0maxis\u001b[0m\u001b[0;34m=\u001b[0m\u001b[0maxis\u001b[0m\u001b[0;34m)\u001b[0m\u001b[0;34m\u001b[0m\u001b[0;34m\u001b[0m\u001b[0m\n\u001b[0m\u001b[1;32m   1966\u001b[0m \u001b[0;34m\u001b[0m\u001b[0m\n\u001b[1;32m   1967\u001b[0m \u001b[0;34m\u001b[0m\u001b[0m\n",
      "\u001b[0;32m~/anaconda3/lib/python3.8/site-packages/pandas/core/indexing.py\u001b[0m in \u001b[0;36m_get_label\u001b[0;34m(self, label, axis)\u001b[0m\n\u001b[1;32m    623\u001b[0m             \u001b[0;32mraise\u001b[0m \u001b[0mIndexingError\u001b[0m\u001b[0;34m(\u001b[0m\u001b[0;34m\"no slices here, handle elsewhere\"\u001b[0m\u001b[0;34m)\u001b[0m\u001b[0;34m\u001b[0m\u001b[0;34m\u001b[0m\u001b[0m\n\u001b[1;32m    624\u001b[0m \u001b[0;34m\u001b[0m\u001b[0m\n\u001b[0;32m--> 625\u001b[0;31m         \u001b[0;32mreturn\u001b[0m \u001b[0mself\u001b[0m\u001b[0;34m.\u001b[0m\u001b[0mobj\u001b[0m\u001b[0;34m.\u001b[0m\u001b[0m_xs\u001b[0m\u001b[0;34m(\u001b[0m\u001b[0mlabel\u001b[0m\u001b[0;34m,\u001b[0m \u001b[0maxis\u001b[0m\u001b[0;34m=\u001b[0m\u001b[0maxis\u001b[0m\u001b[0;34m)\u001b[0m\u001b[0;34m\u001b[0m\u001b[0;34m\u001b[0m\u001b[0m\n\u001b[0m\u001b[1;32m    626\u001b[0m \u001b[0;34m\u001b[0m\u001b[0m\n\u001b[1;32m    627\u001b[0m     \u001b[0;32mdef\u001b[0m \u001b[0m_get_loc\u001b[0m\u001b[0;34m(\u001b[0m\u001b[0mself\u001b[0m\u001b[0;34m,\u001b[0m \u001b[0mkey\u001b[0m\u001b[0;34m:\u001b[0m \u001b[0mint\u001b[0m\u001b[0;34m,\u001b[0m \u001b[0maxis\u001b[0m\u001b[0;34m:\u001b[0m \u001b[0mint\u001b[0m\u001b[0;34m)\u001b[0m\u001b[0;34m:\u001b[0m\u001b[0;34m\u001b[0m\u001b[0;34m\u001b[0m\u001b[0m\n",
      "\u001b[0;32m~/anaconda3/lib/python3.8/site-packages/pandas/core/generic.py\u001b[0m in \u001b[0;36mxs\u001b[0;34m(self, key, axis, level, drop_level)\u001b[0m\n\u001b[1;32m   3527\u001b[0m \u001b[0;34m\u001b[0m\u001b[0m\n\u001b[1;32m   3528\u001b[0m         \u001b[0;32mif\u001b[0m \u001b[0maxis\u001b[0m \u001b[0;34m==\u001b[0m \u001b[0;36m1\u001b[0m\u001b[0;34m:\u001b[0m\u001b[0;34m\u001b[0m\u001b[0;34m\u001b[0m\u001b[0m\n\u001b[0;32m-> 3529\u001b[0;31m             \u001b[0;32mreturn\u001b[0m \u001b[0mself\u001b[0m\u001b[0;34m[\u001b[0m\u001b[0mkey\u001b[0m\u001b[0;34m]\u001b[0m\u001b[0;34m\u001b[0m\u001b[0;34m\u001b[0m\u001b[0m\n\u001b[0m\u001b[1;32m   3530\u001b[0m \u001b[0;34m\u001b[0m\u001b[0m\n\u001b[1;32m   3531\u001b[0m         \u001b[0mself\u001b[0m\u001b[0;34m.\u001b[0m\u001b[0m_consolidate_inplace\u001b[0m\u001b[0;34m(\u001b[0m\u001b[0;34m)\u001b[0m\u001b[0;34m\u001b[0m\u001b[0;34m\u001b[0m\u001b[0m\n",
      "\u001b[0;32m~/anaconda3/lib/python3.8/site-packages/pandas/core/frame.py\u001b[0m in \u001b[0;36m__getitem__\u001b[0;34m(self, key)\u001b[0m\n\u001b[1;32m   2798\u001b[0m             \u001b[0;32mif\u001b[0m \u001b[0mself\u001b[0m\u001b[0;34m.\u001b[0m\u001b[0mcolumns\u001b[0m\u001b[0;34m.\u001b[0m\u001b[0mnlevels\u001b[0m \u001b[0;34m>\u001b[0m \u001b[0;36m1\u001b[0m\u001b[0;34m:\u001b[0m\u001b[0;34m\u001b[0m\u001b[0;34m\u001b[0m\u001b[0m\n\u001b[1;32m   2799\u001b[0m                 \u001b[0;32mreturn\u001b[0m \u001b[0mself\u001b[0m\u001b[0;34m.\u001b[0m\u001b[0m_getitem_multilevel\u001b[0m\u001b[0;34m(\u001b[0m\u001b[0mkey\u001b[0m\u001b[0;34m)\u001b[0m\u001b[0;34m\u001b[0m\u001b[0;34m\u001b[0m\u001b[0m\n\u001b[0;32m-> 2800\u001b[0;31m             \u001b[0mindexer\u001b[0m \u001b[0;34m=\u001b[0m \u001b[0mself\u001b[0m\u001b[0;34m.\u001b[0m\u001b[0mcolumns\u001b[0m\u001b[0;34m.\u001b[0m\u001b[0mget_loc\u001b[0m\u001b[0;34m(\u001b[0m\u001b[0mkey\u001b[0m\u001b[0;34m)\u001b[0m\u001b[0;34m\u001b[0m\u001b[0;34m\u001b[0m\u001b[0m\n\u001b[0m\u001b[1;32m   2801\u001b[0m             \u001b[0;32mif\u001b[0m \u001b[0mis_integer\u001b[0m\u001b[0;34m(\u001b[0m\u001b[0mindexer\u001b[0m\u001b[0;34m)\u001b[0m\u001b[0;34m:\u001b[0m\u001b[0;34m\u001b[0m\u001b[0;34m\u001b[0m\u001b[0m\n\u001b[1;32m   2802\u001b[0m                 \u001b[0mindexer\u001b[0m \u001b[0;34m=\u001b[0m \u001b[0;34m[\u001b[0m\u001b[0mindexer\u001b[0m\u001b[0;34m]\u001b[0m\u001b[0;34m\u001b[0m\u001b[0;34m\u001b[0m\u001b[0m\n",
      "\u001b[0;32m~/anaconda3/lib/python3.8/site-packages/pandas/core/indexes/base.py\u001b[0m in \u001b[0;36mget_loc\u001b[0;34m(self, key, method, tolerance)\u001b[0m\n\u001b[1;32m   2646\u001b[0m                 \u001b[0;32mreturn\u001b[0m \u001b[0mself\u001b[0m\u001b[0;34m.\u001b[0m\u001b[0m_engine\u001b[0m\u001b[0;34m.\u001b[0m\u001b[0mget_loc\u001b[0m\u001b[0;34m(\u001b[0m\u001b[0mkey\u001b[0m\u001b[0;34m)\u001b[0m\u001b[0;34m\u001b[0m\u001b[0;34m\u001b[0m\u001b[0m\n\u001b[1;32m   2647\u001b[0m             \u001b[0;32mexcept\u001b[0m \u001b[0mKeyError\u001b[0m\u001b[0;34m:\u001b[0m\u001b[0;34m\u001b[0m\u001b[0;34m\u001b[0m\u001b[0m\n\u001b[0;32m-> 2648\u001b[0;31m                 \u001b[0;32mreturn\u001b[0m \u001b[0mself\u001b[0m\u001b[0;34m.\u001b[0m\u001b[0m_engine\u001b[0m\u001b[0;34m.\u001b[0m\u001b[0mget_loc\u001b[0m\u001b[0;34m(\u001b[0m\u001b[0mself\u001b[0m\u001b[0;34m.\u001b[0m\u001b[0m_maybe_cast_indexer\u001b[0m\u001b[0;34m(\u001b[0m\u001b[0mkey\u001b[0m\u001b[0;34m)\u001b[0m\u001b[0;34m)\u001b[0m\u001b[0;34m\u001b[0m\u001b[0;34m\u001b[0m\u001b[0m\n\u001b[0m\u001b[1;32m   2649\u001b[0m         \u001b[0mindexer\u001b[0m \u001b[0;34m=\u001b[0m \u001b[0mself\u001b[0m\u001b[0;34m.\u001b[0m\u001b[0mget_indexer\u001b[0m\u001b[0;34m(\u001b[0m\u001b[0;34m[\u001b[0m\u001b[0mkey\u001b[0m\u001b[0;34m]\u001b[0m\u001b[0;34m,\u001b[0m \u001b[0mmethod\u001b[0m\u001b[0;34m=\u001b[0m\u001b[0mmethod\u001b[0m\u001b[0;34m,\u001b[0m \u001b[0mtolerance\u001b[0m\u001b[0;34m=\u001b[0m\u001b[0mtolerance\u001b[0m\u001b[0;34m)\u001b[0m\u001b[0;34m\u001b[0m\u001b[0;34m\u001b[0m\u001b[0m\n\u001b[1;32m   2650\u001b[0m         \u001b[0;32mif\u001b[0m \u001b[0mindexer\u001b[0m\u001b[0;34m.\u001b[0m\u001b[0mndim\u001b[0m \u001b[0;34m>\u001b[0m \u001b[0;36m1\u001b[0m \u001b[0;32mor\u001b[0m \u001b[0mindexer\u001b[0m\u001b[0;34m.\u001b[0m\u001b[0msize\u001b[0m \u001b[0;34m>\u001b[0m \u001b[0;36m1\u001b[0m\u001b[0;34m:\u001b[0m\u001b[0;34m\u001b[0m\u001b[0;34m\u001b[0m\u001b[0m\n",
      "\u001b[0;32mpandas/_libs/index.pyx\u001b[0m in \u001b[0;36mpandas._libs.index.IndexEngine.get_loc\u001b[0;34m()\u001b[0m\n",
      "\u001b[0;32mpandas/_libs/index.pyx\u001b[0m in \u001b[0;36mpandas._libs.index.IndexEngine.get_loc\u001b[0;34m()\u001b[0m\n",
      "\u001b[0;32mpandas/_libs/hashtable_class_helper.pxi\u001b[0m in \u001b[0;36mpandas._libs.hashtable.PyObjectHashTable.get_item\u001b[0;34m()\u001b[0m\n",
      "\u001b[0;32mpandas/_libs/hashtable_class_helper.pxi\u001b[0m in \u001b[0;36mpandas._libs.hashtable.PyObjectHashTable.get_item\u001b[0;34m()\u001b[0m\n",
      "\u001b[0;31mKeyError\u001b[0m: 'unscaled_coeffs_output_0_coeff_0'"
     ]
    }
   ],
   "source": [
    "data_loop = [3,4,5,6,7,11,21,41]\n",
    "error_07_n20 = []\n",
    "for idx in data_loop:\n",
    "    df = load_tensorboard('final_runs/20_noise_x07/'+str(idx)+'/')\n",
    "    xi = np.abs(np.array([df.loc[:,'unscaled_coeffs_output_0_coeff_'+str(i)] for i in np.arange(0,9)]))[:,-1]\n",
    "    if np.ma.allequal(xi.astype(bool), mask) == True:\n",
    "        print('correct')\n",
    "        error_07_n20.append(1) \n",
    "    else: \n",
    "        error_07_n20.append(0); \n",
    "        print('wrong')"
   ]
  },
  {
   "cell_type": "code",
   "execution_count": 21,
   "metadata": {},
   "outputs": [
    {
     "name": "stdout",
     "output_type": "stream",
     "text": [
      "wrong\n",
      "wrong\n",
      "wrong\n",
      "wrong\n",
      "wrong\n",
      "wrong\n",
      "wrong\n",
      "correct\n"
     ]
    }
   ],
   "source": [
    "data_loop = [3,4, 5, 6,7,11,21,41]\n",
    "error_10_n20 = []\n",
    "for idx in data_loop:\n",
    "    df = load_tensorboard('final_runs/20_noise_x10/'+str(idx)+'/')\n",
    "    xi = np.abs(np.array([df.loc[:,'unscaled_coeffs_output_0_coeff_'+str(i)] for i in np.arange(0,9)]))[:,-1]\n",
    "    if np.ma.allequal(xi.astype(bool), mask) == True:\n",
    "        print('correct')\n",
    "        error_10_n20.append(1) \n",
    "    else: \n",
    "        error_10_n20.append(0); \n",
    "        print('wrong')"
   ]
  },
  {
   "cell_type": "code",
   "execution_count": 22,
   "metadata": {},
   "outputs": [
    {
     "name": "stdout",
     "output_type": "stream",
     "text": [
      "correct\n",
      "wrong\n",
      "wrong\n",
      "wrong\n",
      "correct\n",
      "correct\n",
      "correct\n",
      "correct\n"
     ]
    }
   ],
   "source": [
    "\n",
    "data_loop = [3,4,5,6,7,11,21,41]\n",
    "error_14_n20 = []\n",
    "for idx in data_loop:\n",
    "    df = load_tensorboard('final_runs/20_noise_x14/'+str(idx)+'/')\n",
    "    xi = np.abs(np.array([df.loc[:,'unscaled_coeffs_output_0_coeff_'+str(i)] for i in np.arange(0,9)]))[:,-1]\n",
    "    if np.ma.allequal(xi.astype(bool), mask) == True:\n",
    "        print('correct')\n",
    "        error_14_n20.append(1) \n",
    "    else: \n",
    "        error_14_n20.append(0); \n",
    "        print('wrong')"
   ]
  },
  {
   "cell_type": "code",
   "execution_count": 23,
   "metadata": {},
   "outputs": [
    {
     "name": "stdout",
     "output_type": "stream",
     "text": [
      "correct\n",
      "correct\n",
      "correct\n",
      "correct\n",
      "correct\n",
      "correct\n",
      "correct\n",
      "correct\n"
     ]
    }
   ],
   "source": [
    "data_loop = [3,4,5,6,7,11,21,41]\n",
    "error_20_n20 = []\n",
    "for idx in data_loop:\n",
    "    df = load_tensorboard('final_runs/20_noise_x21/'+str(idx)+'/')\n",
    "    xi = np.abs(np.array([df.loc[:,'unscaled_coeffs_output_0_coeff_'+str(i)] for i in np.arange(0,9)]))[:,-1]\n",
    "    if np.ma.allequal(xi.astype(bool), mask) == True:\n",
    "        print('correct')\n",
    "        error_20_n20.append(1) \n",
    "    else: \n",
    "        error_20_n20.append(0); \n",
    "        print('wrong')"
   ]
  },
  {
   "cell_type": "code",
   "execution_count": 24,
   "metadata": {},
   "outputs": [
    {
     "name": "stdout",
     "output_type": "stream",
     "text": [
      "wrong\n",
      "correct\n",
      "correct\n",
      "correct\n",
      "correct\n",
      "correct\n",
      "correct\n",
      "correct\n"
     ]
    }
   ],
   "source": [
    "data_loop = [3,4,5,6,7,11,21,41]\n",
    "error_41_n20 = []\n",
    "for idx in data_loop:\n",
    "    df = load_tensorboard('final_runs/20_noise_x41/'+str(idx)+'/')\n",
    "    xi = np.abs(np.array([df.loc[:,'unscaled_coeffs_output_0_coeff_'+str(i)] for i in np.arange(0,9)]))[:,-1]\n",
    "    if np.ma.allequal(xi.astype(bool), mask) == True:\n",
    "        print('correct')\n",
    "        error_41_n20.append(1) \n",
    "    else: \n",
    "        error_41_n20.append(0); \n",
    "        print('wrong')"
   ]
  },
  {
   "cell_type": "code",
   "execution_count": 26,
   "metadata": {},
   "outputs": [
    {
     "data": {
      "image/png": "[encoded data removed]",
      "text/plain": [
       "<Figure size 432x288 with 1 Axes>"
      ]
     },
     "metadata": {
      "needs_background": "light"
     },
     "output_type": "display_data"
    }
   ],
   "source": [
    "data_loop = [3,4,5,6,7,11,21,41]\n",
    "plt.imshow(np.array([error_41_n20,error_20_n20,error_14_n20,error_10_n20]),aspect=2)\n",
    "plt.yticks([0,1,2,3],['41', '21', '14','11'])\n",
    "plt.xticks([0,1,2,3,4,5,6,7],data_loop)\n",
    "plt.xlabel('Number of temporal points')\n",
    "plt.ylabel('Number of spatial points')\n",
    "plt.savefig('20_noise_artificial.pdf')\n",
    "plt.show()"
   ]
  },
  {
   "cell_type": "markdown",
   "metadata": {},
   "source": [
    "## Impact of noise"
   ]
  },
  {
   "cell_type": "code",
   "execution_count": 29,
   "metadata": {},
   "outputs": [],
   "source": [
    "mask = np.array([False,False,True,True,True,False,False,False,False])"
   ]
  },
  {
   "cell_type": "code",
   "execution_count": 50,
   "metadata": {},
   "outputs": [
    {
     "name": "stdout",
     "output_type": "stream",
     "text": [
      "correct\n",
      "wrong\n",
      "wrong\n",
      "wrong\n",
      "correct\n",
      "correct\n",
      "correct\n",
      "correct\n"
     ]
    }
   ],
   "source": [
    "data_loop = [3,4,5,6,7,11,21,41]\n",
    "error_14_n20 = []\n",
    "for idx in data_loop:\n",
    "    df = load_tensorboard('final_runs/20_noise_x14/'+str(idx)+'/')\n",
    "    xi = np.abs(np.array([df.loc[:,'unscaled_coeffs_output_0_coeff_'+str(i)] for i in np.arange(0,9)]))[:,-1]\n",
    "    if np.ma.allequal(xi.astype(bool), mask) == True:\n",
    "        print('correct')\n",
    "        error_14_n20.append(1) \n",
    "    else: \n",
    "        error_14_n20.append(0); \n",
    "        print('wrong')"
   ]
  },
  {
   "cell_type": "code",
   "execution_count": 55,
   "metadata": {},
   "outputs": [
    {
     "name": "stdout",
     "output_type": "stream",
     "text": [
      "wrong\n",
      "wrong\n",
      "wrong\n",
      "correct\n",
      "correct\n",
      "correct\n",
      "correct\n",
      "correct\n"
     ]
    }
   ],
   "source": [
    "data_loop = [3,4,5,6,7,11,21,41]\n",
    "error_14_n40 = []\n",
    "for idx in data_loop:\n",
    "    df = load_tensorboard('final_runs/40_noise_x14/'+str(idx)+'/')\n",
    "    xi = np.abs(np.array([df.loc[:,'unscaled_coeffs_output_0_coeff_'+str(i)] for i in np.arange(0,9)]))[:,-1]\n",
    "    if np.count_nonzero(xi) == 3:\n",
    "        print('correct')\n",
    "        error_14_n40.append(0)\n",
    "    else: \n",
    "        error_14_n40.append(1); \n",
    "        print('wrong')"
   ]
  },
  {
   "cell_type": "code",
   "execution_count": 42,
   "metadata": {},
   "outputs": [
    {
     "name": "stdout",
     "output_type": "stream",
     "text": [
      "wrong\n",
      "wrong\n",
      "wrong\n",
      "correct\n",
      "correct\n",
      "correct\n",
      "correct\n",
      "correct\n"
     ]
    }
   ],
   "source": [
    "data_loop = [3,4,5,6,7, 11,21,41]\n",
    "error_14_n60 = []\n",
    "for idx in data_loop:\n",
    "    df = load_tensorboard('final_runs/60_noise_x14/'+str(idx)+'/')\n",
    "    xi = np.abs(np.array([df.loc[:,'unscaled_coeffs_output_0_coeff_'+str(i)] for i in np.arange(0,9)]))[:,-1]\n",
    "    if np.count_nonzero(xi) == 3:\n",
    "        print('correct')\n",
    "        error_14_n60.append(1) \n",
    "    else: \n",
    "        error_14_n60.append(0); \n",
    "        print('wrong')"
   ]
  },
  {
   "cell_type": "code",
   "execution_count": 8,
   "metadata": {},
   "outputs": [
    {
     "name": "stdout",
     "output_type": "stream",
     "text": [
      "wrong\n",
      "wrong\n",
      "wrong\n"
     ]
    }
   ],
   "source": [
    "data_loop = [3,4,5,6,7,11,21,41]\n",
    "error_14_n80 = []\n",
    "for idx in data_loop:\n",
    "    df = load_tensorboard('final_runs/80_noise_x14/'+str(idx)+'/')\n",
    "    xi = np.abs(np.array([df.loc[:,'unscaled_coeffs_output_0_coeff_'+str(i)] for i in np.arange(0,9)]))[:,-1]\n",
    "    if np.count_nonzero(xi) == 3:\n",
    "        k = np.sum(np.abs((xi-ref)/ref_b))\n",
    "        error_14_n80.append(1) \n",
    "    else: \n",
    "        error_14_n80.append(0); \n",
    "        print('wrong')"
   ]
  },
  {
   "cell_type": "code",
   "execution_count": 41,
   "metadata": {},
   "outputs": [
    {
     "name": "stdout",
     "output_type": "stream",
     "text": [
      "wrong\n",
      "wrong\n",
      "wrong\n"
     ]
    }
   ],
   "source": [
    "data_loop = [3,4,5,6,7,11,21,41]\n",
    "error_14_n100 = []\n",
    "for idx in data_loop:\n",
    "    df = load_tensorboard('final_runs/100_noise_x14/'+str(idx)+'/')\n",
    "    xi = np.abs(np.array([df.loc[:,'unscaled_coeffs_output_0_coeff_'+str(i)] for i in np.arange(0,9)]))[:,-1]\n",
    "    if np.count_nonzero(xi) == 3:\n",
    "        error_14_n100.append(1) \n",
    "    else: \n",
    "        error_14_n100.append(0); \n",
    "        print('wrong')"
   ]
  },
  {
   "cell_type": "code",
   "execution_count": 47,
   "metadata": {},
   "outputs": [
    {
     "name": "stdout",
     "output_type": "stream",
     "text": [
      "wrong\n",
      "wrong\n",
      "wrong\n",
      "wrong\n"
     ]
    }
   ],
   "source": [
    "data_loop = [3,4,5,6,7,11,21,41]\n",
    "error_14_n140 = []\n",
    "for idx in data_loop:\n",
    "    df = load_tensorboard('final_runs/140_noise_x14/'+str(idx)+'/')\n",
    "    xi = np.abs(np.array([df.loc[:,'unscaled_coeffs_output_0_coeff_'+str(i)] for i in np.arange(0,9)]))[:,-1]\n",
    "    if np.count_nonzero(xi) == 3:\n",
    "        k = np.sum(np.abs((xi-ref)/ref_b))\n",
    "        error_14_n140.append(1) \n",
    "    else: \n",
    "        error_14_n140.append(0); \n",
    "        print('wrong')"
   ]
  },
  {
   "cell_type": "code",
   "execution_count": 37,
   "metadata": {},
   "outputs": [
    {
     "name": "stdout",
     "output_type": "stream",
     "text": [
      "wrong\n",
      "wrong\n",
      "wrong\n",
      "wrong\n",
      "wrong\n",
      "wrong\n",
      "wrong\n",
      "correct\n"
     ]
    }
   ],
   "source": [
    "data_loop = [3,4,5,6,7,11,21,41]\n",
    "error_14_n160 = []\n",
    "for idx in data_loop:\n",
    "    df = load_tensorboard('final_runs/160_noise_x14/'+str(idx)+'/')\n",
    "    xi = np.abs(np.array([df.loc[:,'unscaled_coeffs_output_0_coeff_'+str(i)] for i in np.arange(0,9)]))[:,-1]\n",
    "    if np.count_nonzero(xi) == 3:\n",
    "        print('correct')\n",
    "        error_14_n160.append(1) \n",
    "    else: \n",
    "        error_14_n160.append(0); \n",
    "        print('wrong')"
   ]
  },
  {
   "cell_type": "code",
   "execution_count": 44,
   "metadata": {},
   "outputs": [
    {
     "data": {
      "text/plain": [
       "[1, 1, 1, 1, 0.6727900270887213, 0.7317993310839835, 1, 0.41101957227651154]"
      ]
     },
     "execution_count": 44,
     "metadata": {},
     "output_type": "execute_result"
    }
   ],
   "source": [
    "error_14_n140"
   ]
  },
  {
   "cell_type": "code",
   "execution_count": 62,
   "metadata": {},
   "outputs": [
    {
     "data": {
      "image/png": "[encoded data removed]",
      "text/plain": [
       "<Figure size 432x288 with 2 Axes>"
      ]
     },
     "metadata": {
      "needs_background": "light"
     },
     "output_type": "display_data"
    }
   ],
   "source": [
    "data_loop = [3,4,5,6,7,11,21,41]\n",
    "plt.imshow(np.array([error_14_n160,error_14_n100,error_14_n40,error_14_n20,error_14]))\n",
    "plt.yticks([0,1,2,3,4],['160','100','60','20','0'])\n",
    "plt.xticks([0,1,2,3,4,5,6,7],data_loop)\n",
    "plt.xlabel('Number of temporal points')\n",
    "plt.ylabel('Noise level')\n",
    "plt.colorbar()\n",
    "plt.show()"
   ]
  },
  {
   "cell_type": "code",
   "execution_count": 143,
   "metadata": {},
   "outputs": [
    {
     "data": {
      "text/plain": [
       "(0.0, 0.2)"
      ]
     },
     "execution_count": 143,
     "metadata": {},
     "output_type": "execute_result"
    },
    {
     "data": {
      "image/png": "[encoded data removed]",
      "text/plain": [
       "<Figure size 432x288 with 1 Axes>"
      ]
     },
     "metadata": {
      "needs_background": "light"
     },
     "output_type": "display_data"
    }
   ],
   "source": [
    "df = load_tensorboard('final_runs/no_noise_x41/'+str(4)+'/')\n",
    "\n",
    "plt.plot(np.abs(np.array([df.loc[:,'coeffs_output_0_coeff_'+str(i)] for i in np.arange(0,9)])).T)\n",
    "plt.ylim(0,0.2)"
   ]
  },
  {
   "cell_type": "code",
   "execution_count": 138,
   "metadata": {},
   "outputs": [
    {
     "data": {
      "text/plain": [
       "array([0.00000000e+00, 0.00000000e+00, 1.80436134e-01, 1.89559814e-02,\n",
       "       2.00676881e-02, 0.00000000e+00, 6.89391309e-05, 0.00000000e+00,\n",
       "       0.00000000e+00])"
      ]
     },
     "execution_count": 138,
     "metadata": {},
     "output_type": "execute_result"
    }
   ],
   "source": [
    "xi = np.abs(np.array([df.loc[:,'unscaled_coeffs_output_0_coeff_'+str(i)] for i in np.arange(0,9)]))[:,-100]\n",
    "xi"
   ]
  },
  {
   "cell_type": "markdown",
   "metadata": {},
   "source": [
    "## Load model"
   ]
  },
  {
   "cell_type": "code",
   "execution_count": 30,
   "metadata": {},
   "outputs": [
    {
     "name": "stdout",
     "output_type": "stream",
     "text": [
      "Dowmsampled shape: (81, 81, 81)\n"
     ]
    }
   ],
   "source": [
    "data = loadmat('Diffusion_2D_space81.mat')\n",
    "data = np.real(data['Expression1']).reshape((81,81,81,4))[:,:,:,3]\n",
    "down_data= np.take(np.take(np.take(data,np.arange(0,data.shape[0],1),axis=0),np.arange(0,data.shape[1],1),axis=1),np.arange(0,data.shape[2],1),axis=2)\n",
    "\n",
    "print(\"Dowmsampled shape:\",down_data.shape)"
   ]
  },
  {
   "cell_type": "code",
   "execution_count": 19,
   "metadata": {},
   "outputs": [
    {
     "data": {
      "text/plain": [
       "[<matplotlib.lines.Line2D at 0x7fafa68b1430>]"
      ]
     },
     "execution_count": 19,
     "metadata": {},
     "output_type": "execute_result"
    },
    {
     "data": {
      "image/png": "[encoded data removed]",
      "text/plain": [
       "<Figure size 432x288 with 1 Axes>"
      ]
     },
     "metadata": {
      "needs_background": "light"
     },
     "output_type": "display_data"
    }
   ],
   "source": [
    "plt.plot(down_data[41,35:47,0])"
   ]
  },
  {
   "cell_type": "code",
   "execution_count": 31,
   "metadata": {},
   "outputs": [],
   "source": [
    "width, width_2, steps = down_data.shape\n",
    "x_arr = np.linspace(0,1,width)\n",
    "y_arr = np.linspace(0,1,width_2)\n",
    "t_arr = np.linspace(0,1,steps)\n",
    "x_grid, y_grid, t_grid = np.meshgrid(x_arr, y_arr, t_arr, indexing='ij')"
   ]
  },
  {
   "cell_type": "code",
   "execution_count": 32,
   "metadata": {},
   "outputs": [
    {
     "data": {
      "text/plain": [
       "1.0"
      ]
     },
     "execution_count": 32,
     "metadata": {},
     "output_type": "execute_result"
    }
   ],
   "source": [
    "np.max(down_data)"
   ]
  },
  {
   "cell_type": "code",
   "execution_count": 33,
   "metadata": {},
   "outputs": [],
   "source": [
    "X = np.transpose((t_grid.flatten(), x_grid.flatten(), y_grid.flatten()))\n",
    "y = np.float32(down_data.reshape((down_data.size, 1)))"
   ]
  },
  {
   "cell_type": "code",
   "execution_count": 36,
   "metadata": {},
   "outputs": [],
   "source": [
    "noise_level = 0.20\n",
    "y_noisy = y + noise_level * np.std(y) * np.random.randn(y.size, 1)"
   ]
  },
  {
   "cell_type": "code",
   "execution_count": 38,
   "metadata": {},
   "outputs": [
    {
     "data": {
      "text/plain": [
       "0.07955831137377294"
      ]
     },
     "execution_count": 38,
     "metadata": {},
     "output_type": "execute_result"
    }
   ],
   "source": [
    "10**(-4)/np.var(y_noisy)"
   ]
  },
  {
   "cell_type": "code",
   "execution_count": 7,
   "metadata": {},
   "outputs": [],
   "source": [
    "number_of_samples = 5000\n",
    "\n",
    "idx = np.random.permutation(y.shape[0])\n",
    "X_train = torch.tensor(X[idx, :][:number_of_samples], dtype=torch.float32, requires_grad=True)\n",
    "y_train = torch.tensor(y[idx, :][:number_of_samples], dtype=torch.float32)"
   ]
  },
  {
   "cell_type": "code",
   "execution_count": 8,
   "metadata": {},
   "outputs": [],
   "source": [
    "network = NN(3, [40, 40, 40, 40], 1)\n",
    "library = Library2D_third(poly_order=0) \n",
    "estimator = Threshold(0.05) \n",
    "sparsity_scheduler = TrainTestPeriodic(periodicity=50, patience=200, delta=1e-5) \n",
    "constraint = LeastSquares() "
   ]
  },
  {
   "cell_type": "markdown",
   "metadata": {},
   "source": [
    "Now we instantiate the model and select the optimizer "
   ]
  },
  {
   "cell_type": "code",
   "execution_count": 9,
   "metadata": {},
   "outputs": [],
   "source": [
    "model = DeepMoD(network, library, estimator, constraint)\n",
    "\n",
    "# Defining optimizer\n",
    "optimizer = torch.optim.Adam(model.parameters(), betas=(0.99, 0.99), amsgrad=True, lr=2e-3) \n"
   ]
  },
  {
   "cell_type": "markdown",
   "metadata": {},
   "source": [
    "Now we instantiate the model and select the optimizer "
   ]
  },
  {
   "cell_type": "code",
   "execution_count": 10,
   "metadata": {},
   "outputs": [
    {
     "data": {
      "text/plain": [
       "DeepMoD(\n",
       "  (func_approx): NN(\n",
       "    (network): Sequential(\n",
       "      (0): Linear(in_features=3, out_features=40, bias=True)\n",
       "      (1): Tanh()\n",
       "      (2): Linear(in_features=40, out_features=40, bias=True)\n",
       "      (3): Tanh()\n",
       "      (4): Linear(in_features=40, out_features=40, bias=True)\n",
       "      (5): Tanh()\n",
       "      (6): Linear(in_features=40, out_features=40, bias=True)\n",
       "      (7): Tanh()\n",
       "      (8): Linear(in_features=40, out_features=1, bias=True)\n",
       "    )\n",
       "  )\n",
       "  (library): Library2D_third()\n",
       "  (sparse_estimator): Threshold()\n",
       "  (constraint): LeastSquares()\n",
       ")"
      ]
     },
     "execution_count": 10,
     "metadata": {},
     "output_type": "execute_result"
    }
   ],
   "source": [
    "model = DeepMoD(network, library, estimator, constraint)\n",
    "model.load_state_dict(torch.load('runs/noise_20/model.pt'))\n",
    "model.eval()"
   ]
  },
  {
   "cell_type": "markdown",
   "metadata": {},
   "source": [
    "## Run DeepMoD "
   ]
  },
  {
   "cell_type": "markdown",
   "metadata": {},
   "source": [
    "We can now run DeepMoD using all the options we have set and the training data:\n",
    "* The directory where the tensorboard file is written (log_dir)\n",
    "* The ratio of train/test set used (split)\n",
    "* The maximum number of iterations performed (max_iterations)\n",
    "* The absolute change in L1 norm considered converged (delta)\n",
    "* The amount of epochs over which the absolute change in L1 norm is calculated (patience)"
   ]
  },
  {
   "cell_type": "markdown",
   "metadata": {},
   "source": [
    "Sparsity masks provide the active and non-active terms in the PDE:"
   ]
  },
  {
   "cell_type": "code",
   "execution_count": 10,
   "metadata": {},
   "outputs": [],
   "source": [
    "sol = model(torch.tensor(X, dtype=torch.float32))[0].reshape((width,width_2,steps)).detach().numpy()"
   ]
  },
  {
   "cell_type": "code",
   "execution_count": 11,
   "metadata": {},
   "outputs": [],
   "source": [
    "ux = model(torch.tensor(X, dtype=torch.float32))[2][0][:,1].reshape((width,width_2,steps)).detach().numpy()\n",
    "uy = model(torch.tensor(X, dtype=torch.float32))[2][0][:,2].reshape((width,width_2,steps)).detach().numpy()"
   ]
  },
  {
   "cell_type": "code",
   "execution_count": 17,
   "metadata": {},
   "outputs": [
    {
     "data": {
      "text/plain": [
       "<matplotlib.image.AxesImage at 0x7f575854a670>"
      ]
     },
     "execution_count": 17,
     "metadata": {},
     "output_type": "execute_result"
    },
    {
     "data": {
      "image/png": "[encoded data removed]",
      "text/plain": [
       "<Figure size 432x288 with 1 Axes>"
      ]
     },
     "metadata": {
      "needs_background": "light"
     },
     "output_type": "display_data"
    }
   ],
   "source": [
    "plt.imshow(ux[:,:,3])"
   ]
  },
  {
   "cell_type": "code",
   "execution_count": 12,
   "metadata": {},
   "outputs": [],
   "source": [
    "ut = model(torch.tensor(X, dtype=torch.float32))[1][0].reshape((width,width_2,steps)).detach().numpy()"
   ]
  },
  {
   "cell_type": "code",
   "execution_count": null,
   "metadata": {},
   "outputs": [],
   "source": [
    "uxx = model(torch.tensor(X, dtype=torch.float32))[2][0][:,3].reshape((width,width_2,steps)).detach().numpy()\n",
    "uyy = model(torch.tensor(X, dtype=torch.float32))[2][0][:,4].reshape((width,width_2,steps)).detach().numpy()"
   ]
  },
  {
   "cell_type": "code",
   "execution_count": 23,
   "metadata": {},
   "outputs": [],
   "source": [
    "import pysindy as ps"
   ]
  },
  {
   "cell_type": "code",
   "execution_count": 47,
   "metadata": {},
   "outputs": [],
   "source": [
    "fd_spline = ps.SINDyDerivative(kind='spline', s=1e-2)\n",
    "fd_spectral = ps.SINDyDerivative(kind='spectral')\n",
    "fd_sg = ps.SINDyDerivative(kind='savitzky_golay', left=0.5, right=0.5, order=3)"
   ]
  },
  {
   "cell_type": "code",
   "execution_count": null,
   "metadata": {},
   "outputs": [],
   "source": [
    "y = down_data[7,5,:]\n",
    "t = t_arr\n",
    "plt.plot(t,fd_sg(y,t), 'bo--')\n",
    "plt.plot(t,ut[7,5,:]*np.max(down_data)/np.max(t_grid),'b', label='y = 12',linewidth=3)\n",
    "y = down_data[7,10,:]\n",
    "t = t_arr\n",
    "plt.plot(t,fd_sg(y,t), 'go--')\n",
    "plt.plot(t,ut[7,10,:]*np.max(down_data)/np.max(t_grid),'g', label='y = 6',linewidth=3)\n",
    "y = down_data[7,15,:]\n",
    "t = t_arr\n",
    "plt.plot(t,fd_sg(y,t), 'ro--')\n",
    "plt.plot(t,ut[7,15,:]*np.max(down_data)/np.max(t_grid),'r', label='y = 18',linewidth=3)\n",
    "plt.legend()"
   ]
  },
  {
   "cell_type": "code",
   "execution_count": 16,
   "metadata": {},
   "outputs": [
    {
     "data": {
      "text/plain": [
       "<matplotlib.image.AxesImage at 0x7ff5f410ccd0>"
      ]
     },
     "execution_count": 16,
     "metadata": {},
     "output_type": "execute_result"
    },
    {
     "data": {
      "image/png": "[encoded data removed]",
      "text/plain": [
       "<Figure size 432x288 with 1 Axes>"
      ]
     },
     "metadata": {
      "needs_background": "light"
     },
     "output_type": "display_data"
    }
   ],
   "source": [
    "plt.imshow(down_data[:,:,10])\n"
   ]
  },
  {
   "cell_type": "code",
   "execution_count": 17,
   "metadata": {},
   "outputs": [
    {
     "data": {
      "text/plain": [
       "<matplotlib.image.AxesImage at 0x7ff5f4083400>"
      ]
     },
     "execution_count": 17,
     "metadata": {},
     "output_type": "execute_result"
    },
    {
     "data": {
      "image/png": "[encoded data removed]",
      "text/plain": [
       "<Figure size 432x288 with 1 Axes>"
      ]
     },
     "metadata": {
      "needs_background": "light"
     },
     "output_type": "display_data"
    }
   ],
   "source": [
    "plt.imshow(sol[:,:,10])"
   ]
  },
  {
   "cell_type": "code",
   "execution_count": 40,
   "metadata": {},
   "outputs": [
    {
     "data": {
      "text/plain": [
       "<matplotlib.image.AxesImage at 0x7ff5f027f1c0>"
      ]
     },
     "execution_count": 40,
     "metadata": {},
     "output_type": "execute_result"
    },
    {
     "data": {
      "image/png": "[encoded data removed]",
      "text/plain": [
       "<Figure size 432x288 with 1 Axes>"
      ]
     },
     "metadata": {
      "needs_background": "light"
     },
     "output_type": "display_data"
    }
   ],
   "source": [
    "plt.imshow(ux[:,:,40])"
   ]
  },
  {
   "cell_type": "code",
   "execution_count": 37,
   "metadata": {},
   "outputs": [
    {
     "data": {
      "text/plain": [
       "[<matplotlib.lines.Line2D at 0x7ff5f03e4d90>]"
      ]
     },
     "execution_count": 37,
     "metadata": {},
     "output_type": "execute_result"
    },
    {
     "data": {
      "image/png": "[encoded data removed]",
      "text/plain": [
       "<Figure size 432x288 with 1 Axes>"
      ]
     },
     "metadata": {
      "needs_background": "light"
     },
     "output_type": "display_data"
    }
   ],
   "source": [
    "plt.plot(sol[:,20,5],'o-')\n",
    "plt.plot(down_data[:,20,5],'o-')"
   ]
  },
  {
   "cell_type": "code",
   "execution_count": 48,
   "metadata": {},
   "outputs": [
    {
     "data": {
      "text/plain": [
       "[<matplotlib.lines.Line2D at 0x7ff5f0231310>]"
      ]
     },
     "execution_count": 48,
     "metadata": {},
     "output_type": "execute_result"
    },
    {
     "data": {
      "image/png": "[encoded data removed]",
      "text/plain": [
       "<Figure size 432x288 with 1 Axes>"
      ]
     },
     "metadata": {
      "needs_background": "light"
     },
     "output_type": "display_data"
    }
   ],
   "source": [
    "plt.plot(fd_spline(sol[:,20,5],x),'o-')"
   ]
  },
  {
   "cell_type": "code",
   "execution_count": 52,
   "metadata": {},
   "outputs": [
    {
     "data": {
      "text/plain": [
       "[<matplotlib.lines.Line2D at 0x7ff5f00c1700>]"
      ]
     },
     "execution_count": 52,
     "metadata": {},
     "output_type": "execute_result"
    },
    {
     "data": {
      "image/png": "[encoded data removed]",
      "text/plain": [
       "<Figure size 432x288 with 1 Axes>"
      ]
     },
     "metadata": {
      "needs_background": "light"
     },
     "output_type": "display_data"
    }
   ],
   "source": [
    "plt.plot(x,uy[20,:,2]*np.max(down_data)/np.max(y_grid),'g', label='x = 5',linewidth=3)\n",
    "plt.plot(x,fd_spline(sol[20,:,2],x),'o-')\n",
    "\n",
    "plt.plot(x,uy[20,:,10]*np.max(down_data)/np.max(y_grid),'g', label='x = 5',linewidth=3)\n",
    "plt.plot(x,fd_spline(sol[20,:,10],x),'o-')"
   ]
  },
  {
   "cell_type": "code",
   "execution_count": null,
   "metadata": {},
   "outputs": [],
   "source": [
    "plt.plot(x,uy[20,:,2]*np.max(down_data)/np.max(y_grid),'g', label='x = 5',linewidth=3)\n",
    "plt.plot(x,fd_spline(sol[20,:,2],x),'o-')"
   ]
  },
  {
   "cell_type": "code",
   "execution_count": 33,
   "metadata": {},
   "outputs": [
    {
     "data": {
      "text/plain": [
       "[<matplotlib.lines.Line2D at 0x7ff5f04d8220>]"
      ]
     },
     "execution_count": 33,
     "metadata": {},
     "output_type": "execute_result"
    },
    {
     "data": {
      "image/png": "[encoded data removed]",
      "text/plain": [
       "<Figure size 432x288 with 1 Axes>"
      ]
     },
     "metadata": {
      "needs_background": "light"
     },
     "output_type": "display_data"
    }
   ],
   "source": [
    "plt.plot(ux[:,5,10])\n",
    "plt.plot(fd_spline(down_data[:,5,10],x))"
   ]
  },
  {
   "cell_type": "code",
   "execution_count": 14,
   "metadata": {},
   "outputs": [
    {
     "data": {
      "text/plain": [
       "<matplotlib.legend.Legend at 0x7ff5f41e5a90>"
      ]
     },
     "execution_count": 14,
     "metadata": {},
     "output_type": "execute_result"
    },
    {
     "data": {
      "image/png": "[encoded data removed]",
      "text/plain": [
       "<Figure size 432x288 with 1 Axes>"
      ]
     },
     "metadata": {
      "needs_background": "light"
     },
     "output_type": "display_data"
    }
   ],
   "source": [
    "y = down_data[10,:,1]\n",
    "x = y_arr\n",
    "plt.plot(x,y, 'bo--')\n",
    "plt.plot(x,sol[10,:,1]*np.max(down_data),'b', label='t = 1',linewidth=3)\n",
    "y = down_data[10,:,2]\n",
    "x = y_arr\n",
    "plt.plot(x,y, 'go--')\n",
    "plt.plot(x,sol[10,:,2]*np.max(down_data),'g', label='t = 5',linewidth=3)\n",
    "y = down_data[10,:,4]\n",
    "x = y_arr\n",
    "plt.plot(x,y, 'ro--')\n",
    "plt.plot(x,sol[10,:,4]*np.max(down_data),'r', label='t = 10',linewidth=3)\n",
    "plt.legend()"
   ]
  },
  {
   "cell_type": "code",
   "execution_count": 17,
   "metadata": {},
   "outputs": [
    {
     "data": {
      "text/plain": [
       "<matplotlib.legend.Legend at 0x7f79d7ff6130>"
      ]
     },
     "execution_count": 17,
     "metadata": {},
     "output_type": "execute_result"
    },
    {
     "data": {
      "image/png": "[encoded data removed]",
      "text/plain": [
       "<Figure size 432x288 with 1 Axes>"
      ]
     },
     "metadata": {
      "needs_background": "light"
     },
     "output_type": "display_data"
    }
   ],
   "source": [
    "y = down_data[7,:,1]\n",
    "x = y_arr\n",
    "plt.plot(x,fd_sg(y,x), 'bo--')\n",
    "plt.plot(x,uy[7,:,1]*np.max(down_data)/np.max(y_grid),'b', label='x = 1',linewidth=3)\n",
    "y = down_data[7,:,2]\n",
    "x = y_arr\n",
    "plt.plot(x,fd_sg(y,x), 'go--')\n",
    "plt.plot(x,uy[7,:,2]*np.max(down_data)/np.max(y_grid),'g', label='x = 5',linewidth=3)\n",
    "y = down_data[7,:,4]\n",
    "x = y_arr\n",
    "plt.plot(x,fd_sg(y,x), 'ro--')\n",
    "plt.plot(x,uy[7,:,4]*np.max(down_data)/np.max(y_grid),'r', label='x = 10',linewidth=3)\n",
    "plt.legend()"
   ]
  },
  {
   "cell_type": "code",
   "execution_count": 39,
   "metadata": {},
   "outputs": [
    {
     "data": {
      "text/plain": [
       "<matplotlib.legend.Legend at 0x7f8ed3551100>"
      ]
     },
     "execution_count": 39,
     "metadata": {},
     "output_type": "execute_result"
    },
    {
     "data": {
      "image/png": "[encoded data removed]",
      "text/plain": [
       "<Figure size 432x288 with 1 Axes>"
      ]
     },
     "metadata": {
      "needs_background": "light"
     },
     "output_type": "display_data"
    }
   ],
   "source": [
    "y = down_data[7,:,1]\n",
    "x = y_arr\n",
    "plt.plot(x,fd_sg(fd_sg(y,x)), 'bo--')\n",
    "plt.plot(x,uyy[7,:,1]*np.max(down_data)/(np.max(y_grid)*np.max(y_grid)),'b',label='x = 1',linewidth=3)\n",
    "y = down_data[7,:,2]\n",
    "x = y_arr\n",
    "plt.plot(x,fd_sg(fd_sg(y,x)), 'go--')\n",
    "plt.plot(x,uyy[7,:,2]*np.max(down_data)/(np.max(y_grid)*np.max(y_grid)),'g',label='x = 5',linewidth=3)\n",
    "y = down_data[7,:,4]\n",
    "x = y_arr\n",
    "plt.plot(x,fd_sg(fd_sg(y,x)), 'ro--')\n",
    "plt.plot(x,uyy[7,:,4]*np.max(down_data)/(np.max(y_grid)*np.max(y_grid)),'r',label='x = 10',linewidth=3)\n",
    "plt.ylim(-10,10)\n",
    "plt.legend()"
   ]
  },
  {
   "cell_type": "code",
   "execution_count": 42,
   "metadata": {},
   "outputs": [
    {
     "data": {
      "text/plain": [
       "<matplotlib.image.AxesImage at 0x7f8ed33fe880>"
      ]
     },
     "execution_count": 42,
     "metadata": {},
     "output_type": "execute_result"
    },
    {
     "data": {
      "image/png": "[encoded data removed]",
      "text/plain": [
       "<Figure size 1080x360 with 3 Axes>"
      ]
     },
     "metadata": {
      "needs_background": "light"
     },
     "output_type": "display_data"
    }
   ],
   "source": [
    "fig = plt.figure(figsize=(15,5))\n",
    "\n",
    "plt.subplot(1,3, 1)\n",
    "plt.imshow(sol[:,:,1], aspect=0.5)\n",
    "\n",
    "plt.subplot(1,3, 2)\n",
    "plt.imshow(sol[:,:,10], aspect=0.5)\n",
    "\n",
    "plt.subplot(1,3, 3)\n",
    "plt.imshow(sol[:,:,19], aspect=0.5)\n",
    "\n",
    "\n",
    "#plt.savefig('reconstruction.pdf')"
   ]
  }
 ],
 "metadata": {
  "kernelspec": {
   "display_name": "Python 3",
   "language": "python",
   "name": "python3"
  },
  "language_info": {
   "codemirror_mode": {
    "name": "ipython",
    "version": 3
   },
   "file_extension": ".py",
   "mimetype": "text/x-python",
   "name": "python",
   "nbconvert_exporter": "python",
   "pygments_lexer": "ipython3",
   "version": "3.8.3"
  }
 },
 "nbformat": 4,
 "nbformat_minor": 4
}
