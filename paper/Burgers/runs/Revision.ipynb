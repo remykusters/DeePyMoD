{
 "cells": [
  {
   "cell_type": "code",
   "execution_count": 1,
   "metadata": {},
   "outputs": [],
   "source": [
    "# Generalimports\n",
    "import numpy as np\n",
    "import torch\n",
    "\n",
    "# DeepMoD functions\n",
    "\n",
    "from deepymod import DeepMoD\n",
    "from deepymod.model.func_approx import NN, Siren\n",
    "from deepymod.model.constraint import LeastSquares\n",
    "from deepymod.model.sparse_estimators import Threshold,PDEFIND\n",
    "from deepymod.training import train\n",
    "from deepymod.training.sparsity_scheduler import TrainTestPeriodic\n",
    "from deepymod.analysis import load_tensorboard\n",
    "from scipy.io import loadmat\n",
    "\n",
    "import matplotlib.pyplot as plt\n",
    "from matplotlib.gridspec import GridSpec\n",
    "\n",
    "# Settings for reproducibility\n",
    "np.random.seed(40)\n",
    "torch.manual_seed(0)\n",
    "\n",
    "\n",
    "%load_ext autoreload\n",
    "%autoreload 2\n"
   ]
  },
  {
   "cell_type": "code",
   "execution_count": 2,
   "metadata": {},
   "outputs": [],
   "source": [
    "df = load_tensorboard('revision_random_grid_20noise_0')"
   ]
  },
  {
   "cell_type": "code",
   "execution_count": 3,
   "metadata": {},
   "outputs": [
    {
     "data": {
      "text/plain": [
       "[<matplotlib.lines.Line2D at 0x7f58d09a3880>]"
      ]
     },
     "execution_count": 3,
     "metadata": {},
     "output_type": "execute_result"
    },
    {
     "data": {
      "image/png": "[encoded data removed]",
      "text/plain": [
       "<Figure size 432x288 with 1 Axes>"
      ]
     },
     "metadata": {
      "needs_background": "light"
     },
     "output_type": "display_data"
    }
   ],
   "source": [
    "plt.plot(df['loss_loss'])"
   ]
  },
  {
   "cell_type": "code",
   "execution_count": 4,
   "metadata": {},
   "outputs": [
    {
     "data": {
      "text/plain": [
       "0       0.344741\n",
       "25     -0.337944\n",
       "50      0.000000\n",
       "75      0.761838\n",
       "100     0.407020\n",
       "125     0.000000\n",
       "150     0.000000\n",
       "175     0.000000\n",
       "200     0.000000\n",
       "225     0.000000\n",
       "250     0.000000\n",
       "275     0.000000\n",
       "300     0.000000\n",
       "325     0.000000\n",
       "350     0.000000\n",
       "375     0.000000\n",
       "400     0.000000\n",
       "425     0.000000\n",
       "450     0.000000\n",
       "475     0.000000\n",
       "500     0.000000\n",
       "525     0.000000\n",
       "550     0.000000\n",
       "575     0.000000\n",
       "600     0.000000\n",
       "625     0.000000\n",
       "650     0.000000\n",
       "675     0.000000\n",
       "700     0.000000\n",
       "725     0.000000\n",
       "750     0.000000\n",
       "775     0.000000\n",
       "800     0.000000\n",
       "825     0.000000\n",
       "850     0.000000\n",
       "875     0.000000\n",
       "900     0.000000\n",
       "925     0.000000\n",
       "950     0.000000\n",
       "975     0.000000\n",
       "1000    0.000000\n",
       "1025    0.000000\n",
       "1050    0.000000\n",
       "1075    0.000000\n",
       "1100    0.000000\n",
       "1125    0.000000\n",
       "1150    0.000000\n",
       "1175    0.000000\n",
       "1200    0.000000\n",
       "1225    0.000000\n",
       "Name: estimator_coeffs_output_0_coeff_0, dtype: float64"
      ]
     },
     "execution_count": 4,
     "metadata": {},
     "output_type": "execute_result"
    }
   ],
   "source": [
    "df['estimator_coeffs_output_0_coeff_0'].head(50)"
   ]
  },
  {
   "cell_type": "code",
   "execution_count": 37,
   "metadata": {},
   "outputs": [
    {
     "data": {
      "text/plain": [
       "25      -0.733020\n",
       "50       0.356527\n",
       "125     -0.168961\n",
       "150     -0.324764\n",
       "175     -0.326644\n",
       "           ...   \n",
       "18000    0.000000\n",
       "18025    0.000000\n",
       "18050    0.000000\n",
       "18075    0.000000\n",
       "18100    0.000000\n",
       "Name: coeffs_output_0_coeff_0, Length: 722, dtype: float64"
      ]
     },
     "execution_count": 37,
     "metadata": {},
     "output_type": "execute_result"
    }
   ],
   "source": [
    "df[df['estimator_coeffs_output_0_coeff_0']<0.000001]['coeffs_output_0_coeff_'+str(0)]"
   ]
  },
  {
   "cell_type": "code",
   "execution_count": 33,
   "metadata": {},
   "outputs": [],
   "source": [
    "xi = np.array([df[df['estimator_coeffs_output_0_coeff_1']==0]['coeffs_output_0_coeff_'+str(i)].iloc[0] for i in np.arange(0,12)])\n"
   ]
  },
  {
   "cell_type": "code",
   "execution_count": 34,
   "metadata": {},
   "outputs": [
    {
     "data": {
      "text/plain": [
       "array([ 0.35652745, -1.08398628, -1.39453781,  1.7679441 ,  2.61563349,\n",
       "        5.15016603,  0.93987882, -0.93987548, -3.12658954, -2.97117281,\n",
       "       -0.57018113, -0.10042834])"
      ]
     },
     "execution_count": 34,
     "metadata": {},
     "output_type": "execute_result"
    }
   ],
   "source": [
    "xi"
   ]
  },
  {
   "cell_type": "code",
   "execution_count": null,
   "metadata": {},
   "outputs": [],
   "source": []
  }
 ],
 "metadata": {
  "kernelspec": {
   "display_name": "Python 3",
   "language": "python",
   "name": "python3"
  },
  "language_info": {
   "codemirror_mode": {
    "name": "ipython",
    "version": 3
   },
   "file_extension": ".py",
   "mimetype": "text/x-python",
   "name": "python",
   "nbconvert_exporter": "python",
   "pygments_lexer": "ipython3",
   "version": "3.8.3"
  }
 },
 "nbformat": 4,
 "nbformat_minor": 4
}
