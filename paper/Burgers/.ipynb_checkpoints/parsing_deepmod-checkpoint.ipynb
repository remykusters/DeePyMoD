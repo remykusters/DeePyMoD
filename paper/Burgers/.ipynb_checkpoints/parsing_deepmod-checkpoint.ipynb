{
 "cells": [
  {
   "cell_type": "markdown",
   "metadata": {},
   "source": [
    "In this notebook we parse deepmod data into a nice dataframe."
   ]
  },
  {
   "cell_type": "code",
   "execution_count": 114,
   "metadata": {},
   "outputs": [],
   "source": [
    "# DeepMoD stuff\n",
    "import torch\n",
    "from deepymod import DeepMoD\n",
    "from deepymod.model.func_approx import NN\n",
    "from deepymod.model.library import Library1D\n",
    "from deepymod.model.constraint import LeastSquares\n",
    "from deepymod.model.sparse_estimators import Threshold\n",
    "from deepymod.analysis import load_tensorboard\n",
    "from deepymod.data import Dataset\n",
    "from deepymod.data.burgers import BurgersDelta\n",
    "\n",
    "from natsort import natsorted\n",
    "from os import listdir, path\n",
    "import pandas as pd\n",
    "import numpy as np\n",
    "\n",
    "import seaborn as sns\n",
    "import matplotlib.pyplot as plt"
   ]
  },
  {
   "cell_type": "code",
   "execution_count": 115,
   "metadata": {},
   "outputs": [],
   "source": [
    "def correct_eq(found_coeffs):\n",
    "    # Correct coeffs for burgers\n",
    "    correct_coeffs = np.zeros((12, 1))\n",
    "    correct_coeffs[[2, 5]] = 1.0\n",
    "\n",
    "    n_active_terms_incorrect = np.sum(found_coeffs[correct_coeffs != 0.0] == 0)\n",
    "    n_inactive_terms_incorrect = np.sum(found_coeffs[correct_coeffs == 0.0] != 0)\n",
    "    if n_active_terms_incorrect + n_inactive_terms_incorrect > 0:\n",
    "        correct = False\n",
    "    else:\n",
    "        correct = True\n",
    "    return correct"
   ]
  },
  {
   "cell_type": "code",
   "execution_count": 116,
   "metadata": {},
   "outputs": [],
   "source": [
    "# Getting deepmod data\n",
    "data_folder = 'runs/full_random_results/'\n",
    "identifier = 'rand'\n",
    "\n",
    "v=0.25\n",
    "dataset = Dataset(BurgersDelta, A=1, v=v)\n",
    "df = pd.DataFrame()\n",
    "df['model'] = [key for key in natsorted(listdir(data_folder)) if (key[-3:]!= '.pt') if key.find(identifier) != -1 if key.find('nt') == -1]\n"
   ]
  },
  {
   "cell_type": "code",
   "execution_count": 117,
   "metadata": {},
   "outputs": [],
   "source": [
    "#df['n_x'] = [int(row.model.split('_')[2][:]) for idx, row in df.iterrows()]\n",
    "df['n_x'] = [int(row.model[4:]) for idx, row in df.iterrows()]\n",
    "df['n_t'] = 100"
   ]
  },
  {
   "cell_type": "code",
   "execution_count": 118,
   "metadata": {},
   "outputs": [
    {
     "data": {
      "text/html": [
       "<div>\n",
       "<style scoped>\n",
       "    .dataframe tbody tr th:only-of-type {\n",
       "        vertical-align: middle;\n",
       "    }\n",
       "\n",
       "    .dataframe tbody tr th {\n",
       "        vertical-align: top;\n",
       "    }\n",
       "\n",
       "    .dataframe thead th {\n",
       "        text-align: right;\n",
       "    }\n",
       "</style>\n",
       "<table border=\"1\" class=\"dataframe\">\n",
       "  <thead>\n",
       "    <tr style=\"text-align: right;\">\n",
       "      <th></th>\n",
       "      <th>model</th>\n",
       "      <th>n_x</th>\n",
       "      <th>n_t</th>\n",
       "    </tr>\n",
       "  </thead>\n",
       "  <tbody>\n",
       "    <tr>\n",
       "      <th>0</th>\n",
       "      <td>rand2</td>\n",
       "      <td>2</td>\n",
       "      <td>100</td>\n",
       "    </tr>\n",
       "    <tr>\n",
       "      <th>1</th>\n",
       "      <td>rand4</td>\n",
       "      <td>4</td>\n",
       "      <td>100</td>\n",
       "    </tr>\n",
       "    <tr>\n",
       "      <th>2</th>\n",
       "      <td>rand6</td>\n",
       "      <td>6</td>\n",
       "      <td>100</td>\n",
       "    </tr>\n",
       "    <tr>\n",
       "      <th>3</th>\n",
       "      <td>rand8</td>\n",
       "      <td>8</td>\n",
       "      <td>100</td>\n",
       "    </tr>\n",
       "    <tr>\n",
       "      <th>4</th>\n",
       "      <td>rand10</td>\n",
       "      <td>10</td>\n",
       "      <td>100</td>\n",
       "    </tr>\n",
       "    <tr>\n",
       "      <th>5</th>\n",
       "      <td>rand12</td>\n",
       "      <td>12</td>\n",
       "      <td>100</td>\n",
       "    </tr>\n",
       "    <tr>\n",
       "      <th>6</th>\n",
       "      <td>rand14</td>\n",
       "      <td>14</td>\n",
       "      <td>100</td>\n",
       "    </tr>\n",
       "    <tr>\n",
       "      <th>7</th>\n",
       "      <td>rand16</td>\n",
       "      <td>16</td>\n",
       "      <td>100</td>\n",
       "    </tr>\n",
       "    <tr>\n",
       "      <th>8</th>\n",
       "      <td>rand20</td>\n",
       "      <td>20</td>\n",
       "      <td>100</td>\n",
       "    </tr>\n",
       "    <tr>\n",
       "      <th>9</th>\n",
       "      <td>rand25</td>\n",
       "      <td>25</td>\n",
       "      <td>100</td>\n",
       "    </tr>\n",
       "    <tr>\n",
       "      <th>10</th>\n",
       "      <td>rand30</td>\n",
       "      <td>30</td>\n",
       "      <td>100</td>\n",
       "    </tr>\n",
       "  </tbody>\n",
       "</table>\n",
       "</div>"
      ],
      "text/plain": [
       "     model  n_x  n_t\n",
       "0    rand2    2  100\n",
       "1    rand4    4  100\n",
       "2    rand6    6  100\n",
       "3    rand8    8  100\n",
       "4   rand10   10  100\n",
       "5   rand12   12  100\n",
       "6   rand14   14  100\n",
       "7   rand16   16  100\n",
       "8   rand20   20  100\n",
       "9   rand25   25  100\n",
       "10  rand30   30  100"
      ]
     },
     "execution_count": 118,
     "metadata": {},
     "output_type": "execute_result"
    }
   ],
   "source": [
    "df"
   ]
  },
  {
   "cell_type": "code",
   "execution_count": 119,
   "metadata": {},
   "outputs": [],
   "source": [
    "# Adding grids\n",
    "df['x'] = [np.linspace(-4, 4, row.n_x) for idx, row in df.iterrows()]\n",
    "df['t'] = [np.linspace(0.1, 1.1, row.n_t) for idx, row in df.iterrows()]\n",
    "df['t_grid'] = [np.meshgrid(row.t, row.x, indexing='ij')[0] for idx, row in df.iterrows()]\n",
    "df['x_grid'] = [np.meshgrid(row.t, row.x, indexing='ij')[1] for idx, row in df.iterrows()]"
   ]
  },
  {
   "cell_type": "code",
   "execution_count": 120,
   "metadata": {},
   "outputs": [],
   "source": [
    "# Calculating true derivatives\n",
    "df['u_t'] = [dataset.time_deriv(row.x_grid, row.t_grid).reshape(row.x_grid.shape) for idx, row in df.iterrows()]\n",
    "df['u_x'] = [dataset.library(row.x_grid.reshape(-1, 1), row.t_grid.reshape(-1, 1), poly_order=2, deriv_order=3)[:, 1].reshape(row.x_grid.shape) for idx, row in df.iterrows()]\n",
    "df['u_xx'] = [dataset.library(row.x_grid.reshape(-1, 1), row.t_grid.reshape(-1, 1), poly_order=2, deriv_order=3)[:, 2].reshape(row.x_grid.shape) for idx, row in df.iterrows()]\n",
    "df['u_xxx'] = [dataset.library(row.x_grid.reshape(-1, 1), row.t_grid.reshape(-1, 1), poly_order=2, deriv_order=3)[:, 3].reshape(row.x_grid.shape) for idx, row in df.iterrows()]\n",
    "\n",
    "# Calculating normalizing properties\n",
    "df['l'] = [np.sqrt(4 * v * row.t)[:, None] for idx, row in df.iterrows()]\n",
    "df['dz'] = [(np.ones_like(row.t)[:, None] * np.diff(row.x)[0] / row.l) for idx, row in df.iterrows()]\n",
    "df['u0'] = [np.sqrt(v / (np.pi * row.t))[:, None] for idx, row in df.iterrows()]"
   ]
  },
  {
   "cell_type": "code",
   "execution_count": 121,
   "metadata": {},
   "outputs": [],
   "source": [
    "# Loading data\n",
    "deepmod_data = [load_tensorboard(path.join(data_folder, row.model)) for idx, row in df.iterrows()]\n",
    "coeff_keys = natsorted([key for key in deepmod_data[0].keys() if key[:9] == 'estimator'])"
   ]
  },
  {
   "cell_type": "code",
   "execution_count": 122,
   "metadata": {},
   "outputs": [],
   "source": [
    "# Checking if correct\n",
    "df['correct'] = np.stack([correct_eq(data.tail(1)[coeff_keys].to_numpy().T) for data in deepmod_data], axis=-1)\n",
    "df['coeffs'] = [data.tail(1)[coeff_keys].to_numpy().T for data in deepmod_data]"
   ]
  },
  {
   "cell_type": "code",
   "execution_count": 123,
   "metadata": {},
   "outputs": [],
   "source": [
    "# Loading final MSE error\n",
    "df['test_error'] = [data.tail(1)['remaining_MSE_test'].item() for data in deepmod_data]"
   ]
  },
  {
   "cell_type": "code",
   "execution_count": 124,
   "metadata": {},
   "outputs": [],
   "source": [
    "# Loading different models and getting stuff out\n",
    "network = NN(2, [30, 30, 30, 30], 1)\n",
    "library = Library1D(poly_order=2, diff_order=3) # Library function\n",
    "estimator = Threshold(0.2) # Sparse estimator \n",
    "constraint = LeastSquares() # How to constrain\n",
    "model = DeepMoD(network, library, estimator, constraint) # Putting it all in the model\n",
    "\n",
    "dt = []\n",
    "dx = []\n",
    "d2x = []\n",
    "d3x = []\n",
    "trained_model = [i for i in listdir(data_folder) if i[-4:] == 'l.pt']"
   ]
  },
  {
   "cell_type": "code",
   "execution_count": 125,
   "metadata": {},
   "outputs": [],
   "source": [
    "for idx, row in df.iterrows():\n",
    "    trained_model = path.join(data_folder,df.model[idx]+'model.pt')\n",
    "    model.load_state_dict(torch.load(trained_model))\n",
    "    X = torch.tensor(np.concatenate((row.t_grid.reshape(-1, 1), row.x_grid.reshape(-1, 1)), axis=1), dtype=torch.float32)\n",
    "    prediction, time_deriv, theta = model(X)\n",
    "    time_deriv = time_deriv[0].cpu().detach().numpy()\n",
    "    theta = theta[0].cpu().detach().numpy()\n",
    "    \n",
    "    dt.append(time_deriv.reshape(row.t_grid.shape))\n",
    "    dx.append(theta[:, 1].reshape(row.t_grid.shape))\n",
    "    d2x.append(theta[:, 2].reshape(row.t_grid.shape))\n",
    "    d3x.append(theta[:, 3].reshape(row.t_grid.shape))"
   ]
  },
  {
   "cell_type": "code",
   "execution_count": 126,
   "metadata": {},
   "outputs": [],
   "source": [
    "df['u_t_deepmod'] = dt\n",
    "df['u_x_deepmod'] = dx\n",
    "df['u_xx_deepmod'] = d2x\n",
    "df['u_xxx_deepmod'] = d3x"
   ]
  },
  {
   "cell_type": "code",
   "execution_count": 127,
   "metadata": {},
   "outputs": [],
   "source": [
    "# Calculating errors\n",
    "df['u_t_error'] = [np.mean(np.abs(row.u_t - row.u_t_deepmod) * (row.l**0 / row.u0), axis=1) for idx, row in df.iterrows()]\n",
    "df['u_x_error'] = [np.mean(np.abs(row.u_x - row.u_x_deepmod) * (row.l**1 / row.u0), axis=1) for idx, row in df.iterrows()]\n",
    "df['u_xx_error'] = [np.mean(np.abs(row.u_xx - row.u_xx_deepmod) * (row.l**2 / row.u0), axis=1) for idx, row in df.iterrows()]\n",
    "df['u_xxx_error'] = [np.mean(np.abs(row.u_xxx - row.u_xxx_deepmod) * (row.l**3 / row.u0), axis=1) for idx, row in df.iterrows()]\n",
    "\n",
    "# Making some composite errors\n",
    "df['full_error'] = [(np.mean(np.abs((row.u_t - row.u_t_deepmod) / np.linalg.norm(row.u_t, axis=1, keepdims=True)) , axis=1) \n",
    "                    + np.mean(np.abs((row.u_x - row.u_x_deepmod) / np.linalg.norm(row.u_x, axis=1, keepdims=True)) , axis=1)\n",
    "                    + np.mean(np.abs((row.u_xx - row.u_xx_deepmod) / np.linalg.norm(row.u_xx, axis=1, keepdims=True)) , axis=1)\n",
    "                    + np.mean(np.abs((row.u_xxx - row.u_xxx_deepmod) / np.linalg.norm(row.u_xxx, axis=1, keepdims=True)) , axis=1)) \n",
    "                    for idx, row in df.iterrows()]\n",
    "df['deriv_error'] = [(np.mean(np.abs((row.u_x - row.u_x_deepmod) / np.linalg.norm(row.u_x, axis=1, keepdims=True)) , axis=1)\n",
    "                    + np.mean(np.abs((row.u_xx - row.u_xx_deepmod) / np.linalg.norm(row.u_xx, axis=1, keepdims=True)) , axis=1)\n",
    "                    + np.mean(np.abs((row.u_xxx - row.u_xxx_deepmod) / np.linalg.norm(row.u_xxx, axis=1, keepdims=True)) , axis=1)) \n",
    "                    for idx, row in df.iterrows()]"
   ]
  },
  {
   "cell_type": "code",
   "execution_count": 128,
   "metadata": {},
   "outputs": [],
   "source": [
    "df.to_pickle('full_random.pd')"
   ]
  },
  {
   "cell_type": "code",
   "execution_count": 346,
   "metadata": {},
   "outputs": [
    {
     "data": {
      "text/plain": [
       "1.279505004719003"
      ]
     },
     "execution_count": 346,
     "metadata": {},
     "output_type": "execute_result"
    }
   ],
   "source": [
    "np.mean(df.deriv_error[0])"
   ]
  },
  {
   "cell_type": "markdown",
   "metadata": {},
   "source": [
    "# Deepmod 2D"
   ]
  },
  {
   "cell_type": "code",
   "execution_count": 323,
   "metadata": {},
   "outputs": [],
   "source": [
    "# Getting deepmod data\n",
    "data_folder = 'runs/'\n",
    "identifier = 'noiseless'\n",
    "\n",
    "v=0.25\n",
    "dataset = Dataset(BurgersDelta, A=1, v=v)\n",
    "df = pd.DataFrame()\n",
    "#df['model'] = [key for key in natsorted(listdir(data_folder)) if key[-3:]!= '.pt' and key.find(identifier) != -1 if key.find('nt') != -1]\n",
    "df['model'] = [key for key in natsorted(listdir(data_folder)) if key[-3:]!= '.pt' and key.find(identifier) == -1 if key.find('nt') != -1]"
   ]
  },
  {
   "cell_type": "code",
   "execution_count": 326,
   "metadata": {},
   "outputs": [],
   "source": [
    "# Adding grid data\n",
    "df['n_x'] = [int(row.model.split('_')[3]) for idx, row in df.iterrows()]\n",
    "df['n_t'] = [int(row.model.split('_')[5]) for idx, row in df.iterrows()]\n",
    "df['run'] = [int(row.model.split('_')[7]) for idx, row in df.iterrows()]"
   ]
  },
  {
   "cell_type": "code",
   "execution_count": 327,
   "metadata": {},
   "outputs": [
    {
     "data": {
      "text/html": [
       "<div>\n",
       "<style scoped>\n",
       "    .dataframe tbody tr th:only-of-type {\n",
       "        vertical-align: middle;\n",
       "    }\n",
       "\n",
       "    .dataframe tbody tr th {\n",
       "        vertical-align: top;\n",
       "    }\n",
       "\n",
       "    .dataframe thead th {\n",
       "        text-align: right;\n",
       "    }\n",
       "</style>\n",
       "<table border=\"1\" class=\"dataframe\">\n",
       "  <thead>\n",
       "    <tr style=\"text-align: right;\">\n",
       "      <th></th>\n",
       "      <th>model</th>\n",
       "      <th>n_x</th>\n",
       "      <th>n_t</th>\n",
       "      <th>run</th>\n",
       "    </tr>\n",
       "  </thead>\n",
       "  <tbody>\n",
       "    <tr>\n",
       "      <th>0</th>\n",
       "      <td>Nov17_21-32-35_workstationgjnx_10_nt_10_run_0</td>\n",
       "      <td>10</td>\n",
       "      <td>10</td>\n",
       "      <td>0</td>\n",
       "    </tr>\n",
       "    <tr>\n",
       "      <th>1</th>\n",
       "      <td>Nov17_21-33-48_workstationgjnx_10_nt_15_run_0</td>\n",
       "      <td>10</td>\n",
       "      <td>15</td>\n",
       "      <td>0</td>\n",
       "    </tr>\n",
       "    <tr>\n",
       "      <th>2</th>\n",
       "      <td>Nov17_21-35-38_workstationgjnx_10_nt_20_run_0</td>\n",
       "      <td>10</td>\n",
       "      <td>20</td>\n",
       "      <td>0</td>\n",
       "    </tr>\n",
       "    <tr>\n",
       "      <th>3</th>\n",
       "      <td>Nov17_21-37-09_workstationgjnx_10_nt_25_run_0</td>\n",
       "      <td>10</td>\n",
       "      <td>25</td>\n",
       "      <td>0</td>\n",
       "    </tr>\n",
       "    <tr>\n",
       "      <th>4</th>\n",
       "      <td>Nov17_21-51-52_workstationgjnx_10_nt_30_run_0</td>\n",
       "      <td>10</td>\n",
       "      <td>30</td>\n",
       "      <td>0</td>\n",
       "    </tr>\n",
       "    <tr>\n",
       "      <th>5</th>\n",
       "      <td>Nov17_21-57-24_workstationgjnx_15_nt_10_run_0</td>\n",
       "      <td>15</td>\n",
       "      <td>10</td>\n",
       "      <td>0</td>\n",
       "    </tr>\n",
       "    <tr>\n",
       "      <th>6</th>\n",
       "      <td>Nov17_22-17-51_workstationgjnx_15_nt_15_run_0</td>\n",
       "      <td>15</td>\n",
       "      <td>15</td>\n",
       "      <td>0</td>\n",
       "    </tr>\n",
       "    <tr>\n",
       "      <th>7</th>\n",
       "      <td>Nov17_22-41-07_workstationgjnx_15_nt_20_run_0</td>\n",
       "      <td>15</td>\n",
       "      <td>20</td>\n",
       "      <td>0</td>\n",
       "    </tr>\n",
       "    <tr>\n",
       "      <th>8</th>\n",
       "      <td>Nov17_23-29-19_workstationgjnx_15_nt_25_run_0</td>\n",
       "      <td>15</td>\n",
       "      <td>25</td>\n",
       "      <td>0</td>\n",
       "    </tr>\n",
       "    <tr>\n",
       "      <th>9</th>\n",
       "      <td>Nov18_00-22-08_workstationgjnx_15_nt_30_run_0</td>\n",
       "      <td>15</td>\n",
       "      <td>30</td>\n",
       "      <td>0</td>\n",
       "    </tr>\n",
       "    <tr>\n",
       "      <th>10</th>\n",
       "      <td>Nov18_01-23-16_workstationgjnx_20_nt_10_run_0</td>\n",
       "      <td>20</td>\n",
       "      <td>10</td>\n",
       "      <td>0</td>\n",
       "    </tr>\n",
       "    <tr>\n",
       "      <th>11</th>\n",
       "      <td>Nov18_01-51-16_workstationgjnx_20_nt_15_run_0</td>\n",
       "      <td>20</td>\n",
       "      <td>15</td>\n",
       "      <td>0</td>\n",
       "    </tr>\n",
       "    <tr>\n",
       "      <th>12</th>\n",
       "      <td>Nov18_02-37-39_workstationgjnx_20_nt_20_run_0</td>\n",
       "      <td>20</td>\n",
       "      <td>20</td>\n",
       "      <td>0</td>\n",
       "    </tr>\n",
       "    <tr>\n",
       "      <th>13</th>\n",
       "      <td>Nov18_02-54-59_workstationgjnx_20_nt_25_run_0</td>\n",
       "      <td>20</td>\n",
       "      <td>25</td>\n",
       "      <td>0</td>\n",
       "    </tr>\n",
       "    <tr>\n",
       "      <th>14</th>\n",
       "      <td>Nov18_03-31-13_workstationgjnx_20_nt_30_run_0</td>\n",
       "      <td>20</td>\n",
       "      <td>30</td>\n",
       "      <td>0</td>\n",
       "    </tr>\n",
       "    <tr>\n",
       "      <th>15</th>\n",
       "      <td>Nov18_03-37-00_workstationgjnx_25_nt_10_run_0</td>\n",
       "      <td>25</td>\n",
       "      <td>10</td>\n",
       "      <td>0</td>\n",
       "    </tr>\n",
       "    <tr>\n",
       "      <th>16</th>\n",
       "      <td>Nov18_03-58-05_workstationgjnx_25_nt_15_run_0</td>\n",
       "      <td>25</td>\n",
       "      <td>15</td>\n",
       "      <td>0</td>\n",
       "    </tr>\n",
       "    <tr>\n",
       "      <th>17</th>\n",
       "      <td>Nov18_04-02-33_workstationgjnx_25_nt_20_run_0</td>\n",
       "      <td>25</td>\n",
       "      <td>20</td>\n",
       "      <td>0</td>\n",
       "    </tr>\n",
       "    <tr>\n",
       "      <th>18</th>\n",
       "      <td>Nov18_04-19-38_workstationgjnx_25_nt_25_run_0</td>\n",
       "      <td>25</td>\n",
       "      <td>25</td>\n",
       "      <td>0</td>\n",
       "    </tr>\n",
       "    <tr>\n",
       "      <th>19</th>\n",
       "      <td>Nov18_04-42-45_workstationgjnx_25_nt_30_run_0</td>\n",
       "      <td>25</td>\n",
       "      <td>30</td>\n",
       "      <td>0</td>\n",
       "    </tr>\n",
       "    <tr>\n",
       "      <th>20</th>\n",
       "      <td>Nov18_05-05-35_workstationgjnx_30_nt_10_run_0</td>\n",
       "      <td>30</td>\n",
       "      <td>10</td>\n",
       "      <td>0</td>\n",
       "    </tr>\n",
       "    <tr>\n",
       "      <th>21</th>\n",
       "      <td>Nov18_05-28-53_workstationgjnx_30_nt_15_run_0</td>\n",
       "      <td>30</td>\n",
       "      <td>15</td>\n",
       "      <td>0</td>\n",
       "    </tr>\n",
       "    <tr>\n",
       "      <th>22</th>\n",
       "      <td>Nov18_05-51-51_workstationgjnx_30_nt_20_run_0</td>\n",
       "      <td>30</td>\n",
       "      <td>20</td>\n",
       "      <td>0</td>\n",
       "    </tr>\n",
       "    <tr>\n",
       "      <th>23</th>\n",
       "      <td>Nov18_05-56-56_workstationgjnx_30_nt_25_run_0</td>\n",
       "      <td>30</td>\n",
       "      <td>25</td>\n",
       "      <td>0</td>\n",
       "    </tr>\n",
       "    <tr>\n",
       "      <th>24</th>\n",
       "      <td>Nov18_06-09-32_workstationgjnx_30_nt_30_run_0</td>\n",
       "      <td>30</td>\n",
       "      <td>30</td>\n",
       "      <td>0</td>\n",
       "    </tr>\n",
       "  </tbody>\n",
       "</table>\n",
       "</div>"
      ],
      "text/plain": [
       "                                            model  n_x  n_t  run\n",
       "0   Nov17_21-32-35_workstationgjnx_10_nt_10_run_0   10   10    0\n",
       "1   Nov17_21-33-48_workstationgjnx_10_nt_15_run_0   10   15    0\n",
       "2   Nov17_21-35-38_workstationgjnx_10_nt_20_run_0   10   20    0\n",
       "3   Nov17_21-37-09_workstationgjnx_10_nt_25_run_0   10   25    0\n",
       "4   Nov17_21-51-52_workstationgjnx_10_nt_30_run_0   10   30    0\n",
       "5   Nov17_21-57-24_workstationgjnx_15_nt_10_run_0   15   10    0\n",
       "6   Nov17_22-17-51_workstationgjnx_15_nt_15_run_0   15   15    0\n",
       "7   Nov17_22-41-07_workstationgjnx_15_nt_20_run_0   15   20    0\n",
       "8   Nov17_23-29-19_workstationgjnx_15_nt_25_run_0   15   25    0\n",
       "9   Nov18_00-22-08_workstationgjnx_15_nt_30_run_0   15   30    0\n",
       "10  Nov18_01-23-16_workstationgjnx_20_nt_10_run_0   20   10    0\n",
       "11  Nov18_01-51-16_workstationgjnx_20_nt_15_run_0   20   15    0\n",
       "12  Nov18_02-37-39_workstationgjnx_20_nt_20_run_0   20   20    0\n",
       "13  Nov18_02-54-59_workstationgjnx_20_nt_25_run_0   20   25    0\n",
       "14  Nov18_03-31-13_workstationgjnx_20_nt_30_run_0   20   30    0\n",
       "15  Nov18_03-37-00_workstationgjnx_25_nt_10_run_0   25   10    0\n",
       "16  Nov18_03-58-05_workstationgjnx_25_nt_15_run_0   25   15    0\n",
       "17  Nov18_04-02-33_workstationgjnx_25_nt_20_run_0   25   20    0\n",
       "18  Nov18_04-19-38_workstationgjnx_25_nt_25_run_0   25   25    0\n",
       "19  Nov18_04-42-45_workstationgjnx_25_nt_30_run_0   25   30    0\n",
       "20  Nov18_05-05-35_workstationgjnx_30_nt_10_run_0   30   10    0\n",
       "21  Nov18_05-28-53_workstationgjnx_30_nt_15_run_0   30   15    0\n",
       "22  Nov18_05-51-51_workstationgjnx_30_nt_20_run_0   30   20    0\n",
       "23  Nov18_05-56-56_workstationgjnx_30_nt_25_run_0   30   25    0\n",
       "24  Nov18_06-09-32_workstationgjnx_30_nt_30_run_0   30   30    0"
      ]
     },
     "execution_count": 327,
     "metadata": {},
     "output_type": "execute_result"
    }
   ],
   "source": [
    "df"
   ]
  },
  {
   "cell_type": "code",
   "execution_count": 328,
   "metadata": {},
   "outputs": [],
   "source": [
    "# Loading data\n",
    "deepmod_data = [load_tensorboard(path.join(data_folder, row.model)) for idx, row in df.iterrows()]\n",
    "coeff_keys = natsorted([key for key in deepmod_data[0].keys() if key[:9] == 'estimator'])"
   ]
  },
  {
   "cell_type": "code",
   "execution_count": 329,
   "metadata": {},
   "outputs": [],
   "source": [
    "# Checking if correct\n",
    "df['correct'] = np.stack([correct_eq(data.tail(1)[coeff_keys].to_numpy().T) for data in deepmod_data], axis=-1)\n",
    "df['coeffs'] = [data.tail(1)[coeff_keys].to_numpy().T for data in deepmod_data]"
   ]
  },
  {
   "cell_type": "code",
   "execution_count": 330,
   "metadata": {},
   "outputs": [],
   "source": [
    "df.to_pickle('deepmod_2d_noisy.pd')"
   ]
  },
  {
   "cell_type": "code",
   "execution_count": 331,
   "metadata": {},
   "outputs": [
    {
     "data": {
      "image/png": "[encoded data removed]",
      "text/plain": [
       "<Figure size 432x288 with 2 Axes>"
      ]
     },
     "metadata": {
      "needs_background": "light"
     },
     "output_type": "display_data"
    }
   ],
   "source": [
    "ax = sns.heatmap(df.pivot(index='n_t', columns='n_x', values='correct'))\n",
    "ax.invert_yaxis()"
   ]
  },
  {
   "cell_type": "code",
   "execution_count": 274,
   "metadata": {},
   "outputs": [
    {
     "data": {
      "image/png": "[encoded data removed]",
      "text/plain": [
       "<Figure size 432x288 with 2 Axes>"
      ]
     },
     "metadata": {
      "needs_background": "light"
     },
     "output_type": "display_data"
    }
   ],
   "source": [
    "ax = sns.heatmap(df.pivot(index='n_t', columns='n_x', values='correct'))\n",
    "ax.invert_yaxis()"
   ]
  },
  {
   "cell_type": "code",
   "execution_count": null,
   "metadata": {},
   "outputs": [],
   "source": []
  }
 ],
 "metadata": {
  "kernelspec": {
   "display_name": "Python 3",
   "language": "python",
   "name": "python3"
  },
  "language_info": {
   "codemirror_mode": {
    "name": "ipython",
    "version": 3
   },
   "file_extension": ".py",
   "mimetype": "text/x-python",
   "name": "python",
   "nbconvert_exporter": "python",
   "pygments_lexer": "ipython3",
   "version": "3.8.3"
  }
 },
 "nbformat": 4,
 "nbformat_minor": 4
}
