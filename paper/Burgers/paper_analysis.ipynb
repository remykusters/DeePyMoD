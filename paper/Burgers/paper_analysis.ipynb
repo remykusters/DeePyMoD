{
 "cells": [
  {
   "cell_type": "code",
   "execution_count": 1,
   "metadata": {},
   "outputs": [],
   "source": [
    "import csv\n",
    "import torch\n",
    "import numpy as np\n",
    "import matplotlib.pyplot as plt\n",
    "from scipy.interpolate import interp1d\n",
    "\n",
    "# DeepMoD stuff\n",
    "from deepymod import DeepMoD\n",
    "from deepymod.model.func_approx import NN, Siren\n",
    "from deepymod.model.library import Library1D\n",
    "from deepymod.model.constraint import LeastSquares\n",
    "from deepymod.model.sparse_estimators import Clustering, Threshold, PDEFIND\n",
    "from deepymod.training import train\n",
    "from deepymod.analysis import load_tensorboard\n",
    "#from derivatives import library, finite_diff, spline_diff\n",
    "from sklearn.linear_model import LassoCV\n",
    "\n",
    "from deepymod.training.sparsity_scheduler import TrainTestPeriodic\n",
    "if torch.cuda.is_available():\n",
    "    device = 'cuda'\n",
    "else:\n",
    "    device = 'cpu'\n",
    "# Settings for reproducibility\n",
    "np.random.seed(42)\n",
    "torch.manual_seed(0)\n",
    "torch.backends.cudnn.deterministic = True\n",
    "torch.backends.cudnn.benchmark = False"
   ]
  },
  {
   "cell_type": "markdown",
   "metadata": {},
   "source": [
    "# Figure paper"
   ]
  },
  {
   "cell_type": "markdown",
   "metadata": {},
   "source": [
    "## Results DeepMoD"
   ]
  },
  {
   "cell_type": "code",
   "execution_count": 2,
   "metadata": {},
   "outputs": [],
   "source": [
    "mask = np.array([False,False,True,False,False,True,False,False,False,False,False])"
   ]
  },
  {
   "cell_type": "code",
   "execution_count": 3,
   "metadata": {},
   "outputs": [
    {
     "name": "stdout",
     "output_type": "stream",
     "text": [
      "wrong\n",
      "correct\n"
     ]
    },
    {
     "ename": "IndexError",
     "evalue": "list index out of range",
     "output_type": "error",
     "traceback": [
      "\u001b[0;31m---------------------------------------------------------------------------\u001b[0m",
      "\u001b[0;31mIndexError\u001b[0m                                Traceback (most recent call last)",
      "\u001b[0;32m<ipython-input-3-e35f96de4f11>\u001b[0m in \u001b[0;36m<module>\u001b[0;34m\u001b[0m\n\u001b[1;32m      1\u001b[0m \u001b[0mrandom_list\u001b[0m \u001b[0;34m=\u001b[0m \u001b[0;34m[\u001b[0m\u001b[0;34m]\u001b[0m\u001b[0;34m\u001b[0m\u001b[0;34m\u001b[0m\u001b[0m\n\u001b[1;32m      2\u001b[0m \u001b[0;32mfor\u001b[0m \u001b[0mk\u001b[0m \u001b[0;32min\u001b[0m \u001b[0;34m[\u001b[0m\u001b[0;36m4\u001b[0m\u001b[0;34m,\u001b[0m\u001b[0;36m8\u001b[0m\u001b[0;34m,\u001b[0m\u001b[0;36m12\u001b[0m\u001b[0;34m]\u001b[0m\u001b[0;34m:\u001b[0m\u001b[0;34m\u001b[0m\u001b[0;34m\u001b[0m\u001b[0m\n\u001b[0;32m----> 3\u001b[0;31m     \u001b[0mdf\u001b[0m \u001b[0;34m=\u001b[0m \u001b[0mload_tensorboard\u001b[0m\u001b[0;34m(\u001b[0m\u001b[0;34m'runs/space_grid'\u001b[0m\u001b[0;34m+\u001b[0m\u001b[0mstr\u001b[0m\u001b[0;34m(\u001b[0m\u001b[0mk\u001b[0m\u001b[0;34m)\u001b[0m\u001b[0;34m)\u001b[0m\u001b[0;34m\u001b[0m\u001b[0;34m\u001b[0m\u001b[0m\n\u001b[0m\u001b[1;32m      4\u001b[0m     \u001b[0mxi\u001b[0m \u001b[0;34m=\u001b[0m \u001b[0mnp\u001b[0m\u001b[0;34m.\u001b[0m\u001b[0mabs\u001b[0m\u001b[0;34m(\u001b[0m\u001b[0mnp\u001b[0m\u001b[0;34m.\u001b[0m\u001b[0marray\u001b[0m\u001b[0;34m(\u001b[0m\u001b[0;34m[\u001b[0m\u001b[0mdf\u001b[0m\u001b[0;34m.\u001b[0m\u001b[0mloc\u001b[0m\u001b[0;34m[\u001b[0m\u001b[0;34m:\u001b[0m\u001b[0;34m,\u001b[0m\u001b[0;34m'coeffs_output_0_coeff_'\u001b[0m\u001b[0;34m+\u001b[0m\u001b[0mstr\u001b[0m\u001b[0;34m(\u001b[0m\u001b[0mi\u001b[0m\u001b[0;34m)\u001b[0m\u001b[0;34m]\u001b[0m \u001b[0;32mfor\u001b[0m \u001b[0mi\u001b[0m \u001b[0;32min\u001b[0m \u001b[0mnp\u001b[0m\u001b[0;34m.\u001b[0m\u001b[0marange\u001b[0m\u001b[0;34m(\u001b[0m\u001b[0;36m0\u001b[0m\u001b[0;34m,\u001b[0m\u001b[0;36m11\u001b[0m\u001b[0;34m)\u001b[0m\u001b[0;34m]\u001b[0m\u001b[0;34m)\u001b[0m\u001b[0;34m)\u001b[0m\u001b[0;34m[\u001b[0m\u001b[0;34m:\u001b[0m\u001b[0;34m,\u001b[0m\u001b[0;34m-\u001b[0m\u001b[0;36m1\u001b[0m\u001b[0;34m]\u001b[0m\u001b[0;34m\u001b[0m\u001b[0;34m\u001b[0m\u001b[0m\n\u001b[1;32m      5\u001b[0m     \u001b[0;32mif\u001b[0m \u001b[0mnp\u001b[0m\u001b[0;34m.\u001b[0m\u001b[0mma\u001b[0m\u001b[0;34m.\u001b[0m\u001b[0mallequal\u001b[0m\u001b[0;34m(\u001b[0m\u001b[0mxi\u001b[0m\u001b[0;34m.\u001b[0m\u001b[0mastype\u001b[0m\u001b[0;34m(\u001b[0m\u001b[0mbool\u001b[0m\u001b[0;34m)\u001b[0m\u001b[0;34m,\u001b[0m \u001b[0mmask\u001b[0m\u001b[0;34m)\u001b[0m \u001b[0;34m==\u001b[0m \u001b[0;32mTrue\u001b[0m\u001b[0;34m:\u001b[0m\u001b[0;34m\u001b[0m\u001b[0;34m\u001b[0m\u001b[0m\n",
      "\u001b[0;32m~/Github/DeePyMoD_sensor/src/deepymod/analysis/load_tensorboard.py\u001b[0m in \u001b[0;36mload_tensorboard\u001b[0;34m(path)\u001b[0m\n\u001b[1;32m     28\u001b[0m         \u001b[0mdata\u001b[0m \u001b[0;34m=\u001b[0m \u001b[0;34m[\u001b[0m\u001b[0;34m[\u001b[0m\u001b[0mevent\u001b[0m\u001b[0;34m.\u001b[0m\u001b[0mvalue\u001b[0m \u001b[0;32mfor\u001b[0m \u001b[0mevent\u001b[0m \u001b[0;32min\u001b[0m \u001b[0msummary_iterator\u001b[0m\u001b[0;34m.\u001b[0m\u001b[0mScalars\u001b[0m\u001b[0;34m(\u001b[0m\u001b[0mtag\u001b[0m\u001b[0;34m)\u001b[0m\u001b[0;34m]\u001b[0m \u001b[0;32mfor\u001b[0m \u001b[0mtag\u001b[0m \u001b[0;32min\u001b[0m \u001b[0mtags\u001b[0m\u001b[0;34m]\u001b[0m\u001b[0;34m\u001b[0m\u001b[0;34m\u001b[0m\u001b[0m\n\u001b[1;32m     29\u001b[0m         \u001b[0;32mif\u001b[0m \u001b[0msteps\u001b[0m \u001b[0;32mis\u001b[0m \u001b[0;32mNone\u001b[0m\u001b[0;34m:\u001b[0m\u001b[0;34m\u001b[0m\u001b[0;34m\u001b[0m\u001b[0m\n\u001b[0;32m---> 30\u001b[0;31m             \u001b[0msteps\u001b[0m \u001b[0;34m=\u001b[0m \u001b[0;34m[\u001b[0m\u001b[0mevent\u001b[0m\u001b[0;34m.\u001b[0m\u001b[0mstep\u001b[0m \u001b[0;32mfor\u001b[0m \u001b[0mevent\u001b[0m \u001b[0;32min\u001b[0m \u001b[0msummary_iterator\u001b[0m\u001b[0;34m.\u001b[0m\u001b[0mScalars\u001b[0m\u001b[0;34m(\u001b[0m\u001b[0mtags\u001b[0m\u001b[0;34m[\u001b[0m\u001b[0;36m0\u001b[0m\u001b[0;34m]\u001b[0m\u001b[0;34m)\u001b[0m\u001b[0;34m]\u001b[0m\u001b[0;34m\u001b[0m\u001b[0;34m\u001b[0m\u001b[0m\n\u001b[0m\u001b[1;32m     31\u001b[0m \u001b[0;34m\u001b[0m\u001b[0m\n\u001b[1;32m     32\u001b[0m         \u001b[0;31m# Adding to dataframe\u001b[0m\u001b[0;34m\u001b[0m\u001b[0;34m\u001b[0m\u001b[0;34m\u001b[0m\u001b[0m\n",
      "\u001b[0;31mIndexError\u001b[0m: list index out of range"
     ]
    }
   ],
   "source": [
    "random_list = []\n",
    "for k in [4,8,12]:\n",
    "    df = load_tensorboard('runs/space_grid'+str(k))\n",
    "    xi = np.abs(np.array([df.loc[:,'coeffs_output_0_coeff_'+str(i)] for i in np.arange(0,11)]))[:,-1]\n",
    "    if np.ma.allequal(xi.astype(bool), mask) == True:\n",
    "        random_list.append(1)\n",
    "        print('correct')\n",
    "    else: \n",
    "        random_list.append(0)\n",
    "        print('wrong')"
   ]
  },
  {
   "cell_type": "code",
   "execution_count": 4,
   "metadata": {},
   "outputs": [
    {
     "name": "stdout",
     "output_type": "stream",
     "text": [
      "wrong\n",
      "correct\n",
      "wrong\n",
      "correct\n",
      "wrong\n",
      "correct\n",
      "correct\n",
      "correct\n",
      "correct\n",
      "correct\n",
      "correct\n"
     ]
    }
   ],
   "source": [
    "random_list = []\n",
    "for k in [2,4,6,8,10,12,14,16,20,25,30]:\n",
    "    df = load_tensorboard('runs/rand'+str(k))\n",
    "    xi = np.abs(np.array([df.loc[:,'coeffs_output_0_coeff_'+str(i)] for i in np.arange(0,11)]))[:,-1]\n",
    "    if np.ma.allequal(xi.astype(bool), mask) == True:\n",
    "        random_list.append(1)\n",
    "        print('correct')\n",
    "    else: \n",
    "        random_list.append(0)\n",
    "        print('wrong')"
   ]
  },
  {
   "cell_type": "code",
   "execution_count": 9,
   "metadata": {},
   "outputs": [
    {
     "name": "stdout",
     "output_type": "stream",
     "text": [
      "wrong\n",
      "correct\n",
      "correct\n",
      "correct\n",
      "correct\n",
      "correct\n",
      "correct\n",
      "correct\n",
      "correct\n",
      "correct\n",
      "correct\n"
     ]
    }
   ],
   "source": [
    "random_grid_list = []\n",
    "for k in [2,4,6,8,10,12,14,16,20,25,30]:\n",
    "    df = load_tensorboard('runs/random_grid'+str(k))\n",
    "    xi = np.abs(np.array([df.loc[:,'coeffs_output_0_coeff_'+str(i)] for i in np.arange(0,11)]))[:,-1]\n",
    "    if np.ma.allequal(xi.astype(bool), mask) == True:\n",
    "        random_grid_list.append(1)\n",
    "        print('correct')\n",
    "    else: \n",
    "        random_grid_list.append(0)\n",
    "        print('wrong')"
   ]
  },
  {
   "cell_type": "code",
   "execution_count": 12,
   "metadata": {},
   "outputs": [
    {
     "name": "stdout",
     "output_type": "stream",
     "text": [
      "wrong\n",
      "wrong\n",
      "wrong\n",
      "wrong\n",
      "wrong\n",
      "wrong\n",
      "wrong\n",
      "wrong\n",
      "correct\n",
      "correct\n"
     ]
    }
   ],
   "source": [
    "grid_list = [0]\n",
    "for k in [4,6,8,10,12,14,16,20,25,30]:\n",
    "    df = load_tensorboard('runs/grid'+str(k))\n",
    "    xi = np.abs(np.array([df.loc[:,'coeffs_output_0_coeff_'+str(i)] for i in np.arange(0,11)]))[:,-1]\n",
    "    if np.ma.allequal(xi.astype(bool), mask) == True:\n",
    "        grid_list.append(1)\n",
    "        print('correct')\n",
    "    else: \n",
    "        grid_list.append(0)\n",
    "        print('wrong')"
   ]
  },
  {
   "cell_type": "code",
   "execution_count": 13,
   "metadata": {},
   "outputs": [],
   "source": [
    "length = 8 \n",
    "char_len = np.sqrt(0.1)"
   ]
  },
  {
   "cell_type": "code",
   "execution_count": 41,
   "metadata": {},
   "outputs": [],
   "source": [
    "num_sam = [2,4,6,8,10,12,14,16,20,25,30]"
   ]
  },
  {
   "cell_type": "code",
   "execution_count": 42,
   "metadata": {},
   "outputs": [],
   "source": [
    "x_labs = 8/(np.array(num_sam)*char_len)\n",
    "x_labs = [str(round(i, 2)) for i in x_labs]"
   ]
  },
  {
   "cell_type": "code",
   "execution_count": 43,
   "metadata": {},
   "outputs": [
    {
     "data": {
      "text/plain": [
       "['12.65',\n",
       " '6.32',\n",
       " '4.22',\n",
       " '3.16',\n",
       " '2.53',\n",
       " '2.11',\n",
       " '1.81',\n",
       " '1.58',\n",
       " '1.26',\n",
       " '1.01',\n",
       " '0.84']"
      ]
     },
     "execution_count": 43,
     "metadata": {},
     "output_type": "execute_result"
    }
   ],
   "source": [
    "x_labs"
   ]
  },
  {
   "cell_type": "code",
   "execution_count": 46,
   "metadata": {},
   "outputs": [
    {
     "data": {
      "text/plain": [
       "[]"
      ]
     },
     "execution_count": 46,
     "metadata": {},
     "output_type": "execute_result"
    },
    {
     "data": {
      "image/png": "[encoded data removed]",
      "text/plain": [
       "<Figure size 432x216 with 1 Axes>"
      ]
     },
     "metadata": {
      "needs_background": "light"
     },
     "output_type": "display_data"
    }
   ],
   "source": [
    "random_grid_list\n",
    "plt.figure(figsize=(6, 3))\n",
    "plt.imshow(np.array((grid_list,random_grid_list,random_list)),vmin=0, vmax=0.1)\n",
    "plt.xlabel('$\\Delta x/ l$')\n",
    "plt.ylabel('Type')\n",
    "plt.yticks([0,1,2],['Grid', 'Random-Grid', 'Fully Random'])\n",
    "plt.xticks([0,1,2,3,4,5,6,7,8,9,10],x_labs)\n",
    "plt.plot()"
   ]
  },
  {
   "cell_type": "code",
   "execution_count": 19,
   "metadata": {},
   "outputs": [
    {
     "name": "stdout",
     "output_type": "stream",
     "text": [
      "correct\n"
     ]
    }
   ],
   "source": [
    "if np.ma.allequal(xi.astype(bool), mask) == True:\n",
    "    print('correct')\n",
    "else: \n",
    "    print('wrong')"
   ]
  },
  {
   "cell_type": "code",
   "execution_count": 24,
   "metadata": {},
   "outputs": [],
   "source": [
    "df = load_tensorboard('runs/13/')\n",
    "xi_13 = np.abs(np.array([df.loc[:,'coeffs_output_0_coeff_'+str(i)] for i in np.arange(0,6)]))[:,-1]\n",
    "df = load_tensorboard('runs/11/')\n",
    "xi_11 = np.abs(np.array([df.loc[:,'coeffs_output_0_coeff_'+str(i)] for i in np.arange(0,6)]))[:,-1]\n",
    "df = load_tensorboard('runs/9/')\n",
    "xi_9 = np.abs(np.array([df.loc[:,'coeffs_output_0_coeff_'+str(i)] for i in np.arange(0,6)]))[:,-1]\n",
    "df = load_tensorboard('runs/7/')\n",
    "xi_7 = np.abs(np.array([df.loc[:,'coeffs_output_0_coeff_'+str(i)] for i in np.arange(0,6)]))[:,-1]\n",
    "df = load_tensorboard('runs/5c/')\n",
    "xi_5 = np.abs(np.array([df.loc[:,'coeffs_output_0_coeff_'+str(i)] for i in np.arange(0,6)]))[:,-1]"
   ]
  },
  {
   "cell_type": "code",
   "execution_count": 25,
   "metadata": {},
   "outputs": [
    {
     "data": {
      "image/png": "[encoded data removed]",
      "text/plain": [
       "<Figure size 216x216 with 1 Axes>"
      ]
     },
     "metadata": {
      "needs_background": "light"
     },
     "output_type": "display_data"
    }
   ],
   "source": [
    "plt.figure(figsize=(3, 3))\n",
    "plt.imshow(np.array((xi_13,xi_11,xi_9,xi_7,xi_5)),vmin=0, vmax=0.1)\n",
    "plt.xlabel('Coefficients')\n",
    "plt.ylabel('Spatial sensors')\n",
    "plt.yticks([0,1,2,3,4],['13', '11', '9', '7','5'])\n",
    "plt.xticks([0,1,2,3,4,5],[1,'$u_x$','$u_{xx}$','$u$','$u u_x$','$u u_{xx}$' ])\n",
    "plt.savefig('cable_eq_1.pdf')"
   ]
  },
  {
   "cell_type": "code",
   "execution_count": null,
   "metadata": {},
   "outputs": [],
   "source": []
  }
 ],
 "metadata": {
  "kernelspec": {
   "display_name": "Python 3",
   "language": "python",
   "name": "python3"
  },
  "language_info": {
   "codemirror_mode": {
    "name": "ipython",
    "version": 3
   },
   "file_extension": ".py",
   "mimetype": "text/x-python",
   "name": "python",
   "nbconvert_exporter": "python",
   "pygments_lexer": "ipython3",
   "version": "3.8.5"
  }
 },
 "nbformat": 4,
 "nbformat_minor": 4
}
